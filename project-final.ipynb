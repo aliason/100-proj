{
 "cells": [
  {
   "cell_type": "code",
   "execution_count": 55,
   "id": "0daa3ada-f0f0-4ce8-953d-f4186c613ee9",
   "metadata": {
    "tags": []
   },
   "outputs": [
    {
     "data": {
      "text/plain": [
       "RendererRegistry.enable('mimetype')"
      ]
     },
     "execution_count": 55,
     "metadata": {},
     "output_type": "execute_result"
    }
   ],
   "source": [
    "import numpy as np\n",
    "import pandas as pd\n",
    "import altair as alt\n",
    "import statsmodels.api as sm\n",
    "from scipy import linalg\n",
    "from statsmodels.multivariate.pca import PCA\n",
    "\n",
    "alt.data_transformers.disable_max_rows()\n",
    "alt.renderers.enable('mimetype')"
   ]
  },
  {
   "cell_type": "code",
   "execution_count": 56,
   "id": "5917ffc7-3ddc-4b9d-8692-e08aee74857c",
   "metadata": {
    "tags": []
   },
   "outputs": [],
   "source": [
    "fertility = pd.read_csv('data/fertility.csv')\n",
    "country = pd.read_csv('data/country-indicators.csv')\n",
    "gender = pd.read_csv('data/gender-data.csv')"
   ]
  },
  {
   "cell_type": "markdown",
   "id": "b1d66d6d-8733-4c5c-a2af-c20299720a6c",
   "metadata": {},
   "source": [
    "## Fertity Rates\n",
    "by Alice Zhang "
   ]
  },
  {
   "cell_type": "markdown",
   "id": "e328ff8b-f2c0-4c83-808c-60781944dd82",
   "metadata": {},
   "source": [
    "### Abstract\n",
    "This research project examines the decline in fertility rates acrossed select developed nations in 2018. We investigate the relationships between fertility, economic welfare, and social welfare by analyzing the contribution of select country, gender, and social indicators to total fertility rates. \n",
    "\n",
    "Since we are working with a relatively small data set which includes only a subset of all possible indicators, our results will not be generalizable to all countries. Because the data only pertains to the year 2018, our results are not reflective of patterns / trends that may occur across time. There will be inherent biases due to missingness. In addition, we cannot account for all possible confounds. \n"
   ]
  },
  {
   "cell_type": "markdown",
   "id": "6351e47a-b8a1-430a-9308-1d95adcb1dea",
   "metadata": {
    "tags": []
   },
   "source": [
    "## Introduction"
   ]
  },
  {
   "cell_type": "markdown",
   "id": "790b275a-39fb-4bfb-b8d1-fde15b51048a",
   "metadata": {},
   "source": [
    "### Background\n",
    "\n",
    "Over the late 50 years the global fertility rate has halved. The modernization of socieities – bringing improved health and lower mortality rates – was coupled with a stark decline in fertility rates. We in turn saw accelerated population growth. This rapid population growth was predicted to come to an end as the fertility rate declines and approaches [2 children per woman](https://ourworldindata.org/fertility-rate#data-sources). Today (as of 2021), the global fertility rate is 1.66 and [falling](https://www.cbo.gov/publication/58912#:~:text=In%20CBO's%20projections%2C%20the%20total,where%20it%20remains%20through%202053). The total fertility rate is measured as the average number of children per woman.  \n",
    "\n",
    "\n",
    "[Current perspectives](https://ourworldindata.org/fertility-rate#data-sources) propose that this sharp decline in fertility rates is due to the social mobility of women – through education, labor force participation, and strengthened women’s rights – and the increased well-being and status of children. We seek to examine such perspectives in exploring the relationship between fertility rates and country, gender, and human development indicators. \n"
   ]
  },
  {
   "cell_type": "markdown",
   "id": "54ecf067-edca-4a74-9ca3-039bc88602fd",
   "metadata": {},
   "source": [
    "### Sources\n",
    "\n",
    "Data are sourced from the Human Development Reports published by the [United Nations Development Programme](https://www.undp.org/) and World Development Indicators published by the [World Bank](https://data.worldbank.org/). Preprocessed datasets were imported from lab06. "
   ]
  },
  {
   "cell_type": "markdown",
   "id": "5f96f6d6-69c5-4a10-9da9-76a50d31e11b",
   "metadata": {
    "tags": []
   },
   "source": [
    "### Motivation\n",
    "\n",
    "From an economic standpoint, improved welfare should *increase* fertility rates. Modernization has largely increased the success of reproduction by increasing access to resources such as immunizations and thus decreasing mortality. The pre-modern era was characterized by high mortality rates and a plethora of unpreventable disease; yet, fertility rates were higher than ever. Was it always a matter of scarcity? Could it be that women viewed reproducing as more desirable back then, purely because they had little opportunity to do so?\n",
    "\n",
    "Modern researchers are also interested in the impact of social mobility and status enchancement on fertility. As modernization takes course, women are becoming increasingly more career-oriented, shrinking the wage gap and breaking the glass ceiling. Does upward social mobility and a shift in social conventions lead women to reject gender normative roles such as bearing children? \n",
    "\n",
    "\n",
    "In this project, we seek to examine both perspectives. Potential questions of interest include: \n",
    "\n",
    "* Which indicators are most likely to be predictive of a country’s fertility rate? \n",
    "* Does improved well-being reduce individuals’ willingness to reproduce? \n",
    "* How does the upward social mobility of women impact the fertility rate? \n",
    "* How well do our selected factors explain fertility rate?  \n"
   ]
  },
  {
   "cell_type": "markdown",
   "id": "e2899dda-05d9-4824-8977-0ecdd749333a",
   "metadata": {},
   "source": [
    "### Data Description\n",
    "\n",
    "Our datasets measures human development indices, world development indices, and gender development indices of countries around the world. We have merged HDI (Human Development Index) and GDI (Gender Development Index) data based on country, and extracted both gender and non-gender data from the WDI (World Development Index) dataset to produce the current datasets. \n",
    "\n",
    "We will focus on the variables GDP per capita, immunization, life expectancy at birth, expected years of schooling, as well as two derived variables HDI and GDI, and analyze them in relation to total fertility rates. \n",
    "\n",
    "The Human Development Index (HDI) is a summary measure of achievements in three key dimensions of human development: health, measured by life expectancy; education, measured by expected and mean years of schooling; and standard of living, measured by GNI per capita (2017 PPP$). The HDI is the geometric mean of normalized indices for each of the three dimensions. The Gender Development Index (GDI) measures gender inequalities in achievement in three dimensions of human development: health, measured by female and male life expectancy at birth; education, measured by female and male expected years of schooling for children and female and male mean years of schooling for adults ages 25 years and older; and command over economic resources, measured by female and male estimated earned income. Technical details will not be discussed; more information can be found [here](https://hdr.undp.org/system/files/documents/technical-notes-calculating-human-development-indices.pdf). \n",
    "\n",
    "GDP per capita is gross domestic product divided by midyear population. GDP is the sum of gross value added by all resident producers in the economy plus any product taxes and minus any subsidies not included in the value of the products, excluding the value of depreciation. Data are in current U.S. dollars. The immunization rate and is calculated as an average of the percentage of children ages 12-23 months who has received a DPT immunization and the percentage of those who has received a measles immunization. \n",
    "\n",
    "As women are exposed to higher levels of education, they also gain more access to career opportunities. Since educational achievement is highly correlated with higher-paying jobs and career stability, education can serve as a proxy for social status and mobility. It is acknowledged that (un)employment levels are more representative of social mobility; however, there was too much missingness for the variable to be included in our analysis.\n",
    "\n",
    "Life expectancy is another great indicator of health. Note that HDI is partly derived from life expectancy. We choose to include both variables to isolate the effects of life expectancy on fertility rates, as well as a calculated variable which includes life expectancy as a component.\n",
    "\n",
    "\n",
    "Sampling design and methods are assumed to be reliable as data are extracted from reputable sources. There are, however, limitations that prevent these variables from being completely representative of the indices they purport to measure, such as data reporting errors and translation errors, which may occur when normalizing all data to the same units of measurement.\n"
   ]
  },
  {
   "cell_type": "markdown",
   "id": "f39edab6-31ac-4c7c-baeb-0b24806a2857",
   "metadata": {
    "tags": []
   },
   "source": [
    "#### Variable Description"
   ]
  },
  {
   "cell_type": "markdown",
   "id": "f5cd0a14-e97c-4280-a800-1abaaf33e168",
   "metadata": {
    "tags": []
   },
   "source": [
    "The variables we'll work with are the following:\n",
    "\n",
    "Dataset | Name | Variable | Units\n",
    "---|---|---|---\n",
    "`fertility` | `fertility_total` | National fertility rate | Average number of children per woman\n",
    "`country` | `gdp_percap` | GDP per capita | current U.S. dollars\n",
    "`country` | `immunization` | Average immunization rate| Percentage (value 1-100)\n",
    "`country` | `gdi` | Gender development index | Index between 0 and 1 (0 is lowest, 1 is highest)\n",
    "`country` | `hdi` | Human development index | Index between 0 and 1 (0 is lowest, 1 is highest)\n",
    "`gender` | `edu_expected_yrs_f` | Expected years of education for adult women | Years\n",
    "`gender` | `life_birthf` | Life expectancy at birth, female (years) | Years\n"
   ]
  },
  {
   "cell_type": "markdown",
   "id": "0ad94eaf-ffdd-469b-9a4c-3377c628bc9f",
   "metadata": {
    "tags": []
   },
   "source": [
    "### Project Roadmap\n",
    "\n",
    "First, we will perform exploratory analysis of the variables of interest, examining correlation coefficients and sources of variation. We will then address each question of interest, using regression analysis to determine the strength and direction of relationships. To aid our analysis, we will create relevant variables and perform necessary transformations. To aid with our interpretations, we produce meaningful visualization. We also compare the relative contributions of social and economic indicators to fertity rates. The results of this study will enhance our understanding of the factors that contribute to fluctuations in fertility rates and inform policies aimed at population control.\n"
   ]
  },
  {
   "cell_type": "markdown",
   "id": "06e87d03-d77d-4d08-bcdf-6b2e7636e39c",
   "metadata": {},
   "source": [
    "## Exploratory Data Analysis"
   ]
  },
  {
   "cell_type": "markdown",
   "id": "e2e8c9d8-6a1d-4606-85a0-038e8d4b730b",
   "metadata": {},
   "source": [
    "In this section, we perform some preliminary analysis through visualization and statistical analysis of the variables. Our goal is to identify relationships between the covariates and the response variable and among the covariates."
   ]
  },
  {
   "cell_type": "markdown",
   "id": "bbf455de-75e4-4feb-8efd-90cd7cdc918c",
   "metadata": {},
   "source": [
    "### Correlation analysis"
   ]
  },
  {
   "cell_type": "code",
   "execution_count": 57,
   "id": "b857e492-7265-457e-959d-fec506e0a361",
   "metadata": {
    "tags": []
   },
   "outputs": [
    {
     "data": {
      "text/html": [
       "<div>\n",
       "<style scoped>\n",
       "    .dataframe tbody tr th:only-of-type {\n",
       "        vertical-align: middle;\n",
       "    }\n",
       "\n",
       "    .dataframe tbody tr th {\n",
       "        vertical-align: top;\n",
       "    }\n",
       "\n",
       "    .dataframe thead th {\n",
       "        text-align: right;\n",
       "    }\n",
       "</style>\n",
       "<table border=\"1\" class=\"dataframe\">\n",
       "  <thead>\n",
       "    <tr style=\"text-align: right;\">\n",
       "      <th></th>\n",
       "      <th>fertility_total</th>\n",
       "      <th>educ_expected_yrs_f</th>\n",
       "      <th>life_birthf</th>\n",
       "      <th>hdi</th>\n",
       "      <th>gdi</th>\n",
       "      <th>gdp_percap</th>\n",
       "      <th>immunization</th>\n",
       "    </tr>\n",
       "    <tr>\n",
       "      <th>Country</th>\n",
       "      <th></th>\n",
       "      <th></th>\n",
       "      <th></th>\n",
       "      <th></th>\n",
       "      <th></th>\n",
       "      <th></th>\n",
       "      <th></th>\n",
       "    </tr>\n",
       "  </thead>\n",
       "  <tbody>\n",
       "    <tr>\n",
       "      <th>Afghanistan</th>\n",
       "      <td>4.473</td>\n",
       "      <td>6.795722</td>\n",
       "      <td>66.026</td>\n",
       "      <td>0.509</td>\n",
       "      <td>0.663</td>\n",
       "      <td>493.750418</td>\n",
       "      <td>65.0</td>\n",
       "    </tr>\n",
       "    <tr>\n",
       "      <th>Albania</th>\n",
       "      <td>1.617</td>\n",
       "      <td>13.201755</td>\n",
       "      <td>80.167</td>\n",
       "      <td>0.792</td>\n",
       "      <td>0.971</td>\n",
       "      <td>5284.380184</td>\n",
       "      <td>96.5</td>\n",
       "    </tr>\n",
       "    <tr>\n",
       "      <th>Algeria</th>\n",
       "      <td>3.023</td>\n",
       "      <td>12.108990</td>\n",
       "      <td>77.938</td>\n",
       "      <td>0.746</td>\n",
       "      <td>0.860</td>\n",
       "      <td>4153.733978</td>\n",
       "      <td>85.5</td>\n",
       "    </tr>\n",
       "    <tr>\n",
       "      <th>Angola</th>\n",
       "      <td>5.519</td>\n",
       "      <td>6.973901</td>\n",
       "      <td>63.666</td>\n",
       "      <td>0.582</td>\n",
       "      <td>0.903</td>\n",
       "      <td>3289.646664</td>\n",
       "      <td>56.5</td>\n",
       "    </tr>\n",
       "  </tbody>\n",
       "</table>\n",
       "</div>"
      ],
      "text/plain": [
       "             fertility_total  educ_expected_yrs_f  life_birthf    hdi    gdi   \n",
       "Country                                                                        \n",
       "Afghanistan            4.473             6.795722       66.026  0.509  0.663  \\\n",
       "Albania                1.617            13.201755       80.167  0.792  0.971   \n",
       "Algeria                3.023            12.108990       77.938  0.746  0.860   \n",
       "Angola                 5.519             6.973901       63.666  0.582  0.903   \n",
       "\n",
       "              gdp_percap  immunization  \n",
       "Country                                 \n",
       "Afghanistan   493.750418          65.0  \n",
       "Albania      5284.380184          96.5  \n",
       "Algeria      4153.733978          85.5  \n",
       "Angola       3289.646664          56.5  "
      ]
     },
     "execution_count": 57,
     "metadata": {},
     "output_type": "execute_result"
    }
   ],
   "source": [
    "# slice variables of interest\n",
    "fertility_sub = fertility.loc[:, ['Country', 'fertility_total']] \n",
    "gender_sub = gender.loc[:, ['educ_expected_yrs_f', 'life_birthf', 'Country']] \n",
    "country_sub = country.loc[:, ['Country', 'hdi', 'gdi', 'gdp_percap', 'immunization']]\n",
    "\n",
    "# merge variables of interest\n",
    "data = pd.merge( \n",
    "    fertility_sub,\n",
    "    gender_sub,\n",
    "    on = 'Country', \n",
    "    how = 'inner'\n",
    ").merge( \n",
    "    country_sub,\n",
    "    on = 'Country',\n",
    "    how = 'left' \n",
    ").set_index('Country').dropna()  # drop all rows w/ missing values\n",
    "\n",
    "\n",
    "# preview\n",
    "data.head(4)"
   ]
  },
  {
   "cell_type": "code",
   "execution_count": 58,
   "id": "dda8a85b-a4f2-43e2-a5ab-3681c1524c55",
   "metadata": {
    "tags": []
   },
   "outputs": [
    {
     "data": {
      "text/html": [
       "<div>\n",
       "<style scoped>\n",
       "    .dataframe tbody tr th:only-of-type {\n",
       "        vertical-align: middle;\n",
       "    }\n",
       "\n",
       "    .dataframe tbody tr th {\n",
       "        vertical-align: top;\n",
       "    }\n",
       "\n",
       "    .dataframe thead th {\n",
       "        text-align: right;\n",
       "    }\n",
       "</style>\n",
       "<table border=\"1\" class=\"dataframe\">\n",
       "  <thead>\n",
       "    <tr style=\"text-align: right;\">\n",
       "      <th></th>\n",
       "      <th>fertility_total</th>\n",
       "      <th>educ_expected_yrs_f</th>\n",
       "      <th>life_birthf</th>\n",
       "      <th>hdi</th>\n",
       "      <th>gdi</th>\n",
       "      <th>gdp_percap</th>\n",
       "      <th>immunization</th>\n",
       "    </tr>\n",
       "  </thead>\n",
       "  <tbody>\n",
       "    <tr>\n",
       "      <th>fertility_total</th>\n",
       "      <td>1.000000</td>\n",
       "      <td>-0.860730</td>\n",
       "      <td>-0.864710</td>\n",
       "      <td>-0.860446</td>\n",
       "      <td>-0.667698</td>\n",
       "      <td>-0.493784</td>\n",
       "      <td>-0.599602</td>\n",
       "    </tr>\n",
       "    <tr>\n",
       "      <th>educ_expected_yrs_f</th>\n",
       "      <td>-0.860730</td>\n",
       "      <td>1.000000</td>\n",
       "      <td>0.828196</td>\n",
       "      <td>0.882125</td>\n",
       "      <td>0.711611</td>\n",
       "      <td>0.518237</td>\n",
       "      <td>0.625988</td>\n",
       "    </tr>\n",
       "    <tr>\n",
       "      <th>life_birthf</th>\n",
       "      <td>-0.864710</td>\n",
       "      <td>0.828196</td>\n",
       "      <td>1.000000</td>\n",
       "      <td>0.929450</td>\n",
       "      <td>0.613698</td>\n",
       "      <td>0.626654</td>\n",
       "      <td>0.626974</td>\n",
       "    </tr>\n",
       "    <tr>\n",
       "      <th>hdi</th>\n",
       "      <td>-0.860446</td>\n",
       "      <td>0.882125</td>\n",
       "      <td>0.929450</td>\n",
       "      <td>1.000000</td>\n",
       "      <td>0.652496</td>\n",
       "      <td>0.716262</td>\n",
       "      <td>0.579950</td>\n",
       "    </tr>\n",
       "    <tr>\n",
       "      <th>gdi</th>\n",
       "      <td>-0.667698</td>\n",
       "      <td>0.711611</td>\n",
       "      <td>0.613698</td>\n",
       "      <td>0.652496</td>\n",
       "      <td>1.000000</td>\n",
       "      <td>0.362602</td>\n",
       "      <td>0.538089</td>\n",
       "    </tr>\n",
       "    <tr>\n",
       "      <th>gdp_percap</th>\n",
       "      <td>-0.493784</td>\n",
       "      <td>0.518237</td>\n",
       "      <td>0.626654</td>\n",
       "      <td>0.716262</td>\n",
       "      <td>0.362602</td>\n",
       "      <td>1.000000</td>\n",
       "      <td>0.344651</td>\n",
       "    </tr>\n",
       "    <tr>\n",
       "      <th>immunization</th>\n",
       "      <td>-0.599602</td>\n",
       "      <td>0.625988</td>\n",
       "      <td>0.626974</td>\n",
       "      <td>0.579950</td>\n",
       "      <td>0.538089</td>\n",
       "      <td>0.344651</td>\n",
       "      <td>1.000000</td>\n",
       "    </tr>\n",
       "  </tbody>\n",
       "</table>\n",
       "</div>"
      ],
      "text/plain": [
       "                     fertility_total  educ_expected_yrs_f  life_birthf   \n",
       "fertility_total             1.000000            -0.860730    -0.864710  \\\n",
       "educ_expected_yrs_f        -0.860730             1.000000     0.828196   \n",
       "life_birthf                -0.864710             0.828196     1.000000   \n",
       "hdi                        -0.860446             0.882125     0.929450   \n",
       "gdi                        -0.667698             0.711611     0.613698   \n",
       "gdp_percap                 -0.493784             0.518237     0.626654   \n",
       "immunization               -0.599602             0.625988     0.626974   \n",
       "\n",
       "                          hdi       gdi  gdp_percap  immunization  \n",
       "fertility_total     -0.860446 -0.667698   -0.493784     -0.599602  \n",
       "educ_expected_yrs_f  0.882125  0.711611    0.518237      0.625988  \n",
       "life_birthf          0.929450  0.613698    0.626654      0.626974  \n",
       "hdi                  1.000000  0.652496    0.716262      0.579950  \n",
       "gdi                  0.652496  1.000000    0.362602      0.538089  \n",
       "gdp_percap           0.716262  0.362602    1.000000      0.344651  \n",
       "immunization         0.579950  0.538089    0.344651      1.000000  "
      ]
     },
     "execution_count": 58,
     "metadata": {},
     "output_type": "execute_result"
    }
   ],
   "source": [
    "# create correlation matrix\n",
    "corr_mx = data.corr()\n",
    "\n",
    "# view correlation matrix\n",
    "corr_mx"
   ]
  },
  {
   "cell_type": "markdown",
   "id": "35ae9950-dece-4e7e-b4e3-e716f7ed00e1",
   "metadata": {},
   "source": [
    "So across countries fertity rate is, unsurprisingly, strongly negatively correlated with expected years of education, life expectancy at birth, and HDI, meaning that better health, education, and standards of living often coincide with lower fertility rates. It is moderately negatively correlated with GDP per capita, GDI, and immunization, meaning that higher economic prosperity, gender equality, and immunization rates are associated with lower fertility rates. "
   ]
  },
  {
   "cell_type": "markdown",
   "id": "fe29c066-8e68-4d31-8ec9-f607bc9ea6b5",
   "metadata": {},
   "source": [
    "An interesting observation is that most of the covariates are positively correlated, though some are more so than others. HDI and life expectancy, for instance, are expected to be very positively correlated, while immunization and GDP per capita are only slightly correlated (since each country's allocation to healthcare varies)."
   ]
  },
  {
   "cell_type": "code",
   "execution_count": 59,
   "id": "19770bb2-b8cf-418d-915f-4e6566027aa0",
   "metadata": {
    "tags": []
   },
   "outputs": [
    {
     "data": {
      "application/vnd.vegalite.v4+json": {
       "$schema": "https://vega.github.io/schema/vega-lite/v4.17.0.json",
       "config": {
        "view": {
         "continuousHeight": 300,
         "continuousWidth": 400
        }
       },
       "data": {
        "name": "data-e759711e41262a47940754e42c269fa9"
       },
       "datasets": {
        "data-e759711e41262a47940754e42c269fa9": [
         {
          "Correlation": 1,
          "col": "fertility_total",
          "row": "fertility_total"
         },
         {
          "Correlation": -0.8607298322962754,
          "col": "fertility_total",
          "row": "educ_expected_yrs_f"
         },
         {
          "Correlation": -0.8647095222913972,
          "col": "fertility_total",
          "row": "life_birthf"
         },
         {
          "Correlation": -0.860445827307883,
          "col": "fertility_total",
          "row": "hdi"
         },
         {
          "Correlation": -0.6676984237711978,
          "col": "fertility_total",
          "row": "gdi"
         },
         {
          "Correlation": -0.4937836744923399,
          "col": "fertility_total",
          "row": "gdp_percap"
         },
         {
          "Correlation": -0.5996018750532978,
          "col": "fertility_total",
          "row": "immunization"
         },
         {
          "Correlation": -0.8607298322962754,
          "col": "educ_expected_yrs_f",
          "row": "fertility_total"
         },
         {
          "Correlation": 1,
          "col": "educ_expected_yrs_f",
          "row": "educ_expected_yrs_f"
         },
         {
          "Correlation": 0.8281964634993864,
          "col": "educ_expected_yrs_f",
          "row": "life_birthf"
         },
         {
          "Correlation": 0.8821245022298329,
          "col": "educ_expected_yrs_f",
          "row": "hdi"
         },
         {
          "Correlation": 0.71161070864023,
          "col": "educ_expected_yrs_f",
          "row": "gdi"
         },
         {
          "Correlation": 0.5182370990556407,
          "col": "educ_expected_yrs_f",
          "row": "gdp_percap"
         },
         {
          "Correlation": 0.6259875542018045,
          "col": "educ_expected_yrs_f",
          "row": "immunization"
         },
         {
          "Correlation": -0.8647095222913972,
          "col": "life_birthf",
          "row": "fertility_total"
         },
         {
          "Correlation": 0.8281964634993864,
          "col": "life_birthf",
          "row": "educ_expected_yrs_f"
         },
         {
          "Correlation": 1,
          "col": "life_birthf",
          "row": "life_birthf"
         },
         {
          "Correlation": 0.9294498677077487,
          "col": "life_birthf",
          "row": "hdi"
         },
         {
          "Correlation": 0.6136978484028058,
          "col": "life_birthf",
          "row": "gdi"
         },
         {
          "Correlation": 0.6266541243268499,
          "col": "life_birthf",
          "row": "gdp_percap"
         },
         {
          "Correlation": 0.6269735203329655,
          "col": "life_birthf",
          "row": "immunization"
         },
         {
          "Correlation": -0.860445827307883,
          "col": "hdi",
          "row": "fertility_total"
         },
         {
          "Correlation": 0.8821245022298329,
          "col": "hdi",
          "row": "educ_expected_yrs_f"
         },
         {
          "Correlation": 0.9294498677077487,
          "col": "hdi",
          "row": "life_birthf"
         },
         {
          "Correlation": 1,
          "col": "hdi",
          "row": "hdi"
         },
         {
          "Correlation": 0.6524960472561769,
          "col": "hdi",
          "row": "gdi"
         },
         {
          "Correlation": 0.7162616328136964,
          "col": "hdi",
          "row": "gdp_percap"
         },
         {
          "Correlation": 0.5799496912653315,
          "col": "hdi",
          "row": "immunization"
         },
         {
          "Correlation": -0.6676984237711978,
          "col": "gdi",
          "row": "fertility_total"
         },
         {
          "Correlation": 0.71161070864023,
          "col": "gdi",
          "row": "educ_expected_yrs_f"
         },
         {
          "Correlation": 0.6136978484028058,
          "col": "gdi",
          "row": "life_birthf"
         },
         {
          "Correlation": 0.6524960472561769,
          "col": "gdi",
          "row": "hdi"
         },
         {
          "Correlation": 1,
          "col": "gdi",
          "row": "gdi"
         },
         {
          "Correlation": 0.36260248990719424,
          "col": "gdi",
          "row": "gdp_percap"
         },
         {
          "Correlation": 0.5380887925319114,
          "col": "gdi",
          "row": "immunization"
         },
         {
          "Correlation": -0.4937836744923399,
          "col": "gdp_percap",
          "row": "fertility_total"
         },
         {
          "Correlation": 0.5182370990556407,
          "col": "gdp_percap",
          "row": "educ_expected_yrs_f"
         },
         {
          "Correlation": 0.6266541243268499,
          "col": "gdp_percap",
          "row": "life_birthf"
         },
         {
          "Correlation": 0.7162616328136964,
          "col": "gdp_percap",
          "row": "hdi"
         },
         {
          "Correlation": 0.36260248990719424,
          "col": "gdp_percap",
          "row": "gdi"
         },
         {
          "Correlation": 1,
          "col": "gdp_percap",
          "row": "gdp_percap"
         },
         {
          "Correlation": 0.3446513802811199,
          "col": "gdp_percap",
          "row": "immunization"
         },
         {
          "Correlation": -0.5996018750532978,
          "col": "immunization",
          "row": "fertility_total"
         },
         {
          "Correlation": 0.6259875542018045,
          "col": "immunization",
          "row": "educ_expected_yrs_f"
         },
         {
          "Correlation": 0.6269735203329655,
          "col": "immunization",
          "row": "life_birthf"
         },
         {
          "Correlation": 0.5799496912653315,
          "col": "immunization",
          "row": "hdi"
         },
         {
          "Correlation": 0.5380887925319114,
          "col": "immunization",
          "row": "gdi"
         },
         {
          "Correlation": 0.3446513802811199,
          "col": "immunization",
          "row": "gdp_percap"
         },
         {
          "Correlation": 1,
          "col": "immunization",
          "row": "immunization"
         }
        ]
       },
       "encoding": {
        "color": {
         "field": "Correlation",
         "legend": {
          "tickCount": 5
         },
         "scale": {
          "domain": [
           -1,
           1
          ],
          "scheme": "blueorange",
          "type": "sqrt"
         },
         "type": "quantitative"
        },
        "x": {
         "field": "col",
         "sort": {
          "field": "Correlation",
          "order": "ascending"
         },
         "title": "",
         "type": "nominal"
        },
        "y": {
         "field": "row",
         "sort": {
          "field": "Correlation",
          "order": "ascending"
         },
         "title": "",
         "type": "nominal"
        }
       },
       "height": 300,
       "mark": "rect",
       "width": 300
      },
      "image/png": "[encoded data removed]",
      "text/plain": [
       "<VegaLite 4 object>\n",
       "\n",
       "If you see this message, it means the renderer has not been properly enabled\n",
       "for the frontend that you are using. For more information, see\n",
       "https://altair-viz.github.io/user_guide/troubleshooting.html\n"
      ]
     },
     "execution_count": 59,
     "metadata": {},
     "output_type": "execute_result"
    }
   ],
   "source": [
    "# melt corr_mx\n",
    "corr_mx_long = corr_mx.reset_index().rename( \n",
    "    columns = {'index': 'row'}).melt(\n",
    "    id_vars = 'row',\n",
    "    var_name = 'col', \n",
    "    value_name = 'Correlation'\n",
    ") # get to long form first\n",
    "\n",
    "# construct plot\n",
    "alt.Chart(corr_mx_long).mark_rect().encode(\n",
    "    x = alt.X('col', title = '', sort = {\n",
    "        'field': 'Correlation', 'order':'ascending'}),\n",
    "    y = alt.Y('row', title = '', sort = {\n",
    "        'field': 'Correlation', 'order':'ascending'}),\n",
    "    color = alt.Color('Correlation', \n",
    "                      scale = alt.Scale(\n",
    "                          scheme = 'blueorange', \n",
    "                          domain = (-1, 1), \n",
    "                          type = 'sqrt'),\n",
    "                      legend = alt.Legend(tickCount = 5)) \n",
    ").properties(\n",
    "    width = 300, \n",
    "    height = 300)"
   ]
  },
  {
   "cell_type": "markdown",
   "id": "7e499d01-74cf-40fd-ad6e-f9f8b5c656e1",
   "metadata": {
    "tags": []
   },
   "source": [
    "### Principal Components Analysis"
   ]
  },
  {
   "cell_type": "markdown",
   "id": "c11d7fd1-6f45-41ac-8685-cb550a2b7997",
   "metadata": {},
   "source": [
    "Before we do any modeling, it is useful to identify which variables drive variation and covariation in the data. Principal component analysis (PCA) consists of choosing a small subset of components and excluding those with a weaker effect. We will compute the principal components (PC's), examine variance ratios, and determine which variables capture a majority of variation.  "
   ]
  },
  {
   "cell_type": "code",
   "execution_count": 60,
   "id": "d09520da-3d00-4614-b1aa-17f59428375d",
   "metadata": {
    "tags": []
   },
   "outputs": [],
   "source": [
    "# compute principal components\n",
    "pca = PCA(data, standardize = True)"
   ]
  },
  {
   "cell_type": "markdown",
   "id": "f9829743-ba02-4522-83a7-be53dc03e826",
   "metadata": {},
   "source": [
    "The variance ratios indicate the proportions of total variance in the data captured by each principal axis. They are computed, in order of decreasing variance, from the eigenvalues of the correlation matrix."
   ]
  },
  {
   "cell_type": "code",
   "execution_count": 61,
   "id": "f4eea61d-9e81-4b32-953e-cdbaa9469f32",
   "metadata": {
    "tags": []
   },
   "outputs": [
    {
     "data": {
      "text/plain": [
       "0    0.721384\n",
       "1    0.108046\n",
       "2    0.069401\n",
       "3    0.055937\n",
       "4    0.021705\n",
       "5    0.017333\n",
       "6    0.006194\n",
       "Name: eigenvals, dtype: float64"
      ]
     },
     "execution_count": 61,
     "metadata": {},
     "output_type": "execute_result"
    }
   ],
   "source": [
    "# compute variance ratios\n",
    "var_ratios = pca.eigenvals/pca.eigenvals.sum()\n",
    "\n",
    "# print\n",
    "var_ratios"
   ]
  },
  {
   "cell_type": "markdown",
   "id": "7b07f1a9-741a-4bd5-8bd9-01fbf949a14d",
   "metadata": {},
   "source": [
    "About 72% of total variation is captureed by the first PC."
   ]
  },
  {
   "cell_type": "markdown",
   "id": "a1faf664-0730-429c-991e-9cce1a3424f1",
   "metadata": {},
   "source": [
    "Next, we will graphically inspect the variance ratios and their cumulative sum, i.e., the amount of total variation captured jointly by subsets of successive components. We’ll store these quantities in a data frame.\n"
   ]
  },
  {
   "cell_type": "code",
   "execution_count": 62,
   "id": "4146c8a3-48d9-4034-93b5-389f330cc91d",
   "metadata": {
    "tags": []
   },
   "outputs": [
    {
     "data": {
      "text/html": [
       "<div>\n",
       "<style scoped>\n",
       "    .dataframe tbody tr th:only-of-type {\n",
       "        vertical-align: middle;\n",
       "    }\n",
       "\n",
       "    .dataframe tbody tr th {\n",
       "        vertical-align: top;\n",
       "    }\n",
       "\n",
       "    .dataframe thead th {\n",
       "        text-align: right;\n",
       "    }\n",
       "</style>\n",
       "<table border=\"1\" class=\"dataframe\">\n",
       "  <thead>\n",
       "    <tr style=\"text-align: right;\">\n",
       "      <th></th>\n",
       "      <th>Component</th>\n",
       "      <th>Proportion of variance explained</th>\n",
       "      <th>Cumulative variance explained</th>\n",
       "    </tr>\n",
       "  </thead>\n",
       "  <tbody>\n",
       "    <tr>\n",
       "      <th>0</th>\n",
       "      <td>1</td>\n",
       "      <td>0.721384</td>\n",
       "      <td>0.721384</td>\n",
       "    </tr>\n",
       "    <tr>\n",
       "      <th>1</th>\n",
       "      <td>2</td>\n",
       "      <td>0.108046</td>\n",
       "      <td>0.829430</td>\n",
       "    </tr>\n",
       "    <tr>\n",
       "      <th>2</th>\n",
       "      <td>3</td>\n",
       "      <td>0.069401</td>\n",
       "      <td>0.898831</td>\n",
       "    </tr>\n",
       "    <tr>\n",
       "      <th>3</th>\n",
       "      <td>4</td>\n",
       "      <td>0.055937</td>\n",
       "      <td>0.954768</td>\n",
       "    </tr>\n",
       "    <tr>\n",
       "      <th>4</th>\n",
       "      <td>5</td>\n",
       "      <td>0.021705</td>\n",
       "      <td>0.976473</td>\n",
       "    </tr>\n",
       "  </tbody>\n",
       "</table>\n",
       "</div>"
      ],
      "text/plain": [
       "   Component  Proportion of variance explained  Cumulative variance explained\n",
       "0          1                          0.721384                       0.721384\n",
       "1          2                          0.108046                       0.829430\n",
       "2          3                          0.069401                       0.898831\n",
       "3          4                          0.055937                       0.954768\n",
       "4          5                          0.021705                       0.976473"
      ]
     },
     "execution_count": 62,
     "metadata": {},
     "output_type": "execute_result"
    }
   ],
   "source": [
    "# store proportion of variance explained as a dataframe\n",
    "pca_var_explained = pd.DataFrame({\n",
    "    'Component': np.arange(1, 8),\n",
    "    'Proportion of variance explained': var_ratios})\n",
    "\n",
    "# add cumulative sum\n",
    "pca_var_explained['Cumulative variance explained'] = var_ratios.cumsum()\n",
    "\n",
    "# print\n",
    "pca_var_explained.head()"
   ]
  },
  {
   "cell_type": "code",
   "execution_count": 63,
   "id": "483269f0-83aa-4cd7-b1d8-d277c67da43c",
   "metadata": {
    "tags": []
   },
   "outputs": [
    {
     "data": {
      "application/vnd.vegalite.v4+json": {
       "$schema": "https://vega.github.io/schema/vega-lite/v4.17.0.json",
       "config": {
        "view": {
         "continuousHeight": 300,
         "continuousWidth": 400
        }
       },
       "data": {
        "name": "data-57a7ec48a2534da85209ee0ab7cefc7e"
       },
       "datasets": {
        "data-57a7ec48a2534da85209ee0ab7cefc7e": [
         {
          "Component": 1,
          "Cumulative variance explained": 0.7213844434872565,
          "Proportion of variance explained": 0.7213844434872565
         },
         {
          "Component": 2,
          "Cumulative variance explained": 0.8294301770602349,
          "Proportion of variance explained": 0.10804573357297845
         },
         {
          "Component": 3,
          "Cumulative variance explained": 0.8988312450478106,
          "Proportion of variance explained": 0.0694010679875757
         },
         {
          "Component": 4,
          "Cumulative variance explained": 0.9547678794900534,
          "Proportion of variance explained": 0.055936634442242686
         },
         {
          "Component": 5,
          "Cumulative variance explained": 0.9764730241683104,
          "Proportion of variance explained": 0.02170514467825696
         },
         {
          "Component": 6,
          "Cumulative variance explained": 0.9938060266681438,
          "Proportion of variance explained": 0.017333002499833383
         },
         {
          "Component": 7,
          "Cumulative variance explained": 1.0000000000000002,
          "Proportion of variance explained": 0.006193973331856356
         }
        ]
       },
       "layer": [
        {
         "layer": [
          {
           "encoding": {
            "x": {
             "field": "Component",
             "type": "quantitative"
            },
            "y": {
             "axis": {
              "titleColor": "#57A44C"
             },
             "field": "Proportion of variance explained",
             "type": "quantitative"
            }
           },
           "mark": {
            "stroke": "#57A44C",
            "type": "line"
           }
          },
          {
           "encoding": {
            "x": {
             "field": "Component",
             "type": "quantitative"
            },
            "y": {
             "axis": {
              "titleColor": "#57A44C"
             },
             "field": "Proportion of variance explained",
             "type": "quantitative"
            }
           },
           "mark": {
            "color": "#57A44C",
            "type": "point"
           }
          }
         ]
        },
        {
         "layer": [
          {
           "encoding": {
            "x": {
             "field": "Component",
             "type": "quantitative"
            },
            "y": {
             "axis": {
              "titleColor": "#5276A7"
             },
             "field": "Cumulative variance explained",
             "type": "quantitative"
            }
           },
           "mark": "line"
          },
          {
           "encoding": {
            "x": {
             "field": "Component",
             "type": "quantitative"
            },
            "y": {
             "axis": {
              "titleColor": "#5276A7"
             },
             "field": "Cumulative variance explained",
             "type": "quantitative"
            }
           },
           "mark": "point"
          }
         ]
        }
       ],
       "resolve": {
        "scale": {
         "y": "independent"
        }
       }
      },
      "image/png": "[encoded data removed]",
      "text/plain": [
       "<VegaLite 4 object>\n",
       "\n",
       "If you see this message, it means the renderer has not been properly enabled\n",
       "for the frontend that you are using. For more information, see\n",
       "https://altair-viz.github.io/user_guide/troubleshooting.html\n"
      ]
     },
     "execution_count": 63,
     "metadata": {},
     "output_type": "execute_result"
    }
   ],
   "source": [
    "# encode component axis only as base layer\n",
    "base = alt.Chart(pca_var_explained).encode(\n",
    "     x = 'Component')\n",
    "\n",
    "# make a base layer for the proportion of variance explained\n",
    "prop_var_base = base.encode(\n",
    "    y = alt.Y('Proportion of variance explained',\n",
    "              axis = alt.Axis(titleColor = '#57A44C'))\n",
    ")\n",
    "\n",
    "# make a base layer for the cumulative variance explained\n",
    "cum_var_base = base.encode(\n",
    "    y = alt.Y('Cumulative variance explained', \n",
    "              axis = alt.Axis(titleColor ='#5276A7')) \n",
    ")\n",
    "\n",
    "# add points and lines to each base layer\n",
    "prop_var = prop_var_base.mark_line(\n",
    "    stroke = '#57A44C') + prop_var_base.mark_point(color = '#57A44C')\n",
    "\n",
    "cum_var = cum_var_base.mark_line() + cum_var_base.mark_point()\n",
    "\n",
    "# layer the layers\n",
    "var_explained_plot = alt.layer(prop_var, cum_var).resolve_scale(y ='independent')\n",
    "\n",
    "# display\n",
    "var_explained_plot"
   ]
  },
  {
   "cell_type": "markdown",
   "id": "84506d00-99a9-4a38-b0ed-6a547400aaf0",
   "metadata": {},
   "source": [
    "Below, we have selected the components that each explain more than 10% of total variation individually, and computed the proportion of variation they capture jointly. The first two PC's capture about 83% of total variation."
   ]
  },
  {
   "cell_type": "code",
   "execution_count": 64,
   "id": "0948ac68-5634-46fd-88ee-7664786cf649",
   "metadata": {
    "tags": []
   },
   "outputs": [
    {
     "name": "stdout",
     "output_type": "stream",
     "text": [
      "number selected:  2\n",
      "proportion of variance captured:  0.8294301770602349\n"
     ]
    }
   ],
   "source": [
    "# number of selected components\n",
    "i = pca_var_explained[\"Proportion of variance explained\"] > .10\n",
    "num_pc = pca_var_explained[i].count()[0]\n",
    "\n",
    "# cumulative variance explained\n",
    "var_explained = pca_var_explained[i].iloc[:,1].sum()\n",
    "\n",
    "# print\n",
    "print('number selected: ', num_pc)\n",
    "print('proportion of variance captured: ', var_explained)"
   ]
  },
  {
   "cell_type": "markdown",
   "id": "5d5cf369-c6a8-41ac-8c3b-c402832633a2",
   "metadata": {},
   "source": [
    "We will examine the loadings (ie., the weights with which the variables are combined to form the PC's) to understand *which* variables the components combine with significant weight. We will store these scores as a dataframe."
   ]
  },
  {
   "cell_type": "code",
   "execution_count": 65,
   "id": "3bedb60b-c39a-4a50-b54e-4feeddb9ca8e",
   "metadata": {
    "tags": []
   },
   "outputs": [
    {
     "data": {
      "text/html": [
       "<div>\n",
       "<style scoped>\n",
       "    .dataframe tbody tr th:only-of-type {\n",
       "        vertical-align: middle;\n",
       "    }\n",
       "\n",
       "    .dataframe tbody tr th {\n",
       "        vertical-align: top;\n",
       "    }\n",
       "\n",
       "    .dataframe thead th {\n",
       "        text-align: right;\n",
       "    }\n",
       "</style>\n",
       "<table border=\"1\" class=\"dataframe\">\n",
       "  <thead>\n",
       "    <tr style=\"text-align: right;\">\n",
       "      <th></th>\n",
       "      <th>PC1</th>\n",
       "      <th>PC2</th>\n",
       "    </tr>\n",
       "  </thead>\n",
       "  <tbody>\n",
       "    <tr>\n",
       "      <th>fertility_total</th>\n",
       "      <td>-0.407364</td>\n",
       "      <td>0.098851</td>\n",
       "    </tr>\n",
       "    <tr>\n",
       "      <th>educ_expected_yrs_f</th>\n",
       "      <td>0.412409</td>\n",
       "      <td>-0.114570</td>\n",
       "    </tr>\n",
       "    <tr>\n",
       "      <th>life_birthf</th>\n",
       "      <td>0.416766</td>\n",
       "      <td>0.108220</td>\n",
       "    </tr>\n",
       "    <tr>\n",
       "      <th>hdi</th>\n",
       "      <td>0.425914</td>\n",
       "      <td>0.206444</td>\n",
       "    </tr>\n",
       "    <tr>\n",
       "      <th>gdi</th>\n",
       "      <td>0.340855</td>\n",
       "      <td>-0.396417</td>\n",
       "    </tr>\n",
       "  </tbody>\n",
       "</table>\n",
       "</div>"
      ],
      "text/plain": [
       "                          PC1       PC2\n",
       "fertility_total     -0.407364  0.098851\n",
       "educ_expected_yrs_f  0.412409 -0.114570\n",
       "life_birthf          0.416766  0.108220\n",
       "hdi                  0.425914  0.206444\n",
       "gdi                  0.340855 -0.396417"
      ]
     },
     "execution_count": 65,
     "metadata": {},
     "output_type": "execute_result"
    }
   ],
   "source": [
    "#  subset loadings\n",
    "loading_df = pca.loadings.iloc[:, 0:num_pc]\n",
    "\n",
    "# rename columns\n",
    "loading_df = loading_df.rename(columns = dict(zip(loading_df.columns, [\n",
    "    'PC' + str(i) for i in range(1, num_pc + 1)])))\n",
    "\n",
    "# print\n",
    "loading_df.head()"
   ]
  },
  {
   "cell_type": "markdown",
   "id": "6edc52b3-bf87-4003-9d5c-3c66050806f0",
   "metadata": {},
   "source": [
    "In PC1, all variables have loadings of similar magnitude. The variables with the largest loadings in PC2 are hdi and gdi, meaning that it is most representative of health, education, standard of living, and gender (in)equality. "
   ]
  },
  {
   "cell_type": "markdown",
   "id": "8c0e9750-3fb6-442b-970b-4a33cfde5f96",
   "metadata": {},
   "source": [
    "PCA revealed the primary sources of variation in our data. Note we are talking about total variation in the *entire* dataset, not just in a particular variable. Though useful, we should not immediately exclude the variables that were *not* included in the first 2 PC's. \n",
    "\n",
    "Keeping our observations in mind, we will investigate which variables drive variation in total fertity rate in the next section.\n"
   ]
  },
  {
   "cell_type": "markdown",
   "id": "c5fc968d-4fee-4267-b108-e21ac34f8a52",
   "metadata": {
    "tags": []
   },
   "source": [
    "### Data Visualization"
   ]
  },
  {
   "cell_type": "markdown",
   "id": "48ca2247-8efa-49a1-950b-22a7594c3af5",
   "metadata": {},
   "source": [
    "Here, we'll construct scatterplots of each covariate against total fertility to visualize potential relationships."
   ]
  },
  {
   "cell_type": "markdown",
   "id": "3f8d4f1d-6e27-4f24-a630-445afb2aacb3",
   "metadata": {},
   "source": [
    "#### Education and fertility rate"
   ]
  },
  {
   "cell_type": "code",
   "execution_count": 66,
   "id": "e5d39cbb-d092-4ed7-9400-1312991323bb",
   "metadata": {
    "tags": []
   },
   "outputs": [
    {
     "data": {
      "application/vnd.vegalite.v4+json": {
       "$schema": "https://vega.github.io/schema/vega-lite/v4.17.0.json",
       "config": {
        "view": {
         "continuousHeight": 300,
         "continuousWidth": 400
        }
       },
       "data": {
        "name": "data-6cd1456596c1f74e121582c365026ae5"
       },
       "datasets": {
        "data-6cd1456596c1f74e121582c365026ae5": [
         {
          "educ_expected_yrs_f": 6.795722485,
          "fertility_total": 4.473,
          "gdi": 0.6629999999999999,
          "gdp_percap": 493.7504181,
          "hdi": 0.509,
          "immunization": 65,
          "life_birthf": 66.02600000000001
         },
         {
          "educ_expected_yrs_f": 13.20175457,
          "fertility_total": 1.617,
          "gdi": 0.971,
          "gdp_percap": 5284.380184000001,
          "hdi": 0.792,
          "immunization": 96.5,
          "life_birthf": 80.167
         },
         {
          "educ_expected_yrs_f": 12.10898972,
          "fertility_total": 3.023,
          "gdi": 0.86,
          "gdp_percap": 4153.733978,
          "hdi": 0.746,
          "immunization": 85.5,
          "life_birthf": 77.938
         },
         {
          "educ_expected_yrs_f": 6.973901272000001,
          "fertility_total": 5.519,
          "gdi": 0.903,
          "gdp_percap": 3289.646664,
          "hdi": 0.5820000000000001,
          "immunization": 56.5,
          "life_birthf": 63.666
         },
         {
          "educ_expected_yrs_f": 13.06125259,
          "fertility_total": 2.261,
          "gdi": 0.992,
          "gdp_percap": 11633.49801,
          "hdi": 0.8420000000000001,
          "immunization": 90,
          "life_birthf": 79.863
         },
         {
          "educ_expected_yrs_f": 11.62581253,
          "fertility_total": 1.755,
          "gdi": 0.978,
          "gdp_percap": 4220.490277,
          "hdi": 0.7709999999999999,
          "immunization": 93.5,
          "life_birthf": 78.354
         },
         {
          "educ_expected_yrs_f": 13.62022209,
          "fertility_total": 1.74,
          "gdi": 0.976,
          "gdp_percap": 57354.96405,
          "hdi": 0.943,
          "immunization": 95,
          "life_birthf": 84.9
         },
         {
          "educ_expected_yrs_f": 13.46689415,
          "fertility_total": 1.47,
          "gdi": 0.966,
          "gdp_percap": 51478.28526,
          "hdi": 0.921,
          "immunization": 89.5,
          "life_birthf": 84.1
         },
         {
          "educ_expected_yrs_f": 12.44501495,
          "fertility_total": 1.73,
          "gdi": 0.939,
          "gdp_percap": 4739.841710000001,
          "hdi": 0.754,
          "immunization": 95.5,
          "life_birthf": 75.336
         },
         {
          "educ_expected_yrs_f": 13.27036572,
          "fertility_total": 1.987,
          "gdi": 0.936,
          "gdp_percap": 23991.05668,
          "hdi": 0.852,
          "immunization": 99,
          "life_birthf": 78.285
         },
         {
          "educ_expected_yrs_f": 10.52187443,
          "fertility_total": 2.036,
          "gdi": 0.8959999999999999,
          "gdp_percap": 1698.350394,
          "hdi": 0.625,
          "immunization": 97.5,
          "life_birthf": 74.291
         },
         {
          "educ_expected_yrs_f": 13.75893879,
          "fertility_total": 1.4480000000000002,
          "gdi": 1.009,
          "gdp_percap": 6330.075246,
          "hdi": 0.823,
          "immunization": 97.5,
          "life_birthf": 79.4
         },
         {
          "educ_expected_yrs_f": 13.56679726,
          "fertility_total": 1.62,
          "gdi": 0.973,
          "gdp_percap": 47583.07494,
          "hdi": 0.93,
          "immunization": 97,
          "life_birthf": 83.9
         },
         {
          "educ_expected_yrs_f": 8.782134056,
          "fertility_total": 4.836,
          "gdi": 0.855,
          "gdp_percap": 1240.829464,
          "hdi": 0.541,
          "immunization": 73.5,
          "life_birthf": 63.003
         },
         {
          "educ_expected_yrs_f": 10.70332813,
          "fertility_total": 1.975,
          "gdi": 0.91,
          "gdp_percap": 3243.486036,
          "hdi": 0.649,
          "immunization": 97,
          "life_birthf": 71.816
         },
         {
          "educ_expected_yrs_f": 11.78481483,
          "fertility_total": 1.265,
          "gdi": 0.932,
          "gdp_percap": 6072.184623,
          "hdi": 0.777,
          "immunization": 70.5,
          "life_birthf": 79.72
         },
         {
          "educ_expected_yrs_f": 8.500170707999999,
          "fertility_total": 2.874,
          "gdi": 0.995,
          "gdp_percap": 8279.601739,
          "hdi": 0.73,
          "immunization": 96,
          "life_birthf": 72.04899999999999
         },
         {
          "educ_expected_yrs_f": 13.21317291,
          "fertility_total": 1.848,
          "gdi": 0.978,
          "gdp_percap": 31628.32879,
          "hdi": 0.836,
          "immunization": 99,
          "life_birthf": 76.96
         },
         {
          "educ_expected_yrs_f": 12.24310493,
          "fertility_total": 1.56,
          "gdi": 0.994,
          "gdp_percap": 9427.73043,
          "hdi": 0.813,
          "immunization": 92.5,
          "life_birthf": 78.6
         },
         {
          "educ_expected_yrs_f": 6.696904658999999,
          "fertility_total": 5.189,
          "gdi": 0.865,
          "gdp_percap": 813.096849,
          "hdi": 0.4429999999999999,
          "immunization": 89.5,
          "life_birthf": 61.863
         },
         {
          "educ_expected_yrs_f": 8.191820145,
          "fertility_total": 5.41,
          "gdi": 0.996,
          "gdp_percap": 271.7520444,
          "hdi": 0.431,
          "immunization": 89,
          "life_birthf": 63.031000000000006
         },
         {
          "educ_expected_yrs_f": 9.635119438,
          "fertility_total": 2.503,
          "gdi": 0.92,
          "gdp_percap": 1512.12671,
          "hdi": 0.585,
          "immunization": 88,
          "life_birthf": 71.62899999999999
         },
         {
          "educ_expected_yrs_f": 8.315596581,
          "fertility_total": 4.572,
          "gdi": 0.87,
          "gdp_percap": 1534.493702,
          "hdi": 0.56,
          "immunization": 63,
          "life_birthf": 60.192
         },
         {
          "educ_expected_yrs_f": 13.709587099999998,
          "fertility_total": 1.4988,
          "gdi": 0.99,
          "gdp_percap": 46303.90878,
          "hdi": 0.928,
          "immunization": 90.5,
          "life_birthf": 84.2
         },
         {
          "educ_expected_yrs_f": 3.848102808,
          "fertility_total": 4.721,
          "gdi": 0.8,
          "gdp_percap": 475.9536099,
          "hdi": 0.395,
          "immunization": 48,
          "life_birthf": 54.99100000000001
         },
         {
          "educ_expected_yrs_f": 4.473656654,
          "fertility_total": 5.747000000000001,
          "gdi": 0.773,
          "gdp_percap": 726.1498811,
          "hdi": 0.397,
          "immunization": 44,
          "life_birthf": 55.4
         },
         {
          "educ_expected_yrs_f": 13.05471802,
          "fertility_total": 1.649,
          "gdi": 0.964,
          "gdp_percap": 15924.79424,
          "hdi": 0.8490000000000001,
          "immunization": 94,
          "life_birthf": 82.381
         },
         {
          "educ_expected_yrs_f": 13.0906477,
          "fertility_total": 1.69,
          "gdi": 0.959,
          "gdp_percap": 9976.677137,
          "hdi": 0.755,
          "immunization": 99,
          "life_birthf": 79.051
         },
         {
          "educ_expected_yrs_f": 12.70421314,
          "fertility_total": 1.807,
          "gdi": 0.99,
          "gdp_percap": 6716.911598000001,
          "hdi": 0.764,
          "immunization": 93.5,
          "life_birthf": 79.859
         },
         {
          "educ_expected_yrs_f": 8.128657341,
          "fertility_total": 4.205,
          "gdi": 0.89,
          "gdp_percap": 1415.9553130000002,
          "hdi": 0.552,
          "immunization": 90.5,
          "life_birthf": 65.9
         },
         {
          "educ_expected_yrs_f": 12.51764488,
          "fertility_total": 1.754,
          "gdi": 0.981,
          "gdp_percap": 12112.13442,
          "hdi": 0.8079999999999999,
          "immunization": 94,
          "life_birthf": 82.73
         },
         {
          "educ_expected_yrs_f": 13.5518446,
          "fertility_total": 1.47,
          "gdi": 0.99,
          "gdp_percap": 15014.08502,
          "hdi": 0.848,
          "immunization": 93,
          "life_birthf": 81.4
         },
         {
          "educ_expected_yrs_f": 13.61954403,
          "fertility_total": 1.329,
          "gdi": 0.983,
          "gdp_percap": 28689.70672,
          "hdi": 0.885,
          "immunization": 94.5,
          "life_birthf": 82.913
         },
         {
          "educ_expected_yrs_f": 13.47161579,
          "fertility_total": 1.73,
          "gdi": 0.981,
          "gdp_percap": 61598.5367,
          "hdi": 0.939,
          "immunization": 96,
          "life_birthf": 82.9
         },
         {
          "educ_expected_yrs_f": 12.15325356,
          "fertility_total": 2.346,
          "gdi": 0.999,
          "gdp_percap": 8050.630440000001,
          "hdi": 0.7509999999999999,
          "immunization": 94.5,
          "life_birthf": 77.196
         },
         {
          "educ_expected_yrs_f": 13.219711300000002,
          "fertility_total": 2.427,
          "gdi": 0.979,
          "gdp_percap": 6295.935399,
          "hdi": 0.762,
          "immunization": 84,
          "life_birthf": 79.645
         },
         {
          "educ_expected_yrs_f": 10.9428196,
          "fertility_total": 2.039,
          "gdi": 0.974,
          "gdp_percap": 4067.659449,
          "hdi": 0.67,
          "immunization": 81,
          "life_birthf": 77.635
         },
         {
          "educ_expected_yrs_f": 13.53030491,
          "fertility_total": 1.67,
          "gdi": 1.016,
          "gdp_percap": 23170.70738,
          "hdi": 0.889,
          "immunization": 89.5,
          "life_birthf": 82.7
         },
         {
          "educ_expected_yrs_f": 7.516855717,
          "fertility_total": 4.247,
          "gdi": 0.846,
          "gdp_percap": 771.5238138999999,
          "hdi": 0.478,
          "immunization": 61.5,
          "life_birthf": 68.165
         },
         {
          "educ_expected_yrs_f": 13.74469662,
          "fertility_total": 1.41,
          "gdi": 0.99,
          "gdp_percap": 50030.87731,
          "hdi": 0.937,
          "immunization": 93.5,
          "life_birthf": 84.5
         },
         {
          "educ_expected_yrs_f": 13.8239584,
          "fertility_total": 1.88,
          "gdi": 0.987,
          "gdp_percap": 41631.09074,
          "hdi": 0.898,
          "immunization": 93,
          "life_birthf": 85.9
         },
         {
          "educ_expected_yrs_f": 8.538388252,
          "fertility_total": 3.969,
          "gdi": 0.916,
          "gdp_percap": 7956.627815999999,
          "hdi": 0.6970000000000001,
          "immunization": 64.5,
          "life_birthf": 68.32300000000001
         },
         {
          "educ_expected_yrs_f": 13.02663994,
          "fertility_total": 2.06,
          "gdi": 0.979,
          "gdp_percap": 4722.787783,
          "hdi": 0.805,
          "immunization": 95.5,
          "life_birthf": 77.98899999999999
         },
         {
          "educ_expected_yrs_f": 13.34453487,
          "fertility_total": 1.57,
          "gdi": 0.968,
          "gdp_percap": 47810.50767,
          "hdi": 0.946,
          "immunization": 95,
          "life_birthf": 83.3
         },
         {
          "educ_expected_yrs_f": 11.91578197,
          "fertility_total": 3.87,
          "gdi": 0.909,
          "gdp_percap": 2202.312164,
          "hdi": 0.606,
          "immunization": 94.5,
          "life_birthf": 64.852
         },
         {
          "educ_expected_yrs_f": 13.28767872,
          "fertility_total": 1.35,
          "gdi": 0.964,
          "gdp_percap": 20324.30499,
          "hdi": 0.8809999999999999,
          "immunization": 98,
          "life_birthf": 84.4
         },
         {
          "educ_expected_yrs_f": 9.521496773,
          "fertility_total": 2.87,
          "gdi": 0.941,
          "gdp_percap": 4472.892371,
          "hdi": 0.657,
          "immunization": 86.5,
          "life_birthf": 76.937
         },
         {
          "educ_expected_yrs_f": 6.210740089,
          "fertility_total": 4.7,
          "gdi": 0.816,
          "gdp_percap": 878.5996133,
          "hdi": 0.473,
          "immunization": 47,
          "life_birthf": 61.666
         },
         {
          "educ_expected_yrs_f": 12.30990696,
          "fertility_total": 2.462,
          "gdi": 0.967,
          "gdp_percap": 6145.842411,
          "hdi": 0.68,
          "immunization": 96.5,
          "life_birthf": 72.972
         },
         {
          "educ_expected_yrs_f": 11.44699955,
          "fertility_total": 2.935,
          "gdi": 0.875,
          "gdp_percap": 1435.351756,
          "hdi": 0.508,
          "immunization": 66.5,
          "life_birthf": 65.832
         },
         {
          "educ_expected_yrs_f": 9.822359085,
          "fertility_total": 2.46,
          "gdi": 0.978,
          "gdp_percap": 2505.776752,
          "hdi": 0.633,
          "immunization": 89.5,
          "life_birthf": 77.378
         },
         {
          "educ_expected_yrs_f": 12.96164417,
          "fertility_total": 1.55,
          "gdi": 0.98,
          "gdp_percap": 16410.18726,
          "hdi": 0.85,
          "immunization": 99,
          "life_birthf": 79.6
         },
         {
          "educ_expected_yrs_f": 13.54500961,
          "fertility_total": 1.71,
          "gdi": 0.969,
          "gdp_percap": 72968.70422999999,
          "hdi": 0.946,
          "immunization": 92,
          "life_birthf": 84.5
         },
         {
          "educ_expected_yrs_f": 10.93618393,
          "fertility_total": 2.222,
          "gdi": 0.818,
          "gdp_percap": 2005.863005,
          "hdi": 0.642,
          "immunization": 91.5,
          "life_birthf": 70.692
         },
         {
          "educ_expected_yrs_f": 12.41253376,
          "fertility_total": 2.311,
          "gdi": 0.938,
          "gdp_percap": 3893.846425,
          "hdi": 0.7120000000000001,
          "immunization": 87,
          "life_birthf": 73.748
         },
         {
          "educ_expected_yrs_f": 7.038986206000001,
          "fertility_total": 3.672,
          "gdi": 0.7709999999999999,
          "gdp_percap": 5834.166211,
          "hdi": 0.6709999999999999,
          "immunization": 83.5,
          "life_birthf": 72.486
         },
         {
          "educ_expected_yrs_f": 13.92032051,
          "fertility_total": 1.75,
          "gdi": 0.978,
          "gdp_percap": 78621.22793,
          "hdi": 0.951,
          "immunization": 93,
          "life_birthf": 84.1
         },
         {
          "educ_expected_yrs_f": 13.90762043,
          "fertility_total": 3.09,
          "gdi": 0.973,
          "gdp_percap": 41719.72544,
          "hdi": 0.916,
          "immunization": 98,
          "life_birthf": 84.8
         },
         {
          "educ_expected_yrs_f": 13.31961727,
          "fertility_total": 1.29,
          "gdi": 0.969,
          "gdp_percap": 34615.75689,
          "hdi": 0.89,
          "immunization": 94,
          "life_birthf": 85.6
         },
         {
          "educ_expected_yrs_f": 11.82789326,
          "fertility_total": 1.979,
          "gdi": 0.988,
          "gdp_percap": 5354.236859000001,
          "hdi": 0.7340000000000001,
          "immunization": 93,
          "life_birthf": 75.993
         },
         {
          "educ_expected_yrs_f": 11.72220421,
          "fertility_total": 2.761,
          "gdi": 0.875,
          "gdp_percap": 4312.180117,
          "hdi": 0.728,
          "immunization": 94,
          "life_birthf": 76.175
         },
         {
          "educ_expected_yrs_f": 13.86884308,
          "fertility_total": 2.84,
          "gdi": 0.997,
          "gdp_percap": 9812.626370999998,
          "hdi": 0.8190000000000001,
          "immunization": 98.5,
          "life_birthf": 77.19
         },
         {
          "educ_expected_yrs_f": 11.30184937,
          "fertility_total": 3.492,
          "gdi": 0.926,
          "gdp_percap": 1707.986805,
          "hdi": 0.599,
          "immunization": 90.5,
          "life_birthf": 68.684
         },
         {
          "educ_expected_yrs_f": 12.40283394,
          "fertility_total": 2.082,
          "gdi": 0.973,
          "gdp_percap": 33994.38192,
          "hdi": 0.807,
          "immunization": 94.5,
          "life_birthf": 76.467
         },
         {
          "educ_expected_yrs_f": 13.7176199,
          "fertility_total": 1.6,
          "gdi": 1.035,
          "gdp_percap": 17858.279980000003,
          "hdi": 0.863,
          "immunization": 97,
          "life_birthf": 79.7
         },
         {
          "educ_expected_yrs_f": 10.41264439,
          "fertility_total": 3.141,
          "gdi": 1.019,
          "gdp_percap": 1221.883763,
          "hdi": 0.522,
          "immunization": 88.5,
          "life_birthf": 56.95399999999999
         },
         {
          "educ_expected_yrs_f": 4.166073798999999,
          "fertility_total": 4.315,
          "gdi": 0.895,
          "gdp_percap": 677.3221785000001,
          "hdi": 0.48,
          "immunization": 87.5,
          "life_birthf": 65.11399999999999
         },
         {
          "educ_expected_yrs_f": 13.88928127,
          "fertility_total": 1.63,
          "gdi": 1.029,
          "gdp_percap": 19176.17652,
          "hdi": 0.8759999999999999,
          "immunization": 92,
          "life_birthf": 80.7
         },
         {
          "educ_expected_yrs_f": 12.47436428,
          "fertility_total": 1.38,
          "gdi": 0.975,
          "gdp_percap": 116654.2611,
          "hdi": 0.913,
          "immunization": 99,
          "life_birthf": 84.6
         },
         {
          "educ_expected_yrs_f": 8.609224318999999,
          "fertility_total": 4.077,
          "gdi": 0.949,
          "gdp_percap": 527.5013261,
          "hdi": 0.527,
          "immunization": 68.5,
          "life_birthf": 68.301
         },
         {
          "educ_expected_yrs_f": 9.583486557,
          "fertility_total": 4.209,
          "gdi": 0.926,
          "gdp_percap": 381.2589876,
          "hdi": 0.478,
          "immunization": 89.5,
          "life_birthf": 66.937
         },
         {
          "educ_expected_yrs_f": 12.68888378,
          "fertility_total": 2.001,
          "gdi": 0.97,
          "gdp_percap": 11377.455,
          "hdi": 0.805,
          "immunization": 97.5,
          "life_birthf": 78.167
         },
         {
          "educ_expected_yrs_f": 5.42065239,
          "fertility_total": 5.877000000000001,
          "gdi": 0.81,
          "gdp_percap": 894.8021868999999,
          "hdi": 0.431,
          "immunization": 73.5,
          "life_birthf": 59.649
         },
         {
          "educ_expected_yrs_f": 13.50980282,
          "fertility_total": 1.23,
          "gdi": 0.968,
          "gdp_percap": 30437.221510000003,
          "hdi": 0.894,
          "immunization": 96.5,
          "life_birthf": 84.6
         },
         {
          "educ_expected_yrs_f": 7.564128876,
          "fertility_total": 4.561,
          "gdi": 0.86,
          "gdp_percap": 1600.876469,
          "hdi": 0.542,
          "immunization": 79.5,
          "life_birthf": 66.292
         },
         {
          "educ_expected_yrs_f": 12.77645302,
          "fertility_total": 1.41,
          "gdi": 0.974,
          "gdp_percap": 11208.34382,
          "hdi": 0.8009999999999999,
          "immunization": 98,
          "life_birthf": 77.72
         },
         {
          "educ_expected_yrs_f": 12.97874069,
          "fertility_total": 2.129,
          "gdi": 0.962,
          "gdp_percap": 9686.513783,
          "hdi": 0.7759999999999999,
          "immunization": 92.5,
          "life_birthf": 77.844
         },
         {
          "educ_expected_yrs_f": 13.25112915,
          "fertility_total": 2.895,
          "gdi": 1.02,
          "gdp_percap": 4134.987198,
          "hdi": 0.735,
          "immunization": 99,
          "life_birthf": 73.961
         },
         {
          "educ_expected_yrs_f": 12.64217091,
          "fertility_total": 1.745,
          "gdi": 0.965,
          "gdp_percap": 8846.056525,
          "hdi": 0.826,
          "immunization": 64,
          "life_birthf": 79.199
         },
         {
          "educ_expected_yrs_f": 10.41762161,
          "fertility_total": 2.415,
          "gdi": 0.833,
          "gdp_percap": 3222.200634,
          "hdi": 0.68,
          "immunization": 99,
          "life_birthf": 77.668
         },
         {
          "educ_expected_yrs_f": 9.829102516,
          "fertility_total": 2.154,
          "gdi": 0.953,
          "gdp_percap": 1418.177623,
          "hdi": 0.579,
          "immunization": 92,
          "life_birthf": 69.874
         },
         {
          "educ_expected_yrs_f": 9.723130226,
          "fertility_total": 3.3960000000000004,
          "gdi": 1.007,
          "gdp_percap": 5495.428925,
          "hdi": 0.645,
          "immunization": 85.5,
          "life_birthf": 66.18
         },
         {
          "educ_expected_yrs_f": 12.0131464,
          "fertility_total": 1.917,
          "gdi": 0.927,
          "gdp_percap": 1038.651647,
          "hdi": 0.596,
          "immunization": 91,
          "life_birthf": 71.9
         },
         {
          "educ_expected_yrs_f": 13.92983341,
          "fertility_total": 1.59,
          "gdi": 0.967,
          "gdp_percap": 53044.53244,
          "hdi": 0.942,
          "immunization": 93,
          "life_birthf": 83.4
         },
         {
          "educ_expected_yrs_f": 13.77946663,
          "fertility_total": 1.71,
          "gdi": 0.965,
          "gdp_percap": 42427.58315,
          "hdi": 0.928,
          "immunization": 92.5,
          "life_birthf": 83.6
         },
         {
          "educ_expected_yrs_f": 11.10092926,
          "fertility_total": 2.404,
          "gdi": 1.011,
          "gdp_percap": 2020.55193,
          "hdi": 0.659,
          "immunization": 98.5,
          "life_birthf": 77.77
         },
         {
          "educ_expected_yrs_f": 5.059231758,
          "fertility_total": 6.912999999999999,
          "gdi": 0.727,
          "gdp_percap": 572.4271543,
          "hdi": 0.391,
          "immunization": 78,
          "life_birthf": 63.212
         },
         {
          "educ_expected_yrs_f": 10.09999943,
          "fertility_total": 5.3870000000000005,
          "gdi": 0.8740000000000001,
          "gdp_percap": 2027.777979,
          "hdi": 0.534,
          "immunization": 55,
          "life_birthf": 55.244
         },
         {
          "educ_expected_yrs_f": 11.08503532,
          "fertility_total": 1.496,
          "gdi": 0.948,
          "gdp_percap": 6088.972445,
          "hdi": 0.77,
          "immunization": 83.5,
          "life_birthf": 77.736
         },
         {
          "educ_expected_yrs_f": 13.67211056,
          "fertility_total": 1.56,
          "gdi": 0.989,
          "gdp_percap": 81734.46557,
          "hdi": 0.956,
          "immunization": 96,
          "life_birthf": 84.5
         },
         {
          "educ_expected_yrs_f": 13.10266685,
          "fertility_total": 2.888,
          "gdi": 0.937,
          "gdp_percap": 16521.18228,
          "hdi": 0.813,
          "immunization": 99,
          "life_birthf": 80.134
         },
         {
          "educ_expected_yrs_f": 8.687153816,
          "fertility_total": 3.51,
          "gdi": 0.736,
          "gdp_percap": 1482.305667,
          "hdi": 0.552,
          "immunization": 74,
          "life_birthf": 68.109
         },
         {
          "educ_expected_yrs_f": 10.88493347,
          "fertility_total": 2.461,
          "gdi": 1.009,
          "gdp_percap": 15592.57368,
          "hdi": 0.812,
          "immunization": 93,
          "life_birthf": 81.593
         },
         {
          "educ_expected_yrs_f": 11.26677418,
          "fertility_total": 2.4290000000000003,
          "gdi": 0.967,
          "gdp_percap": 5805.675616,
          "hdi": 0.727,
          "immunization": 90.5,
          "life_birthf": 76.25
         },
         {
          "educ_expected_yrs_f": 12.89012051,
          "fertility_total": 2.254,
          "gdi": 0.964,
          "gdp_percap": 6941.235848,
          "hdi": 0.7709999999999999,
          "immunization": 84.5,
          "life_birthf": 79.28
         },
         {
          "educ_expected_yrs_f": 13.04763317,
          "fertility_total": 2.576,
          "gdi": 1.005,
          "gdp_percap": 3252.092324,
          "hdi": 0.711,
          "immunization": 66,
          "life_birthf": 75.387
         },
         {
          "educ_expected_yrs_f": 13.45503712,
          "fertility_total": 1.46,
          "gdi": 1.008,
          "gdp_percap": 15468.482219999998,
          "hdi": 0.877,
          "immunization": 94,
          "life_birthf": 81.7
         },
         {
          "educ_expected_yrs_f": 13.82900047,
          "fertility_total": 1.42,
          "gdi": 0.985,
          "gdp_percap": 23562.55452,
          "hdi": 0.86,
          "immunization": 99,
          "life_birthf": 84.5
         },
         {
          "educ_expected_yrs_f": 12.7883606,
          "fertility_total": 1.866,
          "gdi": 1.031,
          "gdp_percap": 65908.0669,
          "hdi": 0.845,
          "immunization": 98.5,
          "life_birthf": 81.876
         },
         {
          "educ_expected_yrs_f": 11.98094845,
          "fertility_total": 1.76,
          "gdi": 0.989,
          "gdp_percap": 12399.88934,
          "hdi": 0.823,
          "immunization": 88,
          "life_birthf": 79.2
         },
         {
          "educ_expected_yrs_f": 13.68534756,
          "fertility_total": 1.579,
          "gdi": 1.009,
          "gdp_percap": 11370.81346,
          "hdi": 0.823,
          "immunization": 97.5,
          "life_birthf": 77.82
         },
         {
          "educ_expected_yrs_f": 6.980305195,
          "fertility_total": 4.044,
          "gdi": 0.943,
          "gdp_percap": 783.2871842000001,
          "hdi": 0.54,
          "immunization": 98,
          "life_birthf": 70.78399999999999
         },
         {
          "educ_expected_yrs_f": 12.26758575,
          "fertility_total": 2.319,
          "gdi": 0.875,
          "gdp_percap": 23338.96346,
          "hdi": 0.8540000000000001,
          "immunization": 97,
          "life_birthf": 76.615
         },
         {
          "educ_expected_yrs_f": 7.849748135,
          "fertility_total": 4.625,
          "gdi": 0.877,
          "gdp_percap": 1465.591006,
          "hdi": 0.516,
          "immunization": 82.5,
          "life_birthf": 69.627
         },
         {
          "educ_expected_yrs_f": 13.49239731,
          "fertility_total": 1.49,
          "gdi": 0.975,
          "gdp_percap": 7252.401858,
          "hdi": 0.8029999999999999,
          "immunization": 94,
          "life_birthf": 78.4
         },
         {
          "educ_expected_yrs_f": 9.282006264,
          "fertility_total": 4.263,
          "gdi": 0.8809999999999999,
          "gdp_percap": 533.9911843,
          "hdi": 0.447,
          "immunization": 90,
          "life_birthf": 55.106
         },
         {
          "educ_expected_yrs_f": 13.90422153,
          "fertility_total": 1.14,
          "gdi": 0.986,
          "gdp_percap": 66188.7794,
          "hdi": 0.936,
          "immunization": 95.5,
          "life_birthf": 85.5
         },
         {
          "educ_expected_yrs_f": 13.71750641,
          "fertility_total": 1.61,
          "gdi": 1.002,
          "gdp_percap": 26115.91337,
          "hdi": 0.912,
          "immunization": 93,
          "life_birthf": 84.4
         },
         {
          "educ_expected_yrs_f": 10.11397743,
          "fertility_total": 2.405,
          "gdi": 0.983,
          "gdp_percap": 6372.605654999999,
          "hdi": 0.7070000000000001,
          "immunization": 72,
          "life_birthf": 67.398
         },
         {
          "educ_expected_yrs_f": 13.08606815,
          "fertility_total": 1.26,
          "gdi": 0.981,
          "gdp_percap": 30389.36099,
          "hdi": 0.905,
          "immunization": 96.5,
          "life_birthf": 86.3
         },
         {
          "educ_expected_yrs_f": 13.11488724,
          "fertility_total": 2.199,
          "gdi": 0.939,
          "gdp_percap": 4080.567125,
          "hdi": 0.779,
          "immunization": 99,
          "life_birthf": 80.12100000000001
         },
         {
          "educ_expected_yrs_f": 6.943500996,
          "fertility_total": 4.407,
          "gdi": 0.8540000000000001,
          "gdp_percap": 623.8672524,
          "hdi": 0.506,
          "immunization": 90.5,
          "life_birthf": 66.947
         },
         {
          "educ_expected_yrs_f": 13.90402126,
          "fertility_total": 1.76,
          "gdi": 0.982,
          "gdp_percap": 54589.06039,
          "hdi": 0.943,
          "immunization": 97,
          "life_birthf": 84.3
         },
         {
          "educ_expected_yrs_f": 13.21845913,
          "fertility_total": 1.52,
          "gdi": 0.968,
          "gdp_percap": 82818.10816,
          "hdi": 0.955,
          "immunization": 95.5,
          "life_birthf": 85.7
         },
         {
          "educ_expected_yrs_f": 10.43918705,
          "fertility_total": 3.585,
          "gdi": 0.823,
          "gdp_percap": 826.6215305,
          "hdi": 0.6609999999999999,
          "immunization": 97,
          "life_birthf": 73.17699999999999
         },
         {
          "educ_expected_yrs_f": 12.644207000000002,
          "fertility_total": 1.525,
          "gdi": 0.997,
          "gdp_percap": 7295.475616,
          "hdi": 0.772,
          "immunization": 96.5,
          "life_birthf": 80.704
         },
         {
          "educ_expected_yrs_f": 10.87477875,
          "fertility_total": 4.023,
          "gdi": 0.946,
          "gdp_percap": 1230.228191,
          "hdi": 0.599,
          "immunization": 80,
          "life_birthf": 71.376
         },
         {
          "educ_expected_yrs_f": 9.123530388,
          "fertility_total": 4.32,
          "gdi": 0.8190000000000001,
          "gdp_percap": 679.9727606,
          "hdi": 0.51,
          "immunization": 76,
          "life_birthf": 61.612
         },
         {
          "educ_expected_yrs_f": 11.83284092,
          "fertility_total": 3.556,
          "gdi": 0.949,
          "gdp_percap": 4740.792149,
          "hdi": 0.723,
          "immunization": 99,
          "life_birthf": 72.763
         },
         {
          "educ_expected_yrs_f": 10.95233727,
          "fertility_total": 2.197,
          "gdi": 0.899,
          "gdp_percap": 3438.789089,
          "hdi": 0.738,
          "immunization": 89.5,
          "life_birthf": 78.536
         },
         {
          "educ_expected_yrs_f": 11.99552917,
          "fertility_total": 2.069,
          "gdi": 0.926,
          "gdp_percap": 9455.593654,
          "hdi": 0.8170000000000001,
          "immunization": 97,
          "life_birthf": 80.336
         },
         {
          "educ_expected_yrs_f": 13.00567055,
          "fertility_total": 1.301,
          "gdi": 1,
          "gdp_percap": 3096.817402,
          "hdi": 0.774,
          "immunization": 80,
          "life_birthf": 76.72
         },
         {
          "educ_expected_yrs_f": 13.1702652,
          "fertility_total": 1.413,
          "gdi": 0.926,
          "gdp_percap": 43839.35635,
          "hdi": 0.889,
          "immunization": 99,
          "life_birthf": 79.164
         },
         {
          "educ_expected_yrs_f": 13.85765934,
          "fertility_total": 1.68,
          "gdi": 0.968,
          "gdp_percap": 43043.22782,
          "hdi": 0.928,
          "immunization": 93,
          "life_birthf": 83.1
         },
         {
          "educ_expected_yrs_f": 12.93639374,
          "fertility_total": 1.7295,
          "gdi": 0.993,
          "gdp_percap": 62996.47129,
          "hdi": 0.925,
          "immunization": 93,
          "life_birthf": 81.2
         },
         {
          "educ_expected_yrs_f": 12.47761631,
          "fertility_total": 1.973,
          "gdi": 1.017,
          "gdp_percap": 17277.97011,
          "hdi": 0.816,
          "immunization": 94,
          "life_birthf": 81.359
         },
         {
          "educ_expected_yrs_f": 12.00484753,
          "fertility_total": 2.604,
          "gdi": 0.938,
          "gdp_percap": 1529.082864,
          "hdi": 0.7170000000000001,
          "immunization": 97,
          "life_birthf": 73.676
         },
         {
          "educ_expected_yrs_f": 8.745135307,
          "fertility_total": 4.633,
          "gdi": 0.98,
          "gdp_percap": 1516.390661,
          "hdi": 0.5820000000000001,
          "immunization": 92,
          "life_birthf": 66.447
         },
         {
          "educ_expected_yrs_f": 10.97491837,
          "fertility_total": 3.615,
          "gdi": 0.927,
          "gdp_percap": 1683.740577,
          "hdi": 0.569,
          "immunization": 88.5,
          "life_birthf": 62.598
         }
        ]
       },
       "encoding": {
        "x": {
         "field": "educ_expected_yrs_f",
         "scale": {
          "zero": false
         },
         "title": "Expected years of education",
         "type": "quantitative"
        },
        "y": {
         "field": "fertility_total",
         "title": "Fertility rate",
         "type": "quantitative"
        }
       },
       "height": 300,
       "mark": "circle",
       "width": 300
      },
      "image/png": "[encoded data removed]",
      "text/plain": [
       "<VegaLite 4 object>\n",
       "\n",
       "If you see this message, it means the renderer has not been properly enabled\n",
       "for the frontend that you are using. For more information, see\n",
       "https://altair-viz.github.io/user_guide/troubleshooting.html\n"
      ]
     },
     "execution_count": 66,
     "metadata": {},
     "output_type": "execute_result"
    }
   ],
   "source": [
    "base = alt.Chart(data)\n",
    "    \n",
    "scatter_educ = base.mark_circle().encode( \n",
    "    x = alt.X(\"educ_expected_yrs_f:Q\",\n",
    "              scale = alt.Scale(zero = False),\n",
    "              title = \"Expected years of education\"), \n",
    "    y = alt.Y(\"fertility_total:Q\",\n",
    "              title = \"Fertility rate\")\n",
    ").properties(\n",
    "    width = 300,\n",
    "    height = 300)\n",
    "\n",
    "scatter_educ"
   ]
  },
  {
   "cell_type": "markdown",
   "id": "a4ad7397-9f46-49b2-812b-452f5462df84",
   "metadata": {},
   "source": [
    "As expected, the figure shows a clear negative association between fertility rate and women’s educational attainment, and that the relationship is roughly linear. "
   ]
  },
  {
   "cell_type": "markdown",
   "id": "e04c655f-dd6c-446f-af33-cec46964c8d7",
   "metadata": {
    "tags": []
   },
   "source": [
    "#### Life expectancy and fertility rate"
   ]
  },
  {
   "cell_type": "code",
   "execution_count": 67,
   "id": "f086fbdd-aa3e-4db4-8d66-058b0195bdd4",
   "metadata": {
    "tags": []
   },
   "outputs": [
    {
     "data": {
      "application/vnd.vegalite.v4+json": {
       "$schema": "https://vega.github.io/schema/vega-lite/v4.17.0.json",
       "config": {
        "view": {
         "continuousHeight": 300,
         "continuousWidth": 400
        }
       },
       "data": {
        "name": "data-6cd1456596c1f74e121582c365026ae5"
       },
       "datasets": {
        "data-6cd1456596c1f74e121582c365026ae5": [
         {
          "educ_expected_yrs_f": 6.795722485,
          "fertility_total": 4.473,
          "gdi": 0.6629999999999999,
          "gdp_percap": 493.7504181,
          "hdi": 0.509,
          "immunization": 65,
          "life_birthf": 66.02600000000001
         },
         {
          "educ_expected_yrs_f": 13.20175457,
          "fertility_total": 1.617,
          "gdi": 0.971,
          "gdp_percap": 5284.380184000001,
          "hdi": 0.792,
          "immunization": 96.5,
          "life_birthf": 80.167
         },
         {
          "educ_expected_yrs_f": 12.10898972,
          "fertility_total": 3.023,
          "gdi": 0.86,
          "gdp_percap": 4153.733978,
          "hdi": 0.746,
          "immunization": 85.5,
          "life_birthf": 77.938
         },
         {
          "educ_expected_yrs_f": 6.973901272000001,
          "fertility_total": 5.519,
          "gdi": 0.903,
          "gdp_percap": 3289.646664,
          "hdi": 0.5820000000000001,
          "immunization": 56.5,
          "life_birthf": 63.666
         },
         {
          "educ_expected_yrs_f": 13.06125259,
          "fertility_total": 2.261,
          "gdi": 0.992,
          "gdp_percap": 11633.49801,
          "hdi": 0.8420000000000001,
          "immunization": 90,
          "life_birthf": 79.863
         },
         {
          "educ_expected_yrs_f": 11.62581253,
          "fertility_total": 1.755,
          "gdi": 0.978,
          "gdp_percap": 4220.490277,
          "hdi": 0.7709999999999999,
          "immunization": 93.5,
          "life_birthf": 78.354
         },
         {
          "educ_expected_yrs_f": 13.62022209,
          "fertility_total": 1.74,
          "gdi": 0.976,
          "gdp_percap": 57354.96405,
          "hdi": 0.943,
          "immunization": 95,
          "life_birthf": 84.9
         },
         {
          "educ_expected_yrs_f": 13.46689415,
          "fertility_total": 1.47,
          "gdi": 0.966,
          "gdp_percap": 51478.28526,
          "hdi": 0.921,
          "immunization": 89.5,
          "life_birthf": 84.1
         },
         {
          "educ_expected_yrs_f": 12.44501495,
          "fertility_total": 1.73,
          "gdi": 0.939,
          "gdp_percap": 4739.841710000001,
          "hdi": 0.754,
          "immunization": 95.5,
          "life_birthf": 75.336
         },
         {
          "educ_expected_yrs_f": 13.27036572,
          "fertility_total": 1.987,
          "gdi": 0.936,
          "gdp_percap": 23991.05668,
          "hdi": 0.852,
          "immunization": 99,
          "life_birthf": 78.285
         },
         {
          "educ_expected_yrs_f": 10.52187443,
          "fertility_total": 2.036,
          "gdi": 0.8959999999999999,
          "gdp_percap": 1698.350394,
          "hdi": 0.625,
          "immunization": 97.5,
          "life_birthf": 74.291
         },
         {
          "educ_expected_yrs_f": 13.75893879,
          "fertility_total": 1.4480000000000002,
          "gdi": 1.009,
          "gdp_percap": 6330.075246,
          "hdi": 0.823,
          "immunization": 97.5,
          "life_birthf": 79.4
         },
         {
          "educ_expected_yrs_f": 13.56679726,
          "fertility_total": 1.62,
          "gdi": 0.973,
          "gdp_percap": 47583.07494,
          "hdi": 0.93,
          "immunization": 97,
          "life_birthf": 83.9
         },
         {
          "educ_expected_yrs_f": 8.782134056,
          "fertility_total": 4.836,
          "gdi": 0.855,
          "gdp_percap": 1240.829464,
          "hdi": 0.541,
          "immunization": 73.5,
          "life_birthf": 63.003
         },
         {
          "educ_expected_yrs_f": 10.70332813,
          "fertility_total": 1.975,
          "gdi": 0.91,
          "gdp_percap": 3243.486036,
          "hdi": 0.649,
          "immunization": 97,
          "life_birthf": 71.816
         },
         {
          "educ_expected_yrs_f": 11.78481483,
          "fertility_total": 1.265,
          "gdi": 0.932,
          "gdp_percap": 6072.184623,
          "hdi": 0.777,
          "immunization": 70.5,
          "life_birthf": 79.72
         },
         {
          "educ_expected_yrs_f": 8.500170707999999,
          "fertility_total": 2.874,
          "gdi": 0.995,
          "gdp_percap": 8279.601739,
          "hdi": 0.73,
          "immunization": 96,
          "life_birthf": 72.04899999999999
         },
         {
          "educ_expected_yrs_f": 13.21317291,
          "fertility_total": 1.848,
          "gdi": 0.978,
          "gdp_percap": 31628.32879,
          "hdi": 0.836,
          "immunization": 99,
          "life_birthf": 76.96
         },
         {
          "educ_expected_yrs_f": 12.24310493,
          "fertility_total": 1.56,
          "gdi": 0.994,
          "gdp_percap": 9427.73043,
          "hdi": 0.813,
          "immunization": 92.5,
          "life_birthf": 78.6
         },
         {
          "educ_expected_yrs_f": 6.696904658999999,
          "fertility_total": 5.189,
          "gdi": 0.865,
          "gdp_percap": 813.096849,
          "hdi": 0.4429999999999999,
          "immunization": 89.5,
          "life_birthf": 61.863
         },
         {
          "educ_expected_yrs_f": 8.191820145,
          "fertility_total": 5.41,
          "gdi": 0.996,
          "gdp_percap": 271.7520444,
          "hdi": 0.431,
          "immunization": 89,
          "life_birthf": 63.031000000000006
         },
         {
          "educ_expected_yrs_f": 9.635119438,
          "fertility_total": 2.503,
          "gdi": 0.92,
          "gdp_percap": 1512.12671,
          "hdi": 0.585,
          "immunization": 88,
          "life_birthf": 71.62899999999999
         },
         {
          "educ_expected_yrs_f": 8.315596581,
          "fertility_total": 4.572,
          "gdi": 0.87,
          "gdp_percap": 1534.493702,
          "hdi": 0.56,
          "immunization": 63,
          "life_birthf": 60.192
         },
         {
          "educ_expected_yrs_f": 13.709587099999998,
          "fertility_total": 1.4988,
          "gdi": 0.99,
          "gdp_percap": 46303.90878,
          "hdi": 0.928,
          "immunization": 90.5,
          "life_birthf": 84.2
         },
         {
          "educ_expected_yrs_f": 3.848102808,
          "fertility_total": 4.721,
          "gdi": 0.8,
          "gdp_percap": 475.9536099,
          "hdi": 0.395,
          "immunization": 48,
          "life_birthf": 54.99100000000001
         },
         {
          "educ_expected_yrs_f": 4.473656654,
          "fertility_total": 5.747000000000001,
          "gdi": 0.773,
          "gdp_percap": 726.1498811,
          "hdi": 0.397,
          "immunization": 44,
          "life_birthf": 55.4
         },
         {
          "educ_expected_yrs_f": 13.05471802,
          "fertility_total": 1.649,
          "gdi": 0.964,
          "gdp_percap": 15924.79424,
          "hdi": 0.8490000000000001,
          "immunization": 94,
          "life_birthf": 82.381
         },
         {
          "educ_expected_yrs_f": 13.0906477,
          "fertility_total": 1.69,
          "gdi": 0.959,
          "gdp_percap": 9976.677137,
          "hdi": 0.755,
          "immunization": 99,
          "life_birthf": 79.051
         },
         {
          "educ_expected_yrs_f": 12.70421314,
          "fertility_total": 1.807,
          "gdi": 0.99,
          "gdp_percap": 6716.911598000001,
          "hdi": 0.764,
          "immunization": 93.5,
          "life_birthf": 79.859
         },
         {
          "educ_expected_yrs_f": 8.128657341,
          "fertility_total": 4.205,
          "gdi": 0.89,
          "gdp_percap": 1415.9553130000002,
          "hdi": 0.552,
          "immunization": 90.5,
          "life_birthf": 65.9
         },
         {
          "educ_expected_yrs_f": 12.51764488,
          "fertility_total": 1.754,
          "gdi": 0.981,
          "gdp_percap": 12112.13442,
          "hdi": 0.8079999999999999,
          "immunization": 94,
          "life_birthf": 82.73
         },
         {
          "educ_expected_yrs_f": 13.5518446,
          "fertility_total": 1.47,
          "gdi": 0.99,
          "gdp_percap": 15014.08502,
          "hdi": 0.848,
          "immunization": 93,
          "life_birthf": 81.4
         },
         {
          "educ_expected_yrs_f": 13.61954403,
          "fertility_total": 1.329,
          "gdi": 0.983,
          "gdp_percap": 28689.70672,
          "hdi": 0.885,
          "immunization": 94.5,
          "life_birthf": 82.913
         },
         {
          "educ_expected_yrs_f": 13.47161579,
          "fertility_total": 1.73,
          "gdi": 0.981,
          "gdp_percap": 61598.5367,
          "hdi": 0.939,
          "immunization": 96,
          "life_birthf": 82.9
         },
         {
          "educ_expected_yrs_f": 12.15325356,
          "fertility_total": 2.346,
          "gdi": 0.999,
          "gdp_percap": 8050.630440000001,
          "hdi": 0.7509999999999999,
          "immunization": 94.5,
          "life_birthf": 77.196
         },
         {
          "educ_expected_yrs_f": 13.219711300000002,
          "fertility_total": 2.427,
          "gdi": 0.979,
          "gdp_percap": 6295.935399,
          "hdi": 0.762,
          "immunization": 84,
          "life_birthf": 79.645
         },
         {
          "educ_expected_yrs_f": 10.9428196,
          "fertility_total": 2.039,
          "gdi": 0.974,
          "gdp_percap": 4067.659449,
          "hdi": 0.67,
          "immunization": 81,
          "life_birthf": 77.635
         },
         {
          "educ_expected_yrs_f": 13.53030491,
          "fertility_total": 1.67,
          "gdi": 1.016,
          "gdp_percap": 23170.70738,
          "hdi": 0.889,
          "immunization": 89.5,
          "life_birthf": 82.7
         },
         {
          "educ_expected_yrs_f": 7.516855717,
          "fertility_total": 4.247,
          "gdi": 0.846,
          "gdp_percap": 771.5238138999999,
          "hdi": 0.478,
          "immunization": 61.5,
          "life_birthf": 68.165
         },
         {
          "educ_expected_yrs_f": 13.74469662,
          "fertility_total": 1.41,
          "gdi": 0.99,
          "gdp_percap": 50030.87731,
          "hdi": 0.937,
          "immunization": 93.5,
          "life_birthf": 84.5
         },
         {
          "educ_expected_yrs_f": 13.8239584,
          "fertility_total": 1.88,
          "gdi": 0.987,
          "gdp_percap": 41631.09074,
          "hdi": 0.898,
          "immunization": 93,
          "life_birthf": 85.9
         },
         {
          "educ_expected_yrs_f": 8.538388252,
          "fertility_total": 3.969,
          "gdi": 0.916,
          "gdp_percap": 7956.627815999999,
          "hdi": 0.6970000000000001,
          "immunization": 64.5,
          "life_birthf": 68.32300000000001
         },
         {
          "educ_expected_yrs_f": 13.02663994,
          "fertility_total": 2.06,
          "gdi": 0.979,
          "gdp_percap": 4722.787783,
          "hdi": 0.805,
          "immunization": 95.5,
          "life_birthf": 77.98899999999999
         },
         {
          "educ_expected_yrs_f": 13.34453487,
          "fertility_total": 1.57,
          "gdi": 0.968,
          "gdp_percap": 47810.50767,
          "hdi": 0.946,
          "immunization": 95,
          "life_birthf": 83.3
         },
         {
          "educ_expected_yrs_f": 11.91578197,
          "fertility_total": 3.87,
          "gdi": 0.909,
          "gdp_percap": 2202.312164,
          "hdi": 0.606,
          "immunization": 94.5,
          "life_birthf": 64.852
         },
         {
          "educ_expected_yrs_f": 13.28767872,
          "fertility_total": 1.35,
          "gdi": 0.964,
          "gdp_percap": 20324.30499,
          "hdi": 0.8809999999999999,
          "immunization": 98,
          "life_birthf": 84.4
         },
         {
          "educ_expected_yrs_f": 9.521496773,
          "fertility_total": 2.87,
          "gdi": 0.941,
          "gdp_percap": 4472.892371,
          "hdi": 0.657,
          "immunization": 86.5,
          "life_birthf": 76.937
         },
         {
          "educ_expected_yrs_f": 6.210740089,
          "fertility_total": 4.7,
          "gdi": 0.816,
          "gdp_percap": 878.5996133,
          "hdi": 0.473,
          "immunization": 47,
          "life_birthf": 61.666
         },
         {
          "educ_expected_yrs_f": 12.30990696,
          "fertility_total": 2.462,
          "gdi": 0.967,
          "gdp_percap": 6145.842411,
          "hdi": 0.68,
          "immunization": 96.5,
          "life_birthf": 72.972
         },
         {
          "educ_expected_yrs_f": 11.44699955,
          "fertility_total": 2.935,
          "gdi": 0.875,
          "gdp_percap": 1435.351756,
          "hdi": 0.508,
          "immunization": 66.5,
          "life_birthf": 65.832
         },
         {
          "educ_expected_yrs_f": 9.822359085,
          "fertility_total": 2.46,
          "gdi": 0.978,
          "gdp_percap": 2505.776752,
          "hdi": 0.633,
          "immunization": 89.5,
          "life_birthf": 77.378
         },
         {
          "educ_expected_yrs_f": 12.96164417,
          "fertility_total": 1.55,
          "gdi": 0.98,
          "gdp_percap": 16410.18726,
          "hdi": 0.85,
          "immunization": 99,
          "life_birthf": 79.6
         },
         {
          "educ_expected_yrs_f": 13.54500961,
          "fertility_total": 1.71,
          "gdi": 0.969,
          "gdp_percap": 72968.70422999999,
          "hdi": 0.946,
          "immunization": 92,
          "life_birthf": 84.5
         },
         {
          "educ_expected_yrs_f": 10.93618393,
          "fertility_total": 2.222,
          "gdi": 0.818,
          "gdp_percap": 2005.863005,
          "hdi": 0.642,
          "immunization": 91.5,
          "life_birthf": 70.692
         },
         {
          "educ_expected_yrs_f": 12.41253376,
          "fertility_total": 2.311,
          "gdi": 0.938,
          "gdp_percap": 3893.846425,
          "hdi": 0.7120000000000001,
          "immunization": 87,
          "life_birthf": 73.748
         },
         {
          "educ_expected_yrs_f": 7.038986206000001,
          "fertility_total": 3.672,
          "gdi": 0.7709999999999999,
          "gdp_percap": 5834.166211,
          "hdi": 0.6709999999999999,
          "immunization": 83.5,
          "life_birthf": 72.486
         },
         {
          "educ_expected_yrs_f": 13.92032051,
          "fertility_total": 1.75,
          "gdi": 0.978,
          "gdp_percap": 78621.22793,
          "hdi": 0.951,
          "immunization": 93,
          "life_birthf": 84.1
         },
         {
          "educ_expected_yrs_f": 13.90762043,
          "fertility_total": 3.09,
          "gdi": 0.973,
          "gdp_percap": 41719.72544,
          "hdi": 0.916,
          "immunization": 98,
          "life_birthf": 84.8
         },
         {
          "educ_expected_yrs_f": 13.31961727,
          "fertility_total": 1.29,
          "gdi": 0.969,
          "gdp_percap": 34615.75689,
          "hdi": 0.89,
          "immunization": 94,
          "life_birthf": 85.6
         },
         {
          "educ_expected_yrs_f": 11.82789326,
          "fertility_total": 1.979,
          "gdi": 0.988,
          "gdp_percap": 5354.236859000001,
          "hdi": 0.7340000000000001,
          "immunization": 93,
          "life_birthf": 75.993
         },
         {
          "educ_expected_yrs_f": 11.72220421,
          "fertility_total": 2.761,
          "gdi": 0.875,
          "gdp_percap": 4312.180117,
          "hdi": 0.728,
          "immunization": 94,
          "life_birthf": 76.175
         },
         {
          "educ_expected_yrs_f": 13.86884308,
          "fertility_total": 2.84,
          "gdi": 0.997,
          "gdp_percap": 9812.626370999998,
          "hdi": 0.8190000000000001,
          "immunization": 98.5,
          "life_birthf": 77.19
         },
         {
          "educ_expected_yrs_f": 11.30184937,
          "fertility_total": 3.492,
          "gdi": 0.926,
          "gdp_percap": 1707.986805,
          "hdi": 0.599,
          "immunization": 90.5,
          "life_birthf": 68.684
         },
         {
          "educ_expected_yrs_f": 12.40283394,
          "fertility_total": 2.082,
          "gdi": 0.973,
          "gdp_percap": 33994.38192,
          "hdi": 0.807,
          "immunization": 94.5,
          "life_birthf": 76.467
         },
         {
          "educ_expected_yrs_f": 13.7176199,
          "fertility_total": 1.6,
          "gdi": 1.035,
          "gdp_percap": 17858.279980000003,
          "hdi": 0.863,
          "immunization": 97,
          "life_birthf": 79.7
         },
         {
          "educ_expected_yrs_f": 10.41264439,
          "fertility_total": 3.141,
          "gdi": 1.019,
          "gdp_percap": 1221.883763,
          "hdi": 0.522,
          "immunization": 88.5,
          "life_birthf": 56.95399999999999
         },
         {
          "educ_expected_yrs_f": 4.166073798999999,
          "fertility_total": 4.315,
          "gdi": 0.895,
          "gdp_percap": 677.3221785000001,
          "hdi": 0.48,
          "immunization": 87.5,
          "life_birthf": 65.11399999999999
         },
         {
          "educ_expected_yrs_f": 13.88928127,
          "fertility_total": 1.63,
          "gdi": 1.029,
          "gdp_percap": 19176.17652,
          "hdi": 0.8759999999999999,
          "immunization": 92,
          "life_birthf": 80.7
         },
         {
          "educ_expected_yrs_f": 12.47436428,
          "fertility_total": 1.38,
          "gdi": 0.975,
          "gdp_percap": 116654.2611,
          "hdi": 0.913,
          "immunization": 99,
          "life_birthf": 84.6
         },
         {
          "educ_expected_yrs_f": 8.609224318999999,
          "fertility_total": 4.077,
          "gdi": 0.949,
          "gdp_percap": 527.5013261,
          "hdi": 0.527,
          "immunization": 68.5,
          "life_birthf": 68.301
         },
         {
          "educ_expected_yrs_f": 9.583486557,
          "fertility_total": 4.209,
          "gdi": 0.926,
          "gdp_percap": 381.2589876,
          "hdi": 0.478,
          "immunization": 89.5,
          "life_birthf": 66.937
         },
         {
          "educ_expected_yrs_f": 12.68888378,
          "fertility_total": 2.001,
          "gdi": 0.97,
          "gdp_percap": 11377.455,
          "hdi": 0.805,
          "immunization": 97.5,
          "life_birthf": 78.167
         },
         {
          "educ_expected_yrs_f": 5.42065239,
          "fertility_total": 5.877000000000001,
          "gdi": 0.81,
          "gdp_percap": 894.8021868999999,
          "hdi": 0.431,
          "immunization": 73.5,
          "life_birthf": 59.649
         },
         {
          "educ_expected_yrs_f": 13.50980282,
          "fertility_total": 1.23,
          "gdi": 0.968,
          "gdp_percap": 30437.221510000003,
          "hdi": 0.894,
          "immunization": 96.5,
          "life_birthf": 84.6
         },
         {
          "educ_expected_yrs_f": 7.564128876,
          "fertility_total": 4.561,
          "gdi": 0.86,
          "gdp_percap": 1600.876469,
          "hdi": 0.542,
          "immunization": 79.5,
          "life_birthf": 66.292
         },
         {
          "educ_expected_yrs_f": 12.77645302,
          "fertility_total": 1.41,
          "gdi": 0.974,
          "gdp_percap": 11208.34382,
          "hdi": 0.8009999999999999,
          "immunization": 98,
          "life_birthf": 77.72
         },
         {
          "educ_expected_yrs_f": 12.97874069,
          "fertility_total": 2.129,
          "gdi": 0.962,
          "gdp_percap": 9686.513783,
          "hdi": 0.7759999999999999,
          "immunization": 92.5,
          "life_birthf": 77.844
         },
         {
          "educ_expected_yrs_f": 13.25112915,
          "fertility_total": 2.895,
          "gdi": 1.02,
          "gdp_percap": 4134.987198,
          "hdi": 0.735,
          "immunization": 99,
          "life_birthf": 73.961
         },
         {
          "educ_expected_yrs_f": 12.64217091,
          "fertility_total": 1.745,
          "gdi": 0.965,
          "gdp_percap": 8846.056525,
          "hdi": 0.826,
          "immunization": 64,
          "life_birthf": 79.199
         },
         {
          "educ_expected_yrs_f": 10.41762161,
          "fertility_total": 2.415,
          "gdi": 0.833,
          "gdp_percap": 3222.200634,
          "hdi": 0.68,
          "immunization": 99,
          "life_birthf": 77.668
         },
         {
          "educ_expected_yrs_f": 9.829102516,
          "fertility_total": 2.154,
          "gdi": 0.953,
          "gdp_percap": 1418.177623,
          "hdi": 0.579,
          "immunization": 92,
          "life_birthf": 69.874
         },
         {
          "educ_expected_yrs_f": 9.723130226,
          "fertility_total": 3.3960000000000004,
          "gdi": 1.007,
          "gdp_percap": 5495.428925,
          "hdi": 0.645,
          "immunization": 85.5,
          "life_birthf": 66.18
         },
         {
          "educ_expected_yrs_f": 12.0131464,
          "fertility_total": 1.917,
          "gdi": 0.927,
          "gdp_percap": 1038.651647,
          "hdi": 0.596,
          "immunization": 91,
          "life_birthf": 71.9
         },
         {
          "educ_expected_yrs_f": 13.92983341,
          "fertility_total": 1.59,
          "gdi": 0.967,
          "gdp_percap": 53044.53244,
          "hdi": 0.942,
          "immunization": 93,
          "life_birthf": 83.4
         },
         {
          "educ_expected_yrs_f": 13.77946663,
          "fertility_total": 1.71,
          "gdi": 0.965,
          "gdp_percap": 42427.58315,
          "hdi": 0.928,
          "immunization": 92.5,
          "life_birthf": 83.6
         },
         {
          "educ_expected_yrs_f": 11.10092926,
          "fertility_total": 2.404,
          "gdi": 1.011,
          "gdp_percap": 2020.55193,
          "hdi": 0.659,
          "immunization": 98.5,
          "life_birthf": 77.77
         },
         {
          "educ_expected_yrs_f": 5.059231758,
          "fertility_total": 6.912999999999999,
          "gdi": 0.727,
          "gdp_percap": 572.4271543,
          "hdi": 0.391,
          "immunization": 78,
          "life_birthf": 63.212
         },
         {
          "educ_expected_yrs_f": 10.09999943,
          "fertility_total": 5.3870000000000005,
          "gdi": 0.8740000000000001,
          "gdp_percap": 2027.777979,
          "hdi": 0.534,
          "immunization": 55,
          "life_birthf": 55.244
         },
         {
          "educ_expected_yrs_f": 11.08503532,
          "fertility_total": 1.496,
          "gdi": 0.948,
          "gdp_percap": 6088.972445,
          "hdi": 0.77,
          "immunization": 83.5,
          "life_birthf": 77.736
         },
         {
          "educ_expected_yrs_f": 13.67211056,
          "fertility_total": 1.56,
          "gdi": 0.989,
          "gdp_percap": 81734.46557,
          "hdi": 0.956,
          "immunization": 96,
          "life_birthf": 84.5
         },
         {
          "educ_expected_yrs_f": 13.10266685,
          "fertility_total": 2.888,
          "gdi": 0.937,
          "gdp_percap": 16521.18228,
          "hdi": 0.813,
          "immunization": 99,
          "life_birthf": 80.134
         },
         {
          "educ_expected_yrs_f": 8.687153816,
          "fertility_total": 3.51,
          "gdi": 0.736,
          "gdp_percap": 1482.305667,
          "hdi": 0.552,
          "immunization": 74,
          "life_birthf": 68.109
         },
         {
          "educ_expected_yrs_f": 10.88493347,
          "fertility_total": 2.461,
          "gdi": 1.009,
          "gdp_percap": 15592.57368,
          "hdi": 0.812,
          "immunization": 93,
          "life_birthf": 81.593
         },
         {
          "educ_expected_yrs_f": 11.26677418,
          "fertility_total": 2.4290000000000003,
          "gdi": 0.967,
          "gdp_percap": 5805.675616,
          "hdi": 0.727,
          "immunization": 90.5,
          "life_birthf": 76.25
         },
         {
          "educ_expected_yrs_f": 12.89012051,
          "fertility_total": 2.254,
          "gdi": 0.964,
          "gdp_percap": 6941.235848,
          "hdi": 0.7709999999999999,
          "immunization": 84.5,
          "life_birthf": 79.28
         },
         {
          "educ_expected_yrs_f": 13.04763317,
          "fertility_total": 2.576,
          "gdi": 1.005,
          "gdp_percap": 3252.092324,
          "hdi": 0.711,
          "immunization": 66,
          "life_birthf": 75.387
         },
         {
          "educ_expected_yrs_f": 13.45503712,
          "fertility_total": 1.46,
          "gdi": 1.008,
          "gdp_percap": 15468.482219999998,
          "hdi": 0.877,
          "immunization": 94,
          "life_birthf": 81.7
         },
         {
          "educ_expected_yrs_f": 13.82900047,
          "fertility_total": 1.42,
          "gdi": 0.985,
          "gdp_percap": 23562.55452,
          "hdi": 0.86,
          "immunization": 99,
          "life_birthf": 84.5
         },
         {
          "educ_expected_yrs_f": 12.7883606,
          "fertility_total": 1.866,
          "gdi": 1.031,
          "gdp_percap": 65908.0669,
          "hdi": 0.845,
          "immunization": 98.5,
          "life_birthf": 81.876
         },
         {
          "educ_expected_yrs_f": 11.98094845,
          "fertility_total": 1.76,
          "gdi": 0.989,
          "gdp_percap": 12399.88934,
          "hdi": 0.823,
          "immunization": 88,
          "life_birthf": 79.2
         },
         {
          "educ_expected_yrs_f": 13.68534756,
          "fertility_total": 1.579,
          "gdi": 1.009,
          "gdp_percap": 11370.81346,
          "hdi": 0.823,
          "immunization": 97.5,
          "life_birthf": 77.82
         },
         {
          "educ_expected_yrs_f": 6.980305195,
          "fertility_total": 4.044,
          "gdi": 0.943,
          "gdp_percap": 783.2871842000001,
          "hdi": 0.54,
          "immunization": 98,
          "life_birthf": 70.78399999999999
         },
         {
          "educ_expected_yrs_f": 12.26758575,
          "fertility_total": 2.319,
          "gdi": 0.875,
          "gdp_percap": 23338.96346,
          "hdi": 0.8540000000000001,
          "immunization": 97,
          "life_birthf": 76.615
         },
         {
          "educ_expected_yrs_f": 7.849748135,
          "fertility_total": 4.625,
          "gdi": 0.877,
          "gdp_percap": 1465.591006,
          "hdi": 0.516,
          "immunization": 82.5,
          "life_birthf": 69.627
         },
         {
          "educ_expected_yrs_f": 13.49239731,
          "fertility_total": 1.49,
          "gdi": 0.975,
          "gdp_percap": 7252.401858,
          "hdi": 0.8029999999999999,
          "immunization": 94,
          "life_birthf": 78.4
         },
         {
          "educ_expected_yrs_f": 9.282006264,
          "fertility_total": 4.263,
          "gdi": 0.8809999999999999,
          "gdp_percap": 533.9911843,
          "hdi": 0.447,
          "immunization": 90,
          "life_birthf": 55.106
         },
         {
          "educ_expected_yrs_f": 13.90422153,
          "fertility_total": 1.14,
          "gdi": 0.986,
          "gdp_percap": 66188.7794,
          "hdi": 0.936,
          "immunization": 95.5,
          "life_birthf": 85.5
         },
         {
          "educ_expected_yrs_f": 13.71750641,
          "fertility_total": 1.61,
          "gdi": 1.002,
          "gdp_percap": 26115.91337,
          "hdi": 0.912,
          "immunization": 93,
          "life_birthf": 84.4
         },
         {
          "educ_expected_yrs_f": 10.11397743,
          "fertility_total": 2.405,
          "gdi": 0.983,
          "gdp_percap": 6372.605654999999,
          "hdi": 0.7070000000000001,
          "immunization": 72,
          "life_birthf": 67.398
         },
         {
          "educ_expected_yrs_f": 13.08606815,
          "fertility_total": 1.26,
          "gdi": 0.981,
          "gdp_percap": 30389.36099,
          "hdi": 0.905,
          "immunization": 96.5,
          "life_birthf": 86.3
         },
         {
          "educ_expected_yrs_f": 13.11488724,
          "fertility_total": 2.199,
          "gdi": 0.939,
          "gdp_percap": 4080.567125,
          "hdi": 0.779,
          "immunization": 99,
          "life_birthf": 80.12100000000001
         },
         {
          "educ_expected_yrs_f": 6.943500996,
          "fertility_total": 4.407,
          "gdi": 0.8540000000000001,
          "gdp_percap": 623.8672524,
          "hdi": 0.506,
          "immunization": 90.5,
          "life_birthf": 66.947
         },
         {
          "educ_expected_yrs_f": 13.90402126,
          "fertility_total": 1.76,
          "gdi": 0.982,
          "gdp_percap": 54589.06039,
          "hdi": 0.943,
          "immunization": 97,
          "life_birthf": 84.3
         },
         {
          "educ_expected_yrs_f": 13.21845913,
          "fertility_total": 1.52,
          "gdi": 0.968,
          "gdp_percap": 82818.10816,
          "hdi": 0.955,
          "immunization": 95.5,
          "life_birthf": 85.7
         },
         {
          "educ_expected_yrs_f": 10.43918705,
          "fertility_total": 3.585,
          "gdi": 0.823,
          "gdp_percap": 826.6215305,
          "hdi": 0.6609999999999999,
          "immunization": 97,
          "life_birthf": 73.17699999999999
         },
         {
          "educ_expected_yrs_f": 12.644207000000002,
          "fertility_total": 1.525,
          "gdi": 0.997,
          "gdp_percap": 7295.475616,
          "hdi": 0.772,
          "immunization": 96.5,
          "life_birthf": 80.704
         },
         {
          "educ_expected_yrs_f": 10.87477875,
          "fertility_total": 4.023,
          "gdi": 0.946,
          "gdp_percap": 1230.228191,
          "hdi": 0.599,
          "immunization": 80,
          "life_birthf": 71.376
         },
         {
          "educ_expected_yrs_f": 9.123530388,
          "fertility_total": 4.32,
          "gdi": 0.8190000000000001,
          "gdp_percap": 679.9727606,
          "hdi": 0.51,
          "immunization": 76,
          "life_birthf": 61.612
         },
         {
          "educ_expected_yrs_f": 11.83284092,
          "fertility_total": 3.556,
          "gdi": 0.949,
          "gdp_percap": 4740.792149,
          "hdi": 0.723,
          "immunization": 99,
          "life_birthf": 72.763
         },
         {
          "educ_expected_yrs_f": 10.95233727,
          "fertility_total": 2.197,
          "gdi": 0.899,
          "gdp_percap": 3438.789089,
          "hdi": 0.738,
          "immunization": 89.5,
          "life_birthf": 78.536
         },
         {
          "educ_expected_yrs_f": 11.99552917,
          "fertility_total": 2.069,
          "gdi": 0.926,
          "gdp_percap": 9455.593654,
          "hdi": 0.8170000000000001,
          "immunization": 97,
          "life_birthf": 80.336
         },
         {
          "educ_expected_yrs_f": 13.00567055,
          "fertility_total": 1.301,
          "gdi": 1,
          "gdp_percap": 3096.817402,
          "hdi": 0.774,
          "immunization": 80,
          "life_birthf": 76.72
         },
         {
          "educ_expected_yrs_f": 13.1702652,
          "fertility_total": 1.413,
          "gdi": 0.926,
          "gdp_percap": 43839.35635,
          "hdi": 0.889,
          "immunization": 99,
          "life_birthf": 79.164
         },
         {
          "educ_expected_yrs_f": 13.85765934,
          "fertility_total": 1.68,
          "gdi": 0.968,
          "gdp_percap": 43043.22782,
          "hdi": 0.928,
          "immunization": 93,
          "life_birthf": 83.1
         },
         {
          "educ_expected_yrs_f": 12.93639374,
          "fertility_total": 1.7295,
          "gdi": 0.993,
          "gdp_percap": 62996.47129,
          "hdi": 0.925,
          "immunization": 93,
          "life_birthf": 81.2
         },
         {
          "educ_expected_yrs_f": 12.47761631,
          "fertility_total": 1.973,
          "gdi": 1.017,
          "gdp_percap": 17277.97011,
          "hdi": 0.816,
          "immunization": 94,
          "life_birthf": 81.359
         },
         {
          "educ_expected_yrs_f": 12.00484753,
          "fertility_total": 2.604,
          "gdi": 0.938,
          "gdp_percap": 1529.082864,
          "hdi": 0.7170000000000001,
          "immunization": 97,
          "life_birthf": 73.676
         },
         {
          "educ_expected_yrs_f": 8.745135307,
          "fertility_total": 4.633,
          "gdi": 0.98,
          "gdp_percap": 1516.390661,
          "hdi": 0.5820000000000001,
          "immunization": 92,
          "life_birthf": 66.447
         },
         {
          "educ_expected_yrs_f": 10.97491837,
          "fertility_total": 3.615,
          "gdi": 0.927,
          "gdp_percap": 1683.740577,
          "hdi": 0.569,
          "immunization": 88.5,
          "life_birthf": 62.598
         }
        ]
       },
       "encoding": {
        "x": {
         "field": "life_birthf",
         "scale": {
          "zero": false
         },
         "title": "Life expectancy at birth",
         "type": "quantitative"
        },
        "y": {
         "field": "fertility_total",
         "title": "Fertility rate",
         "type": "quantitative"
        }
       },
       "height": 300,
       "mark": "circle",
       "width": 300
      },
      "image/png": "[encoded data removed]",
      "text/plain": [
       "<VegaLite 4 object>\n",
       "\n",
       "If you see this message, it means the renderer has not been properly enabled\n",
       "for the frontend that you are using. For more information, see\n",
       "https://altair-viz.github.io/user_guide/troubleshooting.html\n"
      ]
     },
     "execution_count": 67,
     "metadata": {},
     "output_type": "execute_result"
    }
   ],
   "source": [
    "base = alt.Chart(data)\n",
    "    \n",
    "scatter_life = base.mark_circle().encode( \n",
    "    x = alt.X(\"life_birthf:Q\",\n",
    "              scale = alt.Scale(zero = False),\n",
    "              title = \"Life expectancy at birth\"), \n",
    "    y = alt.Y(\"fertility_total:Q\",\n",
    "              title = \"Fertility rate\")\n",
    ").properties(\n",
    "    width = 300,\n",
    "    height = 300)\n",
    "\n",
    "scatter_life"
   ]
  },
  {
   "cell_type": "markdown",
   "id": "a746a343-37f4-43f6-9203-648150d5a484",
   "metadata": {},
   "source": [
    "Here, we also see a negative, approximately linear association between fertility rate and women's life expectancy at birth. "
   ]
  },
  {
   "cell_type": "markdown",
   "id": "cbc24ba3-1d9d-462a-9ca3-a9c2f84aa37a",
   "metadata": {
    "tags": []
   },
   "source": [
    "#### HDI and fertility rate"
   ]
  },
  {
   "cell_type": "code",
   "execution_count": 68,
   "id": "bfc980b7-5a1e-40d9-9fc4-833043ea4c12",
   "metadata": {
    "tags": []
   },
   "outputs": [
    {
     "data": {
      "application/vnd.vegalite.v4+json": {
       "$schema": "https://vega.github.io/schema/vega-lite/v4.17.0.json",
       "config": {
        "view": {
         "continuousHeight": 300,
         "continuousWidth": 400
        }
       },
       "data": {
        "name": "data-6cd1456596c1f74e121582c365026ae5"
       },
       "datasets": {
        "data-6cd1456596c1f74e121582c365026ae5": [
         {
          "educ_expected_yrs_f": 6.795722485,
          "fertility_total": 4.473,
          "gdi": 0.6629999999999999,
          "gdp_percap": 493.7504181,
          "hdi": 0.509,
          "immunization": 65,
          "life_birthf": 66.02600000000001
         },
         {
          "educ_expected_yrs_f": 13.20175457,
          "fertility_total": 1.617,
          "gdi": 0.971,
          "gdp_percap": 5284.380184000001,
          "hdi": 0.792,
          "immunization": 96.5,
          "life_birthf": 80.167
         },
         {
          "educ_expected_yrs_f": 12.10898972,
          "fertility_total": 3.023,
          "gdi": 0.86,
          "gdp_percap": 4153.733978,
          "hdi": 0.746,
          "immunization": 85.5,
          "life_birthf": 77.938
         },
         {
          "educ_expected_yrs_f": 6.973901272000001,
          "fertility_total": 5.519,
          "gdi": 0.903,
          "gdp_percap": 3289.646664,
          "hdi": 0.5820000000000001,
          "immunization": 56.5,
          "life_birthf": 63.666
         },
         {
          "educ_expected_yrs_f": 13.06125259,
          "fertility_total": 2.261,
          "gdi": 0.992,
          "gdp_percap": 11633.49801,
          "hdi": 0.8420000000000001,
          "immunization": 90,
          "life_birthf": 79.863
         },
         {
          "educ_expected_yrs_f": 11.62581253,
          "fertility_total": 1.755,
          "gdi": 0.978,
          "gdp_percap": 4220.490277,
          "hdi": 0.7709999999999999,
          "immunization": 93.5,
          "life_birthf": 78.354
         },
         {
          "educ_expected_yrs_f": 13.62022209,
          "fertility_total": 1.74,
          "gdi": 0.976,
          "gdp_percap": 57354.96405,
          "hdi": 0.943,
          "immunization": 95,
          "life_birthf": 84.9
         },
         {
          "educ_expected_yrs_f": 13.46689415,
          "fertility_total": 1.47,
          "gdi": 0.966,
          "gdp_percap": 51478.28526,
          "hdi": 0.921,
          "immunization": 89.5,
          "life_birthf": 84.1
         },
         {
          "educ_expected_yrs_f": 12.44501495,
          "fertility_total": 1.73,
          "gdi": 0.939,
          "gdp_percap": 4739.841710000001,
          "hdi": 0.754,
          "immunization": 95.5,
          "life_birthf": 75.336
         },
         {
          "educ_expected_yrs_f": 13.27036572,
          "fertility_total": 1.987,
          "gdi": 0.936,
          "gdp_percap": 23991.05668,
          "hdi": 0.852,
          "immunization": 99,
          "life_birthf": 78.285
         },
         {
          "educ_expected_yrs_f": 10.52187443,
          "fertility_total": 2.036,
          "gdi": 0.8959999999999999,
          "gdp_percap": 1698.350394,
          "hdi": 0.625,
          "immunization": 97.5,
          "life_birthf": 74.291
         },
         {
          "educ_expected_yrs_f": 13.75893879,
          "fertility_total": 1.4480000000000002,
          "gdi": 1.009,
          "gdp_percap": 6330.075246,
          "hdi": 0.823,
          "immunization": 97.5,
          "life_birthf": 79.4
         },
         {
          "educ_expected_yrs_f": 13.56679726,
          "fertility_total": 1.62,
          "gdi": 0.973,
          "gdp_percap": 47583.07494,
          "hdi": 0.93,
          "immunization": 97,
          "life_birthf": 83.9
         },
         {
          "educ_expected_yrs_f": 8.782134056,
          "fertility_total": 4.836,
          "gdi": 0.855,
          "gdp_percap": 1240.829464,
          "hdi": 0.541,
          "immunization": 73.5,
          "life_birthf": 63.003
         },
         {
          "educ_expected_yrs_f": 10.70332813,
          "fertility_total": 1.975,
          "gdi": 0.91,
          "gdp_percap": 3243.486036,
          "hdi": 0.649,
          "immunization": 97,
          "life_birthf": 71.816
         },
         {
          "educ_expected_yrs_f": 11.78481483,
          "fertility_total": 1.265,
          "gdi": 0.932,
          "gdp_percap": 6072.184623,
          "hdi": 0.777,
          "immunization": 70.5,
          "life_birthf": 79.72
         },
         {
          "educ_expected_yrs_f": 8.500170707999999,
          "fertility_total": 2.874,
          "gdi": 0.995,
          "gdp_percap": 8279.601739,
          "hdi": 0.73,
          "immunization": 96,
          "life_birthf": 72.04899999999999
         },
         {
          "educ_expected_yrs_f": 13.21317291,
          "fertility_total": 1.848,
          "gdi": 0.978,
          "gdp_percap": 31628.32879,
          "hdi": 0.836,
          "immunization": 99,
          "life_birthf": 76.96
         },
         {
          "educ_expected_yrs_f": 12.24310493,
          "fertility_total": 1.56,
          "gdi": 0.994,
          "gdp_percap": 9427.73043,
          "hdi": 0.813,
          "immunization": 92.5,
          "life_birthf": 78.6
         },
         {
          "educ_expected_yrs_f": 6.696904658999999,
          "fertility_total": 5.189,
          "gdi": 0.865,
          "gdp_percap": 813.096849,
          "hdi": 0.4429999999999999,
          "immunization": 89.5,
          "life_birthf": 61.863
         },
         {
          "educ_expected_yrs_f": 8.191820145,
          "fertility_total": 5.41,
          "gdi": 0.996,
          "gdp_percap": 271.7520444,
          "hdi": 0.431,
          "immunization": 89,
          "life_birthf": 63.031000000000006
         },
         {
          "educ_expected_yrs_f": 9.635119438,
          "fertility_total": 2.503,
          "gdi": 0.92,
          "gdp_percap": 1512.12671,
          "hdi": 0.585,
          "immunization": 88,
          "life_birthf": 71.62899999999999
         },
         {
          "educ_expected_yrs_f": 8.315596581,
          "fertility_total": 4.572,
          "gdi": 0.87,
          "gdp_percap": 1534.493702,
          "hdi": 0.56,
          "immunization": 63,
          "life_birthf": 60.192
         },
         {
          "educ_expected_yrs_f": 13.709587099999998,
          "fertility_total": 1.4988,
          "gdi": 0.99,
          "gdp_percap": 46303.90878,
          "hdi": 0.928,
          "immunization": 90.5,
          "life_birthf": 84.2
         },
         {
          "educ_expected_yrs_f": 3.848102808,
          "fertility_total": 4.721,
          "gdi": 0.8,
          "gdp_percap": 475.9536099,
          "hdi": 0.395,
          "immunization": 48,
          "life_birthf": 54.99100000000001
         },
         {
          "educ_expected_yrs_f": 4.473656654,
          "fertility_total": 5.747000000000001,
          "gdi": 0.773,
          "gdp_percap": 726.1498811,
          "hdi": 0.397,
          "immunization": 44,
          "life_birthf": 55.4
         },
         {
          "educ_expected_yrs_f": 13.05471802,
          "fertility_total": 1.649,
          "gdi": 0.964,
          "gdp_percap": 15924.79424,
          "hdi": 0.8490000000000001,
          "immunization": 94,
          "life_birthf": 82.381
         },
         {
          "educ_expected_yrs_f": 13.0906477,
          "fertility_total": 1.69,
          "gdi": 0.959,
          "gdp_percap": 9976.677137,
          "hdi": 0.755,
          "immunization": 99,
          "life_birthf": 79.051
         },
         {
          "educ_expected_yrs_f": 12.70421314,
          "fertility_total": 1.807,
          "gdi": 0.99,
          "gdp_percap": 6716.911598000001,
          "hdi": 0.764,
          "immunization": 93.5,
          "life_birthf": 79.859
         },
         {
          "educ_expected_yrs_f": 8.128657341,
          "fertility_total": 4.205,
          "gdi": 0.89,
          "gdp_percap": 1415.9553130000002,
          "hdi": 0.552,
          "immunization": 90.5,
          "life_birthf": 65.9
         },
         {
          "educ_expected_yrs_f": 12.51764488,
          "fertility_total": 1.754,
          "gdi": 0.981,
          "gdp_percap": 12112.13442,
          "hdi": 0.8079999999999999,
          "immunization": 94,
          "life_birthf": 82.73
         },
         {
          "educ_expected_yrs_f": 13.5518446,
          "fertility_total": 1.47,
          "gdi": 0.99,
          "gdp_percap": 15014.08502,
          "hdi": 0.848,
          "immunization": 93,
          "life_birthf": 81.4
         },
         {
          "educ_expected_yrs_f": 13.61954403,
          "fertility_total": 1.329,
          "gdi": 0.983,
          "gdp_percap": 28689.70672,
          "hdi": 0.885,
          "immunization": 94.5,
          "life_birthf": 82.913
         },
         {
          "educ_expected_yrs_f": 13.47161579,
          "fertility_total": 1.73,
          "gdi": 0.981,
          "gdp_percap": 61598.5367,
          "hdi": 0.939,
          "immunization": 96,
          "life_birthf": 82.9
         },
         {
          "educ_expected_yrs_f": 12.15325356,
          "fertility_total": 2.346,
          "gdi": 0.999,
          "gdp_percap": 8050.630440000001,
          "hdi": 0.7509999999999999,
          "immunization": 94.5,
          "life_birthf": 77.196
         },
         {
          "educ_expected_yrs_f": 13.219711300000002,
          "fertility_total": 2.427,
          "gdi": 0.979,
          "gdp_percap": 6295.935399,
          "hdi": 0.762,
          "immunization": 84,
          "life_birthf": 79.645
         },
         {
          "educ_expected_yrs_f": 10.9428196,
          "fertility_total": 2.039,
          "gdi": 0.974,
          "gdp_percap": 4067.659449,
          "hdi": 0.67,
          "immunization": 81,
          "life_birthf": 77.635
         },
         {
          "educ_expected_yrs_f": 13.53030491,
          "fertility_total": 1.67,
          "gdi": 1.016,
          "gdp_percap": 23170.70738,
          "hdi": 0.889,
          "immunization": 89.5,
          "life_birthf": 82.7
         },
         {
          "educ_expected_yrs_f": 7.516855717,
          "fertility_total": 4.247,
          "gdi": 0.846,
          "gdp_percap": 771.5238138999999,
          "hdi": 0.478,
          "immunization": 61.5,
          "life_birthf": 68.165
         },
         {
          "educ_expected_yrs_f": 13.74469662,
          "fertility_total": 1.41,
          "gdi": 0.99,
          "gdp_percap": 50030.87731,
          "hdi": 0.937,
          "immunization": 93.5,
          "life_birthf": 84.5
         },
         {
          "educ_expected_yrs_f": 13.8239584,
          "fertility_total": 1.88,
          "gdi": 0.987,
          "gdp_percap": 41631.09074,
          "hdi": 0.898,
          "immunization": 93,
          "life_birthf": 85.9
         },
         {
          "educ_expected_yrs_f": 8.538388252,
          "fertility_total": 3.969,
          "gdi": 0.916,
          "gdp_percap": 7956.627815999999,
          "hdi": 0.6970000000000001,
          "immunization": 64.5,
          "life_birthf": 68.32300000000001
         },
         {
          "educ_expected_yrs_f": 13.02663994,
          "fertility_total": 2.06,
          "gdi": 0.979,
          "gdp_percap": 4722.787783,
          "hdi": 0.805,
          "immunization": 95.5,
          "life_birthf": 77.98899999999999
         },
         {
          "educ_expected_yrs_f": 13.34453487,
          "fertility_total": 1.57,
          "gdi": 0.968,
          "gdp_percap": 47810.50767,
          "hdi": 0.946,
          "immunization": 95,
          "life_birthf": 83.3
         },
         {
          "educ_expected_yrs_f": 11.91578197,
          "fertility_total": 3.87,
          "gdi": 0.909,
          "gdp_percap": 2202.312164,
          "hdi": 0.606,
          "immunization": 94.5,
          "life_birthf": 64.852
         },
         {
          "educ_expected_yrs_f": 13.28767872,
          "fertility_total": 1.35,
          "gdi": 0.964,
          "gdp_percap": 20324.30499,
          "hdi": 0.8809999999999999,
          "immunization": 98,
          "life_birthf": 84.4
         },
         {
          "educ_expected_yrs_f": 9.521496773,
          "fertility_total": 2.87,
          "gdi": 0.941,
          "gdp_percap": 4472.892371,
          "hdi": 0.657,
          "immunization": 86.5,
          "life_birthf": 76.937
         },
         {
          "educ_expected_yrs_f": 6.210740089,
          "fertility_total": 4.7,
          "gdi": 0.816,
          "gdp_percap": 878.5996133,
          "hdi": 0.473,
          "immunization": 47,
          "life_birthf": 61.666
         },
         {
          "educ_expected_yrs_f": 12.30990696,
          "fertility_total": 2.462,
          "gdi": 0.967,
          "gdp_percap": 6145.842411,
          "hdi": 0.68,
          "immunization": 96.5,
          "life_birthf": 72.972
         },
         {
          "educ_expected_yrs_f": 11.44699955,
          "fertility_total": 2.935,
          "gdi": 0.875,
          "gdp_percap": 1435.351756,
          "hdi": 0.508,
          "immunization": 66.5,
          "life_birthf": 65.832
         },
         {
          "educ_expected_yrs_f": 9.822359085,
          "fertility_total": 2.46,
          "gdi": 0.978,
          "gdp_percap": 2505.776752,
          "hdi": 0.633,
          "immunization": 89.5,
          "life_birthf": 77.378
         },
         {
          "educ_expected_yrs_f": 12.96164417,
          "fertility_total": 1.55,
          "gdi": 0.98,
          "gdp_percap": 16410.18726,
          "hdi": 0.85,
          "immunization": 99,
          "life_birthf": 79.6
         },
         {
          "educ_expected_yrs_f": 13.54500961,
          "fertility_total": 1.71,
          "gdi": 0.969,
          "gdp_percap": 72968.70422999999,
          "hdi": 0.946,
          "immunization": 92,
          "life_birthf": 84.5
         },
         {
          "educ_expected_yrs_f": 10.93618393,
          "fertility_total": 2.222,
          "gdi": 0.818,
          "gdp_percap": 2005.863005,
          "hdi": 0.642,
          "immunization": 91.5,
          "life_birthf": 70.692
         },
         {
          "educ_expected_yrs_f": 12.41253376,
          "fertility_total": 2.311,
          "gdi": 0.938,
          "gdp_percap": 3893.846425,
          "hdi": 0.7120000000000001,
          "immunization": 87,
          "life_birthf": 73.748
         },
         {
          "educ_expected_yrs_f": 7.038986206000001,
          "fertility_total": 3.672,
          "gdi": 0.7709999999999999,
          "gdp_percap": 5834.166211,
          "hdi": 0.6709999999999999,
          "immunization": 83.5,
          "life_birthf": 72.486
         },
         {
          "educ_expected_yrs_f": 13.92032051,
          "fertility_total": 1.75,
          "gdi": 0.978,
          "gdp_percap": 78621.22793,
          "hdi": 0.951,
          "immunization": 93,
          "life_birthf": 84.1
         },
         {
          "educ_expected_yrs_f": 13.90762043,
          "fertility_total": 3.09,
          "gdi": 0.973,
          "gdp_percap": 41719.72544,
          "hdi": 0.916,
          "immunization": 98,
          "life_birthf": 84.8
         },
         {
          "educ_expected_yrs_f": 13.31961727,
          "fertility_total": 1.29,
          "gdi": 0.969,
          "gdp_percap": 34615.75689,
          "hdi": 0.89,
          "immunization": 94,
          "life_birthf": 85.6
         },
         {
          "educ_expected_yrs_f": 11.82789326,
          "fertility_total": 1.979,
          "gdi": 0.988,
          "gdp_percap": 5354.236859000001,
          "hdi": 0.7340000000000001,
          "immunization": 93,
          "life_birthf": 75.993
         },
         {
          "educ_expected_yrs_f": 11.72220421,
          "fertility_total": 2.761,
          "gdi": 0.875,
          "gdp_percap": 4312.180117,
          "hdi": 0.728,
          "immunization": 94,
          "life_birthf": 76.175
         },
         {
          "educ_expected_yrs_f": 13.86884308,
          "fertility_total": 2.84,
          "gdi": 0.997,
          "gdp_percap": 9812.626370999998,
          "hdi": 0.8190000000000001,
          "immunization": 98.5,
          "life_birthf": 77.19
         },
         {
          "educ_expected_yrs_f": 11.30184937,
          "fertility_total": 3.492,
          "gdi": 0.926,
          "gdp_percap": 1707.986805,
          "hdi": 0.599,
          "immunization": 90.5,
          "life_birthf": 68.684
         },
         {
          "educ_expected_yrs_f": 12.40283394,
          "fertility_total": 2.082,
          "gdi": 0.973,
          "gdp_percap": 33994.38192,
          "hdi": 0.807,
          "immunization": 94.5,
          "life_birthf": 76.467
         },
         {
          "educ_expected_yrs_f": 13.7176199,
          "fertility_total": 1.6,
          "gdi": 1.035,
          "gdp_percap": 17858.279980000003,
          "hdi": 0.863,
          "immunization": 97,
          "life_birthf": 79.7
         },
         {
          "educ_expected_yrs_f": 10.41264439,
          "fertility_total": 3.141,
          "gdi": 1.019,
          "gdp_percap": 1221.883763,
          "hdi": 0.522,
          "immunization": 88.5,
          "life_birthf": 56.95399999999999
         },
         {
          "educ_expected_yrs_f": 4.166073798999999,
          "fertility_total": 4.315,
          "gdi": 0.895,
          "gdp_percap": 677.3221785000001,
          "hdi": 0.48,
          "immunization": 87.5,
          "life_birthf": 65.11399999999999
         },
         {
          "educ_expected_yrs_f": 13.88928127,
          "fertility_total": 1.63,
          "gdi": 1.029,
          "gdp_percap": 19176.17652,
          "hdi": 0.8759999999999999,
          "immunization": 92,
          "life_birthf": 80.7
         },
         {
          "educ_expected_yrs_f": 12.47436428,
          "fertility_total": 1.38,
          "gdi": 0.975,
          "gdp_percap": 116654.2611,
          "hdi": 0.913,
          "immunization": 99,
          "life_birthf": 84.6
         },
         {
          "educ_expected_yrs_f": 8.609224318999999,
          "fertility_total": 4.077,
          "gdi": 0.949,
          "gdp_percap": 527.5013261,
          "hdi": 0.527,
          "immunization": 68.5,
          "life_birthf": 68.301
         },
         {
          "educ_expected_yrs_f": 9.583486557,
          "fertility_total": 4.209,
          "gdi": 0.926,
          "gdp_percap": 381.2589876,
          "hdi": 0.478,
          "immunization": 89.5,
          "life_birthf": 66.937
         },
         {
          "educ_expected_yrs_f": 12.68888378,
          "fertility_total": 2.001,
          "gdi": 0.97,
          "gdp_percap": 11377.455,
          "hdi": 0.805,
          "immunization": 97.5,
          "life_birthf": 78.167
         },
         {
          "educ_expected_yrs_f": 5.42065239,
          "fertility_total": 5.877000000000001,
          "gdi": 0.81,
          "gdp_percap": 894.8021868999999,
          "hdi": 0.431,
          "immunization": 73.5,
          "life_birthf": 59.649
         },
         {
          "educ_expected_yrs_f": 13.50980282,
          "fertility_total": 1.23,
          "gdi": 0.968,
          "gdp_percap": 30437.221510000003,
          "hdi": 0.894,
          "immunization": 96.5,
          "life_birthf": 84.6
         },
         {
          "educ_expected_yrs_f": 7.564128876,
          "fertility_total": 4.561,
          "gdi": 0.86,
          "gdp_percap": 1600.876469,
          "hdi": 0.542,
          "immunization": 79.5,
          "life_birthf": 66.292
         },
         {
          "educ_expected_yrs_f": 12.77645302,
          "fertility_total": 1.41,
          "gdi": 0.974,
          "gdp_percap": 11208.34382,
          "hdi": 0.8009999999999999,
          "immunization": 98,
          "life_birthf": 77.72
         },
         {
          "educ_expected_yrs_f": 12.97874069,
          "fertility_total": 2.129,
          "gdi": 0.962,
          "gdp_percap": 9686.513783,
          "hdi": 0.7759999999999999,
          "immunization": 92.5,
          "life_birthf": 77.844
         },
         {
          "educ_expected_yrs_f": 13.25112915,
          "fertility_total": 2.895,
          "gdi": 1.02,
          "gdp_percap": 4134.987198,
          "hdi": 0.735,
          "immunization": 99,
          "life_birthf": 73.961
         },
         {
          "educ_expected_yrs_f": 12.64217091,
          "fertility_total": 1.745,
          "gdi": 0.965,
          "gdp_percap": 8846.056525,
          "hdi": 0.826,
          "immunization": 64,
          "life_birthf": 79.199
         },
         {
          "educ_expected_yrs_f": 10.41762161,
          "fertility_total": 2.415,
          "gdi": 0.833,
          "gdp_percap": 3222.200634,
          "hdi": 0.68,
          "immunization": 99,
          "life_birthf": 77.668
         },
         {
          "educ_expected_yrs_f": 9.829102516,
          "fertility_total": 2.154,
          "gdi": 0.953,
          "gdp_percap": 1418.177623,
          "hdi": 0.579,
          "immunization": 92,
          "life_birthf": 69.874
         },
         {
          "educ_expected_yrs_f": 9.723130226,
          "fertility_total": 3.3960000000000004,
          "gdi": 1.007,
          "gdp_percap": 5495.428925,
          "hdi": 0.645,
          "immunization": 85.5,
          "life_birthf": 66.18
         },
         {
          "educ_expected_yrs_f": 12.0131464,
          "fertility_total": 1.917,
          "gdi": 0.927,
          "gdp_percap": 1038.651647,
          "hdi": 0.596,
          "immunization": 91,
          "life_birthf": 71.9
         },
         {
          "educ_expected_yrs_f": 13.92983341,
          "fertility_total": 1.59,
          "gdi": 0.967,
          "gdp_percap": 53044.53244,
          "hdi": 0.942,
          "immunization": 93,
          "life_birthf": 83.4
         },
         {
          "educ_expected_yrs_f": 13.77946663,
          "fertility_total": 1.71,
          "gdi": 0.965,
          "gdp_percap": 42427.58315,
          "hdi": 0.928,
          "immunization": 92.5,
          "life_birthf": 83.6
         },
         {
          "educ_expected_yrs_f": 11.10092926,
          "fertility_total": 2.404,
          "gdi": 1.011,
          "gdp_percap": 2020.55193,
          "hdi": 0.659,
          "immunization": 98.5,
          "life_birthf": 77.77
         },
         {
          "educ_expected_yrs_f": 5.059231758,
          "fertility_total": 6.912999999999999,
          "gdi": 0.727,
          "gdp_percap": 572.4271543,
          "hdi": 0.391,
          "immunization": 78,
          "life_birthf": 63.212
         },
         {
          "educ_expected_yrs_f": 10.09999943,
          "fertility_total": 5.3870000000000005,
          "gdi": 0.8740000000000001,
          "gdp_percap": 2027.777979,
          "hdi": 0.534,
          "immunization": 55,
          "life_birthf": 55.244
         },
         {
          "educ_expected_yrs_f": 11.08503532,
          "fertility_total": 1.496,
          "gdi": 0.948,
          "gdp_percap": 6088.972445,
          "hdi": 0.77,
          "immunization": 83.5,
          "life_birthf": 77.736
         },
         {
          "educ_expected_yrs_f": 13.67211056,
          "fertility_total": 1.56,
          "gdi": 0.989,
          "gdp_percap": 81734.46557,
          "hdi": 0.956,
          "immunization": 96,
          "life_birthf": 84.5
         },
         {
          "educ_expected_yrs_f": 13.10266685,
          "fertility_total": 2.888,
          "gdi": 0.937,
          "gdp_percap": 16521.18228,
          "hdi": 0.813,
          "immunization": 99,
          "life_birthf": 80.134
         },
         {
          "educ_expected_yrs_f": 8.687153816,
          "fertility_total": 3.51,
          "gdi": 0.736,
          "gdp_percap": 1482.305667,
          "hdi": 0.552,
          "immunization": 74,
          "life_birthf": 68.109
         },
         {
          "educ_expected_yrs_f": 10.88493347,
          "fertility_total": 2.461,
          "gdi": 1.009,
          "gdp_percap": 15592.57368,
          "hdi": 0.812,
          "immunization": 93,
          "life_birthf": 81.593
         },
         {
          "educ_expected_yrs_f": 11.26677418,
          "fertility_total": 2.4290000000000003,
          "gdi": 0.967,
          "gdp_percap": 5805.675616,
          "hdi": 0.727,
          "immunization": 90.5,
          "life_birthf": 76.25
         },
         {
          "educ_expected_yrs_f": 12.89012051,
          "fertility_total": 2.254,
          "gdi": 0.964,
          "gdp_percap": 6941.235848,
          "hdi": 0.7709999999999999,
          "immunization": 84.5,
          "life_birthf": 79.28
         },
         {
          "educ_expected_yrs_f": 13.04763317,
          "fertility_total": 2.576,
          "gdi": 1.005,
          "gdp_percap": 3252.092324,
          "hdi": 0.711,
          "immunization": 66,
          "life_birthf": 75.387
         },
         {
          "educ_expected_yrs_f": 13.45503712,
          "fertility_total": 1.46,
          "gdi": 1.008,
          "gdp_percap": 15468.482219999998,
          "hdi": 0.877,
          "immunization": 94,
          "life_birthf": 81.7
         },
         {
          "educ_expected_yrs_f": 13.82900047,
          "fertility_total": 1.42,
          "gdi": 0.985,
          "gdp_percap": 23562.55452,
          "hdi": 0.86,
          "immunization": 99,
          "life_birthf": 84.5
         },
         {
          "educ_expected_yrs_f": 12.7883606,
          "fertility_total": 1.866,
          "gdi": 1.031,
          "gdp_percap": 65908.0669,
          "hdi": 0.845,
          "immunization": 98.5,
          "life_birthf": 81.876
         },
         {
          "educ_expected_yrs_f": 11.98094845,
          "fertility_total": 1.76,
          "gdi": 0.989,
          "gdp_percap": 12399.88934,
          "hdi": 0.823,
          "immunization": 88,
          "life_birthf": 79.2
         },
         {
          "educ_expected_yrs_f": 13.68534756,
          "fertility_total": 1.579,
          "gdi": 1.009,
          "gdp_percap": 11370.81346,
          "hdi": 0.823,
          "immunization": 97.5,
          "life_birthf": 77.82
         },
         {
          "educ_expected_yrs_f": 6.980305195,
          "fertility_total": 4.044,
          "gdi": 0.943,
          "gdp_percap": 783.2871842000001,
          "hdi": 0.54,
          "immunization": 98,
          "life_birthf": 70.78399999999999
         },
         {
          "educ_expected_yrs_f": 12.26758575,
          "fertility_total": 2.319,
          "gdi": 0.875,
          "gdp_percap": 23338.96346,
          "hdi": 0.8540000000000001,
          "immunization": 97,
          "life_birthf": 76.615
         },
         {
          "educ_expected_yrs_f": 7.849748135,
          "fertility_total": 4.625,
          "gdi": 0.877,
          "gdp_percap": 1465.591006,
          "hdi": 0.516,
          "immunization": 82.5,
          "life_birthf": 69.627
         },
         {
          "educ_expected_yrs_f": 13.49239731,
          "fertility_total": 1.49,
          "gdi": 0.975,
          "gdp_percap": 7252.401858,
          "hdi": 0.8029999999999999,
          "immunization": 94,
          "life_birthf": 78.4
         },
         {
          "educ_expected_yrs_f": 9.282006264,
          "fertility_total": 4.263,
          "gdi": 0.8809999999999999,
          "gdp_percap": 533.9911843,
          "hdi": 0.447,
          "immunization": 90,
          "life_birthf": 55.106
         },
         {
          "educ_expected_yrs_f": 13.90422153,
          "fertility_total": 1.14,
          "gdi": 0.986,
          "gdp_percap": 66188.7794,
          "hdi": 0.936,
          "immunization": 95.5,
          "life_birthf": 85.5
         },
         {
          "educ_expected_yrs_f": 13.71750641,
          "fertility_total": 1.61,
          "gdi": 1.002,
          "gdp_percap": 26115.91337,
          "hdi": 0.912,
          "immunization": 93,
          "life_birthf": 84.4
         },
         {
          "educ_expected_yrs_f": 10.11397743,
          "fertility_total": 2.405,
          "gdi": 0.983,
          "gdp_percap": 6372.605654999999,
          "hdi": 0.7070000000000001,
          "immunization": 72,
          "life_birthf": 67.398
         },
         {
          "educ_expected_yrs_f": 13.08606815,
          "fertility_total": 1.26,
          "gdi": 0.981,
          "gdp_percap": 30389.36099,
          "hdi": 0.905,
          "immunization": 96.5,
          "life_birthf": 86.3
         },
         {
          "educ_expected_yrs_f": 13.11488724,
          "fertility_total": 2.199,
          "gdi": 0.939,
          "gdp_percap": 4080.567125,
          "hdi": 0.779,
          "immunization": 99,
          "life_birthf": 80.12100000000001
         },
         {
          "educ_expected_yrs_f": 6.943500996,
          "fertility_total": 4.407,
          "gdi": 0.8540000000000001,
          "gdp_percap": 623.8672524,
          "hdi": 0.506,
          "immunization": 90.5,
          "life_birthf": 66.947
         },
         {
          "educ_expected_yrs_f": 13.90402126,
          "fertility_total": 1.76,
          "gdi": 0.982,
          "gdp_percap": 54589.06039,
          "hdi": 0.943,
          "immunization": 97,
          "life_birthf": 84.3
         },
         {
          "educ_expected_yrs_f": 13.21845913,
          "fertility_total": 1.52,
          "gdi": 0.968,
          "gdp_percap": 82818.10816,
          "hdi": 0.955,
          "immunization": 95.5,
          "life_birthf": 85.7
         },
         {
          "educ_expected_yrs_f": 10.43918705,
          "fertility_total": 3.585,
          "gdi": 0.823,
          "gdp_percap": 826.6215305,
          "hdi": 0.6609999999999999,
          "immunization": 97,
          "life_birthf": 73.17699999999999
         },
         {
          "educ_expected_yrs_f": 12.644207000000002,
          "fertility_total": 1.525,
          "gdi": 0.997,
          "gdp_percap": 7295.475616,
          "hdi": 0.772,
          "immunization": 96.5,
          "life_birthf": 80.704
         },
         {
          "educ_expected_yrs_f": 10.87477875,
          "fertility_total": 4.023,
          "gdi": 0.946,
          "gdp_percap": 1230.228191,
          "hdi": 0.599,
          "immunization": 80,
          "life_birthf": 71.376
         },
         {
          "educ_expected_yrs_f": 9.123530388,
          "fertility_total": 4.32,
          "gdi": 0.8190000000000001,
          "gdp_percap": 679.9727606,
          "hdi": 0.51,
          "immunization": 76,
          "life_birthf": 61.612
         },
         {
          "educ_expected_yrs_f": 11.83284092,
          "fertility_total": 3.556,
          "gdi": 0.949,
          "gdp_percap": 4740.792149,
          "hdi": 0.723,
          "immunization": 99,
          "life_birthf": 72.763
         },
         {
          "educ_expected_yrs_f": 10.95233727,
          "fertility_total": 2.197,
          "gdi": 0.899,
          "gdp_percap": 3438.789089,
          "hdi": 0.738,
          "immunization": 89.5,
          "life_birthf": 78.536
         },
         {
          "educ_expected_yrs_f": 11.99552917,
          "fertility_total": 2.069,
          "gdi": 0.926,
          "gdp_percap": 9455.593654,
          "hdi": 0.8170000000000001,
          "immunization": 97,
          "life_birthf": 80.336
         },
         {
          "educ_expected_yrs_f": 13.00567055,
          "fertility_total": 1.301,
          "gdi": 1,
          "gdp_percap": 3096.817402,
          "hdi": 0.774,
          "immunization": 80,
          "life_birthf": 76.72
         },
         {
          "educ_expected_yrs_f": 13.1702652,
          "fertility_total": 1.413,
          "gdi": 0.926,
          "gdp_percap": 43839.35635,
          "hdi": 0.889,
          "immunization": 99,
          "life_birthf": 79.164
         },
         {
          "educ_expected_yrs_f": 13.85765934,
          "fertility_total": 1.68,
          "gdi": 0.968,
          "gdp_percap": 43043.22782,
          "hdi": 0.928,
          "immunization": 93,
          "life_birthf": 83.1
         },
         {
          "educ_expected_yrs_f": 12.93639374,
          "fertility_total": 1.7295,
          "gdi": 0.993,
          "gdp_percap": 62996.47129,
          "hdi": 0.925,
          "immunization": 93,
          "life_birthf": 81.2
         },
         {
          "educ_expected_yrs_f": 12.47761631,
          "fertility_total": 1.973,
          "gdi": 1.017,
          "gdp_percap": 17277.97011,
          "hdi": 0.816,
          "immunization": 94,
          "life_birthf": 81.359
         },
         {
          "educ_expected_yrs_f": 12.00484753,
          "fertility_total": 2.604,
          "gdi": 0.938,
          "gdp_percap": 1529.082864,
          "hdi": 0.7170000000000001,
          "immunization": 97,
          "life_birthf": 73.676
         },
         {
          "educ_expected_yrs_f": 8.745135307,
          "fertility_total": 4.633,
          "gdi": 0.98,
          "gdp_percap": 1516.390661,
          "hdi": 0.5820000000000001,
          "immunization": 92,
          "life_birthf": 66.447
         },
         {
          "educ_expected_yrs_f": 10.97491837,
          "fertility_total": 3.615,
          "gdi": 0.927,
          "gdp_percap": 1683.740577,
          "hdi": 0.569,
          "immunization": 88.5,
          "life_birthf": 62.598
         }
        ]
       },
       "encoding": {
        "x": {
         "field": "hdi",
         "scale": {
          "zero": false
         },
         "title": "Human Development Index (HDI)",
         "type": "quantitative"
        },
        "y": {
         "field": "fertility_total",
         "title": "Fertility rate",
         "type": "quantitative"
        }
       },
       "height": 300,
       "mark": "circle",
       "width": 300
      },
      "image/png": "[encoded data removed]",
      "text/plain": [
       "<VegaLite 4 object>\n",
       "\n",
       "If you see this message, it means the renderer has not been properly enabled\n",
       "for the frontend that you are using. For more information, see\n",
       "https://altair-viz.github.io/user_guide/troubleshooting.html\n"
      ]
     },
     "execution_count": 68,
     "metadata": {},
     "output_type": "execute_result"
    }
   ],
   "source": [
    "base = alt.Chart(data)\n",
    "    \n",
    "scatter_hdi = base.mark_circle().encode( \n",
    "    x = alt.X(\"hdi:Q\",\n",
    "              scale = alt.Scale(zero = False),\n",
    "              title = \"Human Development Index (HDI)\"), \n",
    "    y = alt.Y(\"fertility_total:Q\",\n",
    "              title = \"Fertility rate\")\n",
    ").properties(\n",
    "    width = 300,\n",
    "    height = 300)\n",
    "\n",
    "scatter_hdi"
   ]
  },
  {
   "cell_type": "markdown",
   "id": "ca3ecd02-e81f-4cf6-8e6f-b227d2857809",
   "metadata": {},
   "source": [
    "We see a negative relationship between fertility rates and the HDI; it is not exactly linear, but a line should provide a good approximation."
   ]
  },
  {
   "cell_type": "markdown",
   "id": "7d024d06-c15f-43c4-a36d-f006969b5fe8",
   "metadata": {
    "tags": []
   },
   "source": [
    "#### GDI and fertility rate"
   ]
  },
  {
   "cell_type": "code",
   "execution_count": 69,
   "id": "e8bb1016-9e46-455d-a964-e1c1b4c1813a",
   "metadata": {
    "tags": []
   },
   "outputs": [
    {
     "data": {
      "application/vnd.vegalite.v4+json": {
       "$schema": "https://vega.github.io/schema/vega-lite/v4.17.0.json",
       "config": {
        "view": {
         "continuousHeight": 300,
         "continuousWidth": 400
        }
       },
       "data": {
        "name": "data-6cd1456596c1f74e121582c365026ae5"
       },
       "datasets": {
        "data-6cd1456596c1f74e121582c365026ae5": [
         {
          "educ_expected_yrs_f": 6.795722485,
          "fertility_total": 4.473,
          "gdi": 0.6629999999999999,
          "gdp_percap": 493.7504181,
          "hdi": 0.509,
          "immunization": 65,
          "life_birthf": 66.02600000000001
         },
         {
          "educ_expected_yrs_f": 13.20175457,
          "fertility_total": 1.617,
          "gdi": 0.971,
          "gdp_percap": 5284.380184000001,
          "hdi": 0.792,
          "immunization": 96.5,
          "life_birthf": 80.167
         },
         {
          "educ_expected_yrs_f": 12.10898972,
          "fertility_total": 3.023,
          "gdi": 0.86,
          "gdp_percap": 4153.733978,
          "hdi": 0.746,
          "immunization": 85.5,
          "life_birthf": 77.938
         },
         {
          "educ_expected_yrs_f": 6.973901272000001,
          "fertility_total": 5.519,
          "gdi": 0.903,
          "gdp_percap": 3289.646664,
          "hdi": 0.5820000000000001,
          "immunization": 56.5,
          "life_birthf": 63.666
         },
         {
          "educ_expected_yrs_f": 13.06125259,
          "fertility_total": 2.261,
          "gdi": 0.992,
          "gdp_percap": 11633.49801,
          "hdi": 0.8420000000000001,
          "immunization": 90,
          "life_birthf": 79.863
         },
         {
          "educ_expected_yrs_f": 11.62581253,
          "fertility_total": 1.755,
          "gdi": 0.978,
          "gdp_percap": 4220.490277,
          "hdi": 0.7709999999999999,
          "immunization": 93.5,
          "life_birthf": 78.354
         },
         {
          "educ_expected_yrs_f": 13.62022209,
          "fertility_total": 1.74,
          "gdi": 0.976,
          "gdp_percap": 57354.96405,
          "hdi": 0.943,
          "immunization": 95,
          "life_birthf": 84.9
         },
         {
          "educ_expected_yrs_f": 13.46689415,
          "fertility_total": 1.47,
          "gdi": 0.966,
          "gdp_percap": 51478.28526,
          "hdi": 0.921,
          "immunization": 89.5,
          "life_birthf": 84.1
         },
         {
          "educ_expected_yrs_f": 12.44501495,
          "fertility_total": 1.73,
          "gdi": 0.939,
          "gdp_percap": 4739.841710000001,
          "hdi": 0.754,
          "immunization": 95.5,
          "life_birthf": 75.336
         },
         {
          "educ_expected_yrs_f": 13.27036572,
          "fertility_total": 1.987,
          "gdi": 0.936,
          "gdp_percap": 23991.05668,
          "hdi": 0.852,
          "immunization": 99,
          "life_birthf": 78.285
         },
         {
          "educ_expected_yrs_f": 10.52187443,
          "fertility_total": 2.036,
          "gdi": 0.8959999999999999,
          "gdp_percap": 1698.350394,
          "hdi": 0.625,
          "immunization": 97.5,
          "life_birthf": 74.291
         },
         {
          "educ_expected_yrs_f": 13.75893879,
          "fertility_total": 1.4480000000000002,
          "gdi": 1.009,
          "gdp_percap": 6330.075246,
          "hdi": 0.823,
          "immunization": 97.5,
          "life_birthf": 79.4
         },
         {
          "educ_expected_yrs_f": 13.56679726,
          "fertility_total": 1.62,
          "gdi": 0.973,
          "gdp_percap": 47583.07494,
          "hdi": 0.93,
          "immunization": 97,
          "life_birthf": 83.9
         },
         {
          "educ_expected_yrs_f": 8.782134056,
          "fertility_total": 4.836,
          "gdi": 0.855,
          "gdp_percap": 1240.829464,
          "hdi": 0.541,
          "immunization": 73.5,
          "life_birthf": 63.003
         },
         {
          "educ_expected_yrs_f": 10.70332813,
          "fertility_total": 1.975,
          "gdi": 0.91,
          "gdp_percap": 3243.486036,
          "hdi": 0.649,
          "immunization": 97,
          "life_birthf": 71.816
         },
         {
          "educ_expected_yrs_f": 11.78481483,
          "fertility_total": 1.265,
          "gdi": 0.932,
          "gdp_percap": 6072.184623,
          "hdi": 0.777,
          "immunization": 70.5,
          "life_birthf": 79.72
         },
         {
          "educ_expected_yrs_f": 8.500170707999999,
          "fertility_total": 2.874,
          "gdi": 0.995,
          "gdp_percap": 8279.601739,
          "hdi": 0.73,
          "immunization": 96,
          "life_birthf": 72.04899999999999
         },
         {
          "educ_expected_yrs_f": 13.21317291,
          "fertility_total": 1.848,
          "gdi": 0.978,
          "gdp_percap": 31628.32879,
          "hdi": 0.836,
          "immunization": 99,
          "life_birthf": 76.96
         },
         {
          "educ_expected_yrs_f": 12.24310493,
          "fertility_total": 1.56,
          "gdi": 0.994,
          "gdp_percap": 9427.73043,
          "hdi": 0.813,
          "immunization": 92.5,
          "life_birthf": 78.6
         },
         {
          "educ_expected_yrs_f": 6.696904658999999,
          "fertility_total": 5.189,
          "gdi": 0.865,
          "gdp_percap": 813.096849,
          "hdi": 0.4429999999999999,
          "immunization": 89.5,
          "life_birthf": 61.863
         },
         {
          "educ_expected_yrs_f": 8.191820145,
          "fertility_total": 5.41,
          "gdi": 0.996,
          "gdp_percap": 271.7520444,
          "hdi": 0.431,
          "immunization": 89,
          "life_birthf": 63.031000000000006
         },
         {
          "educ_expected_yrs_f": 9.635119438,
          "fertility_total": 2.503,
          "gdi": 0.92,
          "gdp_percap": 1512.12671,
          "hdi": 0.585,
          "immunization": 88,
          "life_birthf": 71.62899999999999
         },
         {
          "educ_expected_yrs_f": 8.315596581,
          "fertility_total": 4.572,
          "gdi": 0.87,
          "gdp_percap": 1534.493702,
          "hdi": 0.56,
          "immunization": 63,
          "life_birthf": 60.192
         },
         {
          "educ_expected_yrs_f": 13.709587099999998,
          "fertility_total": 1.4988,
          "gdi": 0.99,
          "gdp_percap": 46303.90878,
          "hdi": 0.928,
          "immunization": 90.5,
          "life_birthf": 84.2
         },
         {
          "educ_expected_yrs_f": 3.848102808,
          "fertility_total": 4.721,
          "gdi": 0.8,
          "gdp_percap": 475.9536099,
          "hdi": 0.395,
          "immunization": 48,
          "life_birthf": 54.99100000000001
         },
         {
          "educ_expected_yrs_f": 4.473656654,
          "fertility_total": 5.747000000000001,
          "gdi": 0.773,
          "gdp_percap": 726.1498811,
          "hdi": 0.397,
          "immunization": 44,
          "life_birthf": 55.4
         },
         {
          "educ_expected_yrs_f": 13.05471802,
          "fertility_total": 1.649,
          "gdi": 0.964,
          "gdp_percap": 15924.79424,
          "hdi": 0.8490000000000001,
          "immunization": 94,
          "life_birthf": 82.381
         },
         {
          "educ_expected_yrs_f": 13.0906477,
          "fertility_total": 1.69,
          "gdi": 0.959,
          "gdp_percap": 9976.677137,
          "hdi": 0.755,
          "immunization": 99,
          "life_birthf": 79.051
         },
         {
          "educ_expected_yrs_f": 12.70421314,
          "fertility_total": 1.807,
          "gdi": 0.99,
          "gdp_percap": 6716.911598000001,
          "hdi": 0.764,
          "immunization": 93.5,
          "life_birthf": 79.859
         },
         {
          "educ_expected_yrs_f": 8.128657341,
          "fertility_total": 4.205,
          "gdi": 0.89,
          "gdp_percap": 1415.9553130000002,
          "hdi": 0.552,
          "immunization": 90.5,
          "life_birthf": 65.9
         },
         {
          "educ_expected_yrs_f": 12.51764488,
          "fertility_total": 1.754,
          "gdi": 0.981,
          "gdp_percap": 12112.13442,
          "hdi": 0.8079999999999999,
          "immunization": 94,
          "life_birthf": 82.73
         },
         {
          "educ_expected_yrs_f": 13.5518446,
          "fertility_total": 1.47,
          "gdi": 0.99,
          "gdp_percap": 15014.08502,
          "hdi": 0.848,
          "immunization": 93,
          "life_birthf": 81.4
         },
         {
          "educ_expected_yrs_f": 13.61954403,
          "fertility_total": 1.329,
          "gdi": 0.983,
          "gdp_percap": 28689.70672,
          "hdi": 0.885,
          "immunization": 94.5,
          "life_birthf": 82.913
         },
         {
          "educ_expected_yrs_f": 13.47161579,
          "fertility_total": 1.73,
          "gdi": 0.981,
          "gdp_percap": 61598.5367,
          "hdi": 0.939,
          "immunization": 96,
          "life_birthf": 82.9
         },
         {
          "educ_expected_yrs_f": 12.15325356,
          "fertility_total": 2.346,
          "gdi": 0.999,
          "gdp_percap": 8050.630440000001,
          "hdi": 0.7509999999999999,
          "immunization": 94.5,
          "life_birthf": 77.196
         },
         {
          "educ_expected_yrs_f": 13.219711300000002,
          "fertility_total": 2.427,
          "gdi": 0.979,
          "gdp_percap": 6295.935399,
          "hdi": 0.762,
          "immunization": 84,
          "life_birthf": 79.645
         },
         {
          "educ_expected_yrs_f": 10.9428196,
          "fertility_total": 2.039,
          "gdi": 0.974,
          "gdp_percap": 4067.659449,
          "hdi": 0.67,
          "immunization": 81,
          "life_birthf": 77.635
         },
         {
          "educ_expected_yrs_f": 13.53030491,
          "fertility_total": 1.67,
          "gdi": 1.016,
          "gdp_percap": 23170.70738,
          "hdi": 0.889,
          "immunization": 89.5,
          "life_birthf": 82.7
         },
         {
          "educ_expected_yrs_f": 7.516855717,
          "fertility_total": 4.247,
          "gdi": 0.846,
          "gdp_percap": 771.5238138999999,
          "hdi": 0.478,
          "immunization": 61.5,
          "life_birthf": 68.165
         },
         {
          "educ_expected_yrs_f": 13.74469662,
          "fertility_total": 1.41,
          "gdi": 0.99,
          "gdp_percap": 50030.87731,
          "hdi": 0.937,
          "immunization": 93.5,
          "life_birthf": 84.5
         },
         {
          "educ_expected_yrs_f": 13.8239584,
          "fertility_total": 1.88,
          "gdi": 0.987,
          "gdp_percap": 41631.09074,
          "hdi": 0.898,
          "immunization": 93,
          "life_birthf": 85.9
         },
         {
          "educ_expected_yrs_f": 8.538388252,
          "fertility_total": 3.969,
          "gdi": 0.916,
          "gdp_percap": 7956.627815999999,
          "hdi": 0.6970000000000001,
          "immunization": 64.5,
          "life_birthf": 68.32300000000001
         },
         {
          "educ_expected_yrs_f": 13.02663994,
          "fertility_total": 2.06,
          "gdi": 0.979,
          "gdp_percap": 4722.787783,
          "hdi": 0.805,
          "immunization": 95.5,
          "life_birthf": 77.98899999999999
         },
         {
          "educ_expected_yrs_f": 13.34453487,
          "fertility_total": 1.57,
          "gdi": 0.968,
          "gdp_percap": 47810.50767,
          "hdi": 0.946,
          "immunization": 95,
          "life_birthf": 83.3
         },
         {
          "educ_expected_yrs_f": 11.91578197,
          "fertility_total": 3.87,
          "gdi": 0.909,
          "gdp_percap": 2202.312164,
          "hdi": 0.606,
          "immunization": 94.5,
          "life_birthf": 64.852
         },
         {
          "educ_expected_yrs_f": 13.28767872,
          "fertility_total": 1.35,
          "gdi": 0.964,
          "gdp_percap": 20324.30499,
          "hdi": 0.8809999999999999,
          "immunization": 98,
          "life_birthf": 84.4
         },
         {
          "educ_expected_yrs_f": 9.521496773,
          "fertility_total": 2.87,
          "gdi": 0.941,
          "gdp_percap": 4472.892371,
          "hdi": 0.657,
          "immunization": 86.5,
          "life_birthf": 76.937
         },
         {
          "educ_expected_yrs_f": 6.210740089,
          "fertility_total": 4.7,
          "gdi": 0.816,
          "gdp_percap": 878.5996133,
          "hdi": 0.473,
          "immunization": 47,
          "life_birthf": 61.666
         },
         {
          "educ_expected_yrs_f": 12.30990696,
          "fertility_total": 2.462,
          "gdi": 0.967,
          "gdp_percap": 6145.842411,
          "hdi": 0.68,
          "immunization": 96.5,
          "life_birthf": 72.972
         },
         {
          "educ_expected_yrs_f": 11.44699955,
          "fertility_total": 2.935,
          "gdi": 0.875,
          "gdp_percap": 1435.351756,
          "hdi": 0.508,
          "immunization": 66.5,
          "life_birthf": 65.832
         },
         {
          "educ_expected_yrs_f": 9.822359085,
          "fertility_total": 2.46,
          "gdi": 0.978,
          "gdp_percap": 2505.776752,
          "hdi": 0.633,
          "immunization": 89.5,
          "life_birthf": 77.378
         },
         {
          "educ_expected_yrs_f": 12.96164417,
          "fertility_total": 1.55,
          "gdi": 0.98,
          "gdp_percap": 16410.18726,
          "hdi": 0.85,
          "immunization": 99,
          "life_birthf": 79.6
         },
         {
          "educ_expected_yrs_f": 13.54500961,
          "fertility_total": 1.71,
          "gdi": 0.969,
          "gdp_percap": 72968.70422999999,
          "hdi": 0.946,
          "immunization": 92,
          "life_birthf": 84.5
         },
         {
          "educ_expected_yrs_f": 10.93618393,
          "fertility_total": 2.222,
          "gdi": 0.818,
          "gdp_percap": 2005.863005,
          "hdi": 0.642,
          "immunization": 91.5,
          "life_birthf": 70.692
         },
         {
          "educ_expected_yrs_f": 12.41253376,
          "fertility_total": 2.311,
          "gdi": 0.938,
          "gdp_percap": 3893.846425,
          "hdi": 0.7120000000000001,
          "immunization": 87,
          "life_birthf": 73.748
         },
         {
          "educ_expected_yrs_f": 7.038986206000001,
          "fertility_total": 3.672,
          "gdi": 0.7709999999999999,
          "gdp_percap": 5834.166211,
          "hdi": 0.6709999999999999,
          "immunization": 83.5,
          "life_birthf": 72.486
         },
         {
          "educ_expected_yrs_f": 13.92032051,
          "fertility_total": 1.75,
          "gdi": 0.978,
          "gdp_percap": 78621.22793,
          "hdi": 0.951,
          "immunization": 93,
          "life_birthf": 84.1
         },
         {
          "educ_expected_yrs_f": 13.90762043,
          "fertility_total": 3.09,
          "gdi": 0.973,
          "gdp_percap": 41719.72544,
          "hdi": 0.916,
          "immunization": 98,
          "life_birthf": 84.8
         },
         {
          "educ_expected_yrs_f": 13.31961727,
          "fertility_total": 1.29,
          "gdi": 0.969,
          "gdp_percap": 34615.75689,
          "hdi": 0.89,
          "immunization": 94,
          "life_birthf": 85.6
         },
         {
          "educ_expected_yrs_f": 11.82789326,
          "fertility_total": 1.979,
          "gdi": 0.988,
          "gdp_percap": 5354.236859000001,
          "hdi": 0.7340000000000001,
          "immunization": 93,
          "life_birthf": 75.993
         },
         {
          "educ_expected_yrs_f": 11.72220421,
          "fertility_total": 2.761,
          "gdi": 0.875,
          "gdp_percap": 4312.180117,
          "hdi": 0.728,
          "immunization": 94,
          "life_birthf": 76.175
         },
         {
          "educ_expected_yrs_f": 13.86884308,
          "fertility_total": 2.84,
          "gdi": 0.997,
          "gdp_percap": 9812.626370999998,
          "hdi": 0.8190000000000001,
          "immunization": 98.5,
          "life_birthf": 77.19
         },
         {
          "educ_expected_yrs_f": 11.30184937,
          "fertility_total": 3.492,
          "gdi": 0.926,
          "gdp_percap": 1707.986805,
          "hdi": 0.599,
          "immunization": 90.5,
          "life_birthf": 68.684
         },
         {
          "educ_expected_yrs_f": 12.40283394,
          "fertility_total": 2.082,
          "gdi": 0.973,
          "gdp_percap": 33994.38192,
          "hdi": 0.807,
          "immunization": 94.5,
          "life_birthf": 76.467
         },
         {
          "educ_expected_yrs_f": 13.7176199,
          "fertility_total": 1.6,
          "gdi": 1.035,
          "gdp_percap": 17858.279980000003,
          "hdi": 0.863,
          "immunization": 97,
          "life_birthf": 79.7
         },
         {
          "educ_expected_yrs_f": 10.41264439,
          "fertility_total": 3.141,
          "gdi": 1.019,
          "gdp_percap": 1221.883763,
          "hdi": 0.522,
          "immunization": 88.5,
          "life_birthf": 56.95399999999999
         },
         {
          "educ_expected_yrs_f": 4.166073798999999,
          "fertility_total": 4.315,
          "gdi": 0.895,
          "gdp_percap": 677.3221785000001,
          "hdi": 0.48,
          "immunization": 87.5,
          "life_birthf": 65.11399999999999
         },
         {
          "educ_expected_yrs_f": 13.88928127,
          "fertility_total": 1.63,
          "gdi": 1.029,
          "gdp_percap": 19176.17652,
          "hdi": 0.8759999999999999,
          "immunization": 92,
          "life_birthf": 80.7
         },
         {
          "educ_expected_yrs_f": 12.47436428,
          "fertility_total": 1.38,
          "gdi": 0.975,
          "gdp_percap": 116654.2611,
          "hdi": 0.913,
          "immunization": 99,
          "life_birthf": 84.6
         },
         {
          "educ_expected_yrs_f": 8.609224318999999,
          "fertility_total": 4.077,
          "gdi": 0.949,
          "gdp_percap": 527.5013261,
          "hdi": 0.527,
          "immunization": 68.5,
          "life_birthf": 68.301
         },
         {
          "educ_expected_yrs_f": 9.583486557,
          "fertility_total": 4.209,
          "gdi": 0.926,
          "gdp_percap": 381.2589876,
          "hdi": 0.478,
          "immunization": 89.5,
          "life_birthf": 66.937
         },
         {
          "educ_expected_yrs_f": 12.68888378,
          "fertility_total": 2.001,
          "gdi": 0.97,
          "gdp_percap": 11377.455,
          "hdi": 0.805,
          "immunization": 97.5,
          "life_birthf": 78.167
         },
         {
          "educ_expected_yrs_f": 5.42065239,
          "fertility_total": 5.877000000000001,
          "gdi": 0.81,
          "gdp_percap": 894.8021868999999,
          "hdi": 0.431,
          "immunization": 73.5,
          "life_birthf": 59.649
         },
         {
          "educ_expected_yrs_f": 13.50980282,
          "fertility_total": 1.23,
          "gdi": 0.968,
          "gdp_percap": 30437.221510000003,
          "hdi": 0.894,
          "immunization": 96.5,
          "life_birthf": 84.6
         },
         {
          "educ_expected_yrs_f": 7.564128876,
          "fertility_total": 4.561,
          "gdi": 0.86,
          "gdp_percap": 1600.876469,
          "hdi": 0.542,
          "immunization": 79.5,
          "life_birthf": 66.292
         },
         {
          "educ_expected_yrs_f": 12.77645302,
          "fertility_total": 1.41,
          "gdi": 0.974,
          "gdp_percap": 11208.34382,
          "hdi": 0.8009999999999999,
          "immunization": 98,
          "life_birthf": 77.72
         },
         {
          "educ_expected_yrs_f": 12.97874069,
          "fertility_total": 2.129,
          "gdi": 0.962,
          "gdp_percap": 9686.513783,
          "hdi": 0.7759999999999999,
          "immunization": 92.5,
          "life_birthf": 77.844
         },
         {
          "educ_expected_yrs_f": 13.25112915,
          "fertility_total": 2.895,
          "gdi": 1.02,
          "gdp_percap": 4134.987198,
          "hdi": 0.735,
          "immunization": 99,
          "life_birthf": 73.961
         },
         {
          "educ_expected_yrs_f": 12.64217091,
          "fertility_total": 1.745,
          "gdi": 0.965,
          "gdp_percap": 8846.056525,
          "hdi": 0.826,
          "immunization": 64,
          "life_birthf": 79.199
         },
         {
          "educ_expected_yrs_f": 10.41762161,
          "fertility_total": 2.415,
          "gdi": 0.833,
          "gdp_percap": 3222.200634,
          "hdi": 0.68,
          "immunization": 99,
          "life_birthf": 77.668
         },
         {
          "educ_expected_yrs_f": 9.829102516,
          "fertility_total": 2.154,
          "gdi": 0.953,
          "gdp_percap": 1418.177623,
          "hdi": 0.579,
          "immunization": 92,
          "life_birthf": 69.874
         },
         {
          "educ_expected_yrs_f": 9.723130226,
          "fertility_total": 3.3960000000000004,
          "gdi": 1.007,
          "gdp_percap": 5495.428925,
          "hdi": 0.645,
          "immunization": 85.5,
          "life_birthf": 66.18
         },
         {
          "educ_expected_yrs_f": 12.0131464,
          "fertility_total": 1.917,
          "gdi": 0.927,
          "gdp_percap": 1038.651647,
          "hdi": 0.596,
          "immunization": 91,
          "life_birthf": 71.9
         },
         {
          "educ_expected_yrs_f": 13.92983341,
          "fertility_total": 1.59,
          "gdi": 0.967,
          "gdp_percap": 53044.53244,
          "hdi": 0.942,
          "immunization": 93,
          "life_birthf": 83.4
         },
         {
          "educ_expected_yrs_f": 13.77946663,
          "fertility_total": 1.71,
          "gdi": 0.965,
          "gdp_percap": 42427.58315,
          "hdi": 0.928,
          "immunization": 92.5,
          "life_birthf": 83.6
         },
         {
          "educ_expected_yrs_f": 11.10092926,
          "fertility_total": 2.404,
          "gdi": 1.011,
          "gdp_percap": 2020.55193,
          "hdi": 0.659,
          "immunization": 98.5,
          "life_birthf": 77.77
         },
         {
          "educ_expected_yrs_f": 5.059231758,
          "fertility_total": 6.912999999999999,
          "gdi": 0.727,
          "gdp_percap": 572.4271543,
          "hdi": 0.391,
          "immunization": 78,
          "life_birthf": 63.212
         },
         {
          "educ_expected_yrs_f": 10.09999943,
          "fertility_total": 5.3870000000000005,
          "gdi": 0.8740000000000001,
          "gdp_percap": 2027.777979,
          "hdi": 0.534,
          "immunization": 55,
          "life_birthf": 55.244
         },
         {
          "educ_expected_yrs_f": 11.08503532,
          "fertility_total": 1.496,
          "gdi": 0.948,
          "gdp_percap": 6088.972445,
          "hdi": 0.77,
          "immunization": 83.5,
          "life_birthf": 77.736
         },
         {
          "educ_expected_yrs_f": 13.67211056,
          "fertility_total": 1.56,
          "gdi": 0.989,
          "gdp_percap": 81734.46557,
          "hdi": 0.956,
          "immunization": 96,
          "life_birthf": 84.5
         },
         {
          "educ_expected_yrs_f": 13.10266685,
          "fertility_total": 2.888,
          "gdi": 0.937,
          "gdp_percap": 16521.18228,
          "hdi": 0.813,
          "immunization": 99,
          "life_birthf": 80.134
         },
         {
          "educ_expected_yrs_f": 8.687153816,
          "fertility_total": 3.51,
          "gdi": 0.736,
          "gdp_percap": 1482.305667,
          "hdi": 0.552,
          "immunization": 74,
          "life_birthf": 68.109
         },
         {
          "educ_expected_yrs_f": 10.88493347,
          "fertility_total": 2.461,
          "gdi": 1.009,
          "gdp_percap": 15592.57368,
          "hdi": 0.812,
          "immunization": 93,
          "life_birthf": 81.593
         },
         {
          "educ_expected_yrs_f": 11.26677418,
          "fertility_total": 2.4290000000000003,
          "gdi": 0.967,
          "gdp_percap": 5805.675616,
          "hdi": 0.727,
          "immunization": 90.5,
          "life_birthf": 76.25
         },
         {
          "educ_expected_yrs_f": 12.89012051,
          "fertility_total": 2.254,
          "gdi": 0.964,
          "gdp_percap": 6941.235848,
          "hdi": 0.7709999999999999,
          "immunization": 84.5,
          "life_birthf": 79.28
         },
         {
          "educ_expected_yrs_f": 13.04763317,
          "fertility_total": 2.576,
          "gdi": 1.005,
          "gdp_percap": 3252.092324,
          "hdi": 0.711,
          "immunization": 66,
          "life_birthf": 75.387
         },
         {
          "educ_expected_yrs_f": 13.45503712,
          "fertility_total": 1.46,
          "gdi": 1.008,
          "gdp_percap": 15468.482219999998,
          "hdi": 0.877,
          "immunization": 94,
          "life_birthf": 81.7
         },
         {
          "educ_expected_yrs_f": 13.82900047,
          "fertility_total": 1.42,
          "gdi": 0.985,
          "gdp_percap": 23562.55452,
          "hdi": 0.86,
          "immunization": 99,
          "life_birthf": 84.5
         },
         {
          "educ_expected_yrs_f": 12.7883606,
          "fertility_total": 1.866,
          "gdi": 1.031,
          "gdp_percap": 65908.0669,
          "hdi": 0.845,
          "immunization": 98.5,
          "life_birthf": 81.876
         },
         {
          "educ_expected_yrs_f": 11.98094845,
          "fertility_total": 1.76,
          "gdi": 0.989,
          "gdp_percap": 12399.88934,
          "hdi": 0.823,
          "immunization": 88,
          "life_birthf": 79.2
         },
         {
          "educ_expected_yrs_f": 13.68534756,
          "fertility_total": 1.579,
          "gdi": 1.009,
          "gdp_percap": 11370.81346,
          "hdi": 0.823,
          "immunization": 97.5,
          "life_birthf": 77.82
         },
         {
          "educ_expected_yrs_f": 6.980305195,
          "fertility_total": 4.044,
          "gdi": 0.943,
          "gdp_percap": 783.2871842000001,
          "hdi": 0.54,
          "immunization": 98,
          "life_birthf": 70.78399999999999
         },
         {
          "educ_expected_yrs_f": 12.26758575,
          "fertility_total": 2.319,
          "gdi": 0.875,
          "gdp_percap": 23338.96346,
          "hdi": 0.8540000000000001,
          "immunization": 97,
          "life_birthf": 76.615
         },
         {
          "educ_expected_yrs_f": 7.849748135,
          "fertility_total": 4.625,
          "gdi": 0.877,
          "gdp_percap": 1465.591006,
          "hdi": 0.516,
          "immunization": 82.5,
          "life_birthf": 69.627
         },
         {
          "educ_expected_yrs_f": 13.49239731,
          "fertility_total": 1.49,
          "gdi": 0.975,
          "gdp_percap": 7252.401858,
          "hdi": 0.8029999999999999,
          "immunization": 94,
          "life_birthf": 78.4
         },
         {
          "educ_expected_yrs_f": 9.282006264,
          "fertility_total": 4.263,
          "gdi": 0.8809999999999999,
          "gdp_percap": 533.9911843,
          "hdi": 0.447,
          "immunization": 90,
          "life_birthf": 55.106
         },
         {
          "educ_expected_yrs_f": 13.90422153,
          "fertility_total": 1.14,
          "gdi": 0.986,
          "gdp_percap": 66188.7794,
          "hdi": 0.936,
          "immunization": 95.5,
          "life_birthf": 85.5
         },
         {
          "educ_expected_yrs_f": 13.71750641,
          "fertility_total": 1.61,
          "gdi": 1.002,
          "gdp_percap": 26115.91337,
          "hdi": 0.912,
          "immunization": 93,
          "life_birthf": 84.4
         },
         {
          "educ_expected_yrs_f": 10.11397743,
          "fertility_total": 2.405,
          "gdi": 0.983,
          "gdp_percap": 6372.605654999999,
          "hdi": 0.7070000000000001,
          "immunization": 72,
          "life_birthf": 67.398
         },
         {
          "educ_expected_yrs_f": 13.08606815,
          "fertility_total": 1.26,
          "gdi": 0.981,
          "gdp_percap": 30389.36099,
          "hdi": 0.905,
          "immunization": 96.5,
          "life_birthf": 86.3
         },
         {
          "educ_expected_yrs_f": 13.11488724,
          "fertility_total": 2.199,
          "gdi": 0.939,
          "gdp_percap": 4080.567125,
          "hdi": 0.779,
          "immunization": 99,
          "life_birthf": 80.12100000000001
         },
         {
          "educ_expected_yrs_f": 6.943500996,
          "fertility_total": 4.407,
          "gdi": 0.8540000000000001,
          "gdp_percap": 623.8672524,
          "hdi": 0.506,
          "immunization": 90.5,
          "life_birthf": 66.947
         },
         {
          "educ_expected_yrs_f": 13.90402126,
          "fertility_total": 1.76,
          "gdi": 0.982,
          "gdp_percap": 54589.06039,
          "hdi": 0.943,
          "immunization": 97,
          "life_birthf": 84.3
         },
         {
          "educ_expected_yrs_f": 13.21845913,
          "fertility_total": 1.52,
          "gdi": 0.968,
          "gdp_percap": 82818.10816,
          "hdi": 0.955,
          "immunization": 95.5,
          "life_birthf": 85.7
         },
         {
          "educ_expected_yrs_f": 10.43918705,
          "fertility_total": 3.585,
          "gdi": 0.823,
          "gdp_percap": 826.6215305,
          "hdi": 0.6609999999999999,
          "immunization": 97,
          "life_birthf": 73.17699999999999
         },
         {
          "educ_expected_yrs_f": 12.644207000000002,
          "fertility_total": 1.525,
          "gdi": 0.997,
          "gdp_percap": 7295.475616,
          "hdi": 0.772,
          "immunization": 96.5,
          "life_birthf": 80.704
         },
         {
          "educ_expected_yrs_f": 10.87477875,
          "fertility_total": 4.023,
          "gdi": 0.946,
          "gdp_percap": 1230.228191,
          "hdi": 0.599,
          "immunization": 80,
          "life_birthf": 71.376
         },
         {
          "educ_expected_yrs_f": 9.123530388,
          "fertility_total": 4.32,
          "gdi": 0.8190000000000001,
          "gdp_percap": 679.9727606,
          "hdi": 0.51,
          "immunization": 76,
          "life_birthf": 61.612
         },
         {
          "educ_expected_yrs_f": 11.83284092,
          "fertility_total": 3.556,
          "gdi": 0.949,
          "gdp_percap": 4740.792149,
          "hdi": 0.723,
          "immunization": 99,
          "life_birthf": 72.763
         },
         {
          "educ_expected_yrs_f": 10.95233727,
          "fertility_total": 2.197,
          "gdi": 0.899,
          "gdp_percap": 3438.789089,
          "hdi": 0.738,
          "immunization": 89.5,
          "life_birthf": 78.536
         },
         {
          "educ_expected_yrs_f": 11.99552917,
          "fertility_total": 2.069,
          "gdi": 0.926,
          "gdp_percap": 9455.593654,
          "hdi": 0.8170000000000001,
          "immunization": 97,
          "life_birthf": 80.336
         },
         {
          "educ_expected_yrs_f": 13.00567055,
          "fertility_total": 1.301,
          "gdi": 1,
          "gdp_percap": 3096.817402,
          "hdi": 0.774,
          "immunization": 80,
          "life_birthf": 76.72
         },
         {
          "educ_expected_yrs_f": 13.1702652,
          "fertility_total": 1.413,
          "gdi": 0.926,
          "gdp_percap": 43839.35635,
          "hdi": 0.889,
          "immunization": 99,
          "life_birthf": 79.164
         },
         {
          "educ_expected_yrs_f": 13.85765934,
          "fertility_total": 1.68,
          "gdi": 0.968,
          "gdp_percap": 43043.22782,
          "hdi": 0.928,
          "immunization": 93,
          "life_birthf": 83.1
         },
         {
          "educ_expected_yrs_f": 12.93639374,
          "fertility_total": 1.7295,
          "gdi": 0.993,
          "gdp_percap": 62996.47129,
          "hdi": 0.925,
          "immunization": 93,
          "life_birthf": 81.2
         },
         {
          "educ_expected_yrs_f": 12.47761631,
          "fertility_total": 1.973,
          "gdi": 1.017,
          "gdp_percap": 17277.97011,
          "hdi": 0.816,
          "immunization": 94,
          "life_birthf": 81.359
         },
         {
          "educ_expected_yrs_f": 12.00484753,
          "fertility_total": 2.604,
          "gdi": 0.938,
          "gdp_percap": 1529.082864,
          "hdi": 0.7170000000000001,
          "immunization": 97,
          "life_birthf": 73.676
         },
         {
          "educ_expected_yrs_f": 8.745135307,
          "fertility_total": 4.633,
          "gdi": 0.98,
          "gdp_percap": 1516.390661,
          "hdi": 0.5820000000000001,
          "immunization": 92,
          "life_birthf": 66.447
         },
         {
          "educ_expected_yrs_f": 10.97491837,
          "fertility_total": 3.615,
          "gdi": 0.927,
          "gdp_percap": 1683.740577,
          "hdi": 0.569,
          "immunization": 88.5,
          "life_birthf": 62.598
         }
        ]
       },
       "encoding": {
        "x": {
         "field": "gdi",
         "scale": {
          "zero": false
         },
         "title": "Gender Development Index (GDI)",
         "type": "quantitative"
        },
        "y": {
         "field": "fertility_total",
         "title": "Fertility rate",
         "type": "quantitative"
        }
       },
       "height": 300,
       "mark": "circle",
       "width": 300
      },
      "image/png": "[encoded data removed]",
      "text/plain": [
       "<VegaLite 4 object>\n",
       "\n",
       "If you see this message, it means the renderer has not been properly enabled\n",
       "for the frontend that you are using. For more information, see\n",
       "https://altair-viz.github.io/user_guide/troubleshooting.html\n"
      ]
     },
     "execution_count": 69,
     "metadata": {},
     "output_type": "execute_result"
    }
   ],
   "source": [
    "base = alt.Chart(data)\n",
    "    \n",
    "scatter_gdi = base.mark_circle().encode( \n",
    "    x = alt.X(\"gdi:Q\",\n",
    "              scale = alt.Scale(zero = False),\n",
    "              title = \"Gender Development Index (GDI)\"), \n",
    "    y = alt.Y(\"fertility_total:Q\",\n",
    "              title = \"Fertility rate\")\n",
    ").properties(\n",
    "    width = 300,\n",
    "    height = 300)\n",
    "\n",
    "scatter_gdi"
   ]
  },
  {
   "cell_type": "markdown",
   "id": "723edf28-40d1-4293-b169-6e8a1406f77e",
   "metadata": {
    "tags": []
   },
   "source": [
    "We observe a negative relationship here as well, but not necessarily linear. "
   ]
  },
  {
   "cell_type": "markdown",
   "id": "29abda24-a690-40d2-8250-ddeb6752f007",
   "metadata": {
    "tags": []
   },
   "source": [
    "#### GDP per capita and fertility rate"
   ]
  },
  {
   "cell_type": "code",
   "execution_count": 70,
   "id": "a7b2bae8-cd14-4396-987f-47909080d6ce",
   "metadata": {
    "tags": []
   },
   "outputs": [
    {
     "data": {
      "application/vnd.vegalite.v4+json": {
       "$schema": "https://vega.github.io/schema/vega-lite/v4.17.0.json",
       "config": {
        "view": {
         "continuousHeight": 300,
         "continuousWidth": 400
        }
       },
       "data": {
        "name": "data-6cd1456596c1f74e121582c365026ae5"
       },
       "datasets": {
        "data-6cd1456596c1f74e121582c365026ae5": [
         {
          "educ_expected_yrs_f": 6.795722485,
          "fertility_total": 4.473,
          "gdi": 0.6629999999999999,
          "gdp_percap": 493.7504181,
          "hdi": 0.509,
          "immunization": 65,
          "life_birthf": 66.02600000000001
         },
         {
          "educ_expected_yrs_f": 13.20175457,
          "fertility_total": 1.617,
          "gdi": 0.971,
          "gdp_percap": 5284.380184000001,
          "hdi": 0.792,
          "immunization": 96.5,
          "life_birthf": 80.167
         },
         {
          "educ_expected_yrs_f": 12.10898972,
          "fertility_total": 3.023,
          "gdi": 0.86,
          "gdp_percap": 4153.733978,
          "hdi": 0.746,
          "immunization": 85.5,
          "life_birthf": 77.938
         },
         {
          "educ_expected_yrs_f": 6.973901272000001,
          "fertility_total": 5.519,
          "gdi": 0.903,
          "gdp_percap": 3289.646664,
          "hdi": 0.5820000000000001,
          "immunization": 56.5,
          "life_birthf": 63.666
         },
         {
          "educ_expected_yrs_f": 13.06125259,
          "fertility_total": 2.261,
          "gdi": 0.992,
          "gdp_percap": 11633.49801,
          "hdi": 0.8420000000000001,
          "immunization": 90,
          "life_birthf": 79.863
         },
         {
          "educ_expected_yrs_f": 11.62581253,
          "fertility_total": 1.755,
          "gdi": 0.978,
          "gdp_percap": 4220.490277,
          "hdi": 0.7709999999999999,
          "immunization": 93.5,
          "life_birthf": 78.354
         },
         {
          "educ_expected_yrs_f": 13.62022209,
          "fertility_total": 1.74,
          "gdi": 0.976,
          "gdp_percap": 57354.96405,
          "hdi": 0.943,
          "immunization": 95,
          "life_birthf": 84.9
         },
         {
          "educ_expected_yrs_f": 13.46689415,
          "fertility_total": 1.47,
          "gdi": 0.966,
          "gdp_percap": 51478.28526,
          "hdi": 0.921,
          "immunization": 89.5,
          "life_birthf": 84.1
         },
         {
          "educ_expected_yrs_f": 12.44501495,
          "fertility_total": 1.73,
          "gdi": 0.939,
          "gdp_percap": 4739.841710000001,
          "hdi": 0.754,
          "immunization": 95.5,
          "life_birthf": 75.336
         },
         {
          "educ_expected_yrs_f": 13.27036572,
          "fertility_total": 1.987,
          "gdi": 0.936,
          "gdp_percap": 23991.05668,
          "hdi": 0.852,
          "immunization": 99,
          "life_birthf": 78.285
         },
         {
          "educ_expected_yrs_f": 10.52187443,
          "fertility_total": 2.036,
          "gdi": 0.8959999999999999,
          "gdp_percap": 1698.350394,
          "hdi": 0.625,
          "immunization": 97.5,
          "life_birthf": 74.291
         },
         {
          "educ_expected_yrs_f": 13.75893879,
          "fertility_total": 1.4480000000000002,
          "gdi": 1.009,
          "gdp_percap": 6330.075246,
          "hdi": 0.823,
          "immunization": 97.5,
          "life_birthf": 79.4
         },
         {
          "educ_expected_yrs_f": 13.56679726,
          "fertility_total": 1.62,
          "gdi": 0.973,
          "gdp_percap": 47583.07494,
          "hdi": 0.93,
          "immunization": 97,
          "life_birthf": 83.9
         },
         {
          "educ_expected_yrs_f": 8.782134056,
          "fertility_total": 4.836,
          "gdi": 0.855,
          "gdp_percap": 1240.829464,
          "hdi": 0.541,
          "immunization": 73.5,
          "life_birthf": 63.003
         },
         {
          "educ_expected_yrs_f": 10.70332813,
          "fertility_total": 1.975,
          "gdi": 0.91,
          "gdp_percap": 3243.486036,
          "hdi": 0.649,
          "immunization": 97,
          "life_birthf": 71.816
         },
         {
          "educ_expected_yrs_f": 11.78481483,
          "fertility_total": 1.265,
          "gdi": 0.932,
          "gdp_percap": 6072.184623,
          "hdi": 0.777,
          "immunization": 70.5,
          "life_birthf": 79.72
         },
         {
          "educ_expected_yrs_f": 8.500170707999999,
          "fertility_total": 2.874,
          "gdi": 0.995,
          "gdp_percap": 8279.601739,
          "hdi": 0.73,
          "immunization": 96,
          "life_birthf": 72.04899999999999
         },
         {
          "educ_expected_yrs_f": 13.21317291,
          "fertility_total": 1.848,
          "gdi": 0.978,
          "gdp_percap": 31628.32879,
          "hdi": 0.836,
          "immunization": 99,
          "life_birthf": 76.96
         },
         {
          "educ_expected_yrs_f": 12.24310493,
          "fertility_total": 1.56,
          "gdi": 0.994,
          "gdp_percap": 9427.73043,
          "hdi": 0.813,
          "immunization": 92.5,
          "life_birthf": 78.6
         },
         {
          "educ_expected_yrs_f": 6.696904658999999,
          "fertility_total": 5.189,
          "gdi": 0.865,
          "gdp_percap": 813.096849,
          "hdi": 0.4429999999999999,
          "immunization": 89.5,
          "life_birthf": 61.863
         },
         {
          "educ_expected_yrs_f": 8.191820145,
          "fertility_total": 5.41,
          "gdi": 0.996,
          "gdp_percap": 271.7520444,
          "hdi": 0.431,
          "immunization": 89,
          "life_birthf": 63.031000000000006
         },
         {
          "educ_expected_yrs_f": 9.635119438,
          "fertility_total": 2.503,
          "gdi": 0.92,
          "gdp_percap": 1512.12671,
          "hdi": 0.585,
          "immunization": 88,
          "life_birthf": 71.62899999999999
         },
         {
          "educ_expected_yrs_f": 8.315596581,
          "fertility_total": 4.572,
          "gdi": 0.87,
          "gdp_percap": 1534.493702,
          "hdi": 0.56,
          "immunization": 63,
          "life_birthf": 60.192
         },
         {
          "educ_expected_yrs_f": 13.709587099999998,
          "fertility_total": 1.4988,
          "gdi": 0.99,
          "gdp_percap": 46303.90878,
          "hdi": 0.928,
          "immunization": 90.5,
          "life_birthf": 84.2
         },
         {
          "educ_expected_yrs_f": 3.848102808,
          "fertility_total": 4.721,
          "gdi": 0.8,
          "gdp_percap": 475.9536099,
          "hdi": 0.395,
          "immunization": 48,
          "life_birthf": 54.99100000000001
         },
         {
          "educ_expected_yrs_f": 4.473656654,
          "fertility_total": 5.747000000000001,
          "gdi": 0.773,
          "gdp_percap": 726.1498811,
          "hdi": 0.397,
          "immunization": 44,
          "life_birthf": 55.4
         },
         {
          "educ_expected_yrs_f": 13.05471802,
          "fertility_total": 1.649,
          "gdi": 0.964,
          "gdp_percap": 15924.79424,
          "hdi": 0.8490000000000001,
          "immunization": 94,
          "life_birthf": 82.381
         },
         {
          "educ_expected_yrs_f": 13.0906477,
          "fertility_total": 1.69,
          "gdi": 0.959,
          "gdp_percap": 9976.677137,
          "hdi": 0.755,
          "immunization": 99,
          "life_birthf": 79.051
         },
         {
          "educ_expected_yrs_f": 12.70421314,
          "fertility_total": 1.807,
          "gdi": 0.99,
          "gdp_percap": 6716.911598000001,
          "hdi": 0.764,
          "immunization": 93.5,
          "life_birthf": 79.859
         },
         {
          "educ_expected_yrs_f": 8.128657341,
          "fertility_total": 4.205,
          "gdi": 0.89,
          "gdp_percap": 1415.9553130000002,
          "hdi": 0.552,
          "immunization": 90.5,
          "life_birthf": 65.9
         },
         {
          "educ_expected_yrs_f": 12.51764488,
          "fertility_total": 1.754,
          "gdi": 0.981,
          "gdp_percap": 12112.13442,
          "hdi": 0.8079999999999999,
          "immunization": 94,
          "life_birthf": 82.73
         },
         {
          "educ_expected_yrs_f": 13.5518446,
          "fertility_total": 1.47,
          "gdi": 0.99,
          "gdp_percap": 15014.08502,
          "hdi": 0.848,
          "immunization": 93,
          "life_birthf": 81.4
         },
         {
          "educ_expected_yrs_f": 13.61954403,
          "fertility_total": 1.329,
          "gdi": 0.983,
          "gdp_percap": 28689.70672,
          "hdi": 0.885,
          "immunization": 94.5,
          "life_birthf": 82.913
         },
         {
          "educ_expected_yrs_f": 13.47161579,
          "fertility_total": 1.73,
          "gdi": 0.981,
          "gdp_percap": 61598.5367,
          "hdi": 0.939,
          "immunization": 96,
          "life_birthf": 82.9
         },
         {
          "educ_expected_yrs_f": 12.15325356,
          "fertility_total": 2.346,
          "gdi": 0.999,
          "gdp_percap": 8050.630440000001,
          "hdi": 0.7509999999999999,
          "immunization": 94.5,
          "life_birthf": 77.196
         },
         {
          "educ_expected_yrs_f": 13.219711300000002,
          "fertility_total": 2.427,
          "gdi": 0.979,
          "gdp_percap": 6295.935399,
          "hdi": 0.762,
          "immunization": 84,
          "life_birthf": 79.645
         },
         {
          "educ_expected_yrs_f": 10.9428196,
          "fertility_total": 2.039,
          "gdi": 0.974,
          "gdp_percap": 4067.659449,
          "hdi": 0.67,
          "immunization": 81,
          "life_birthf": 77.635
         },
         {
          "educ_expected_yrs_f": 13.53030491,
          "fertility_total": 1.67,
          "gdi": 1.016,
          "gdp_percap": 23170.70738,
          "hdi": 0.889,
          "immunization": 89.5,
          "life_birthf": 82.7
         },
         {
          "educ_expected_yrs_f": 7.516855717,
          "fertility_total": 4.247,
          "gdi": 0.846,
          "gdp_percap": 771.5238138999999,
          "hdi": 0.478,
          "immunization": 61.5,
          "life_birthf": 68.165
         },
         {
          "educ_expected_yrs_f": 13.74469662,
          "fertility_total": 1.41,
          "gdi": 0.99,
          "gdp_percap": 50030.87731,
          "hdi": 0.937,
          "immunization": 93.5,
          "life_birthf": 84.5
         },
         {
          "educ_expected_yrs_f": 13.8239584,
          "fertility_total": 1.88,
          "gdi": 0.987,
          "gdp_percap": 41631.09074,
          "hdi": 0.898,
          "immunization": 93,
          "life_birthf": 85.9
         },
         {
          "educ_expected_yrs_f": 8.538388252,
          "fertility_total": 3.969,
          "gdi": 0.916,
          "gdp_percap": 7956.627815999999,
          "hdi": 0.6970000000000001,
          "immunization": 64.5,
          "life_birthf": 68.32300000000001
         },
         {
          "educ_expected_yrs_f": 13.02663994,
          "fertility_total": 2.06,
          "gdi": 0.979,
          "gdp_percap": 4722.787783,
          "hdi": 0.805,
          "immunization": 95.5,
          "life_birthf": 77.98899999999999
         },
         {
          "educ_expected_yrs_f": 13.34453487,
          "fertility_total": 1.57,
          "gdi": 0.968,
          "gdp_percap": 47810.50767,
          "hdi": 0.946,
          "immunization": 95,
          "life_birthf": 83.3
         },
         {
          "educ_expected_yrs_f": 11.91578197,
          "fertility_total": 3.87,
          "gdi": 0.909,
          "gdp_percap": 2202.312164,
          "hdi": 0.606,
          "immunization": 94.5,
          "life_birthf": 64.852
         },
         {
          "educ_expected_yrs_f": 13.28767872,
          "fertility_total": 1.35,
          "gdi": 0.964,
          "gdp_percap": 20324.30499,
          "hdi": 0.8809999999999999,
          "immunization": 98,
          "life_birthf": 84.4
         },
         {
          "educ_expected_yrs_f": 9.521496773,
          "fertility_total": 2.87,
          "gdi": 0.941,
          "gdp_percap": 4472.892371,
          "hdi": 0.657,
          "immunization": 86.5,
          "life_birthf": 76.937
         },
         {
          "educ_expected_yrs_f": 6.210740089,
          "fertility_total": 4.7,
          "gdi": 0.816,
          "gdp_percap": 878.5996133,
          "hdi": 0.473,
          "immunization": 47,
          "life_birthf": 61.666
         },
         {
          "educ_expected_yrs_f": 12.30990696,
          "fertility_total": 2.462,
          "gdi": 0.967,
          "gdp_percap": 6145.842411,
          "hdi": 0.68,
          "immunization": 96.5,
          "life_birthf": 72.972
         },
         {
          "educ_expected_yrs_f": 11.44699955,
          "fertility_total": 2.935,
          "gdi": 0.875,
          "gdp_percap": 1435.351756,
          "hdi": 0.508,
          "immunization": 66.5,
          "life_birthf": 65.832
         },
         {
          "educ_expected_yrs_f": 9.822359085,
          "fertility_total": 2.46,
          "gdi": 0.978,
          "gdp_percap": 2505.776752,
          "hdi": 0.633,
          "immunization": 89.5,
          "life_birthf": 77.378
         },
         {
          "educ_expected_yrs_f": 12.96164417,
          "fertility_total": 1.55,
          "gdi": 0.98,
          "gdp_percap": 16410.18726,
          "hdi": 0.85,
          "immunization": 99,
          "life_birthf": 79.6
         },
         {
          "educ_expected_yrs_f": 13.54500961,
          "fertility_total": 1.71,
          "gdi": 0.969,
          "gdp_percap": 72968.70422999999,
          "hdi": 0.946,
          "immunization": 92,
          "life_birthf": 84.5
         },
         {
          "educ_expected_yrs_f": 10.93618393,
          "fertility_total": 2.222,
          "gdi": 0.818,
          "gdp_percap": 2005.863005,
          "hdi": 0.642,
          "immunization": 91.5,
          "life_birthf": 70.692
         },
         {
          "educ_expected_yrs_f": 12.41253376,
          "fertility_total": 2.311,
          "gdi": 0.938,
          "gdp_percap": 3893.846425,
          "hdi": 0.7120000000000001,
          "immunization": 87,
          "life_birthf": 73.748
         },
         {
          "educ_expected_yrs_f": 7.038986206000001,
          "fertility_total": 3.672,
          "gdi": 0.7709999999999999,
          "gdp_percap": 5834.166211,
          "hdi": 0.6709999999999999,
          "immunization": 83.5,
          "life_birthf": 72.486
         },
         {
          "educ_expected_yrs_f": 13.92032051,
          "fertility_total": 1.75,
          "gdi": 0.978,
          "gdp_percap": 78621.22793,
          "hdi": 0.951,
          "immunization": 93,
          "life_birthf": 84.1
         },
         {
          "educ_expected_yrs_f": 13.90762043,
          "fertility_total": 3.09,
          "gdi": 0.973,
          "gdp_percap": 41719.72544,
          "hdi": 0.916,
          "immunization": 98,
          "life_birthf": 84.8
         },
         {
          "educ_expected_yrs_f": 13.31961727,
          "fertility_total": 1.29,
          "gdi": 0.969,
          "gdp_percap": 34615.75689,
          "hdi": 0.89,
          "immunization": 94,
          "life_birthf": 85.6
         },
         {
          "educ_expected_yrs_f": 11.82789326,
          "fertility_total": 1.979,
          "gdi": 0.988,
          "gdp_percap": 5354.236859000001,
          "hdi": 0.7340000000000001,
          "immunization": 93,
          "life_birthf": 75.993
         },
         {
          "educ_expected_yrs_f": 11.72220421,
          "fertility_total": 2.761,
          "gdi": 0.875,
          "gdp_percap": 4312.180117,
          "hdi": 0.728,
          "immunization": 94,
          "life_birthf": 76.175
         },
         {
          "educ_expected_yrs_f": 13.86884308,
          "fertility_total": 2.84,
          "gdi": 0.997,
          "gdp_percap": 9812.626370999998,
          "hdi": 0.8190000000000001,
          "immunization": 98.5,
          "life_birthf": 77.19
         },
         {
          "educ_expected_yrs_f": 11.30184937,
          "fertility_total": 3.492,
          "gdi": 0.926,
          "gdp_percap": 1707.986805,
          "hdi": 0.599,
          "immunization": 90.5,
          "life_birthf": 68.684
         },
         {
          "educ_expected_yrs_f": 12.40283394,
          "fertility_total": 2.082,
          "gdi": 0.973,
          "gdp_percap": 33994.38192,
          "hdi": 0.807,
          "immunization": 94.5,
          "life_birthf": 76.467
         },
         {
          "educ_expected_yrs_f": 13.7176199,
          "fertility_total": 1.6,
          "gdi": 1.035,
          "gdp_percap": 17858.279980000003,
          "hdi": 0.863,
          "immunization": 97,
          "life_birthf": 79.7
         },
         {
          "educ_expected_yrs_f": 10.41264439,
          "fertility_total": 3.141,
          "gdi": 1.019,
          "gdp_percap": 1221.883763,
          "hdi": 0.522,
          "immunization": 88.5,
          "life_birthf": 56.95399999999999
         },
         {
          "educ_expected_yrs_f": 4.166073798999999,
          "fertility_total": 4.315,
          "gdi": 0.895,
          "gdp_percap": 677.3221785000001,
          "hdi": 0.48,
          "immunization": 87.5,
          "life_birthf": 65.11399999999999
         },
         {
          "educ_expected_yrs_f": 13.88928127,
          "fertility_total": 1.63,
          "gdi": 1.029,
          "gdp_percap": 19176.17652,
          "hdi": 0.8759999999999999,
          "immunization": 92,
          "life_birthf": 80.7
         },
         {
          "educ_expected_yrs_f": 12.47436428,
          "fertility_total": 1.38,
          "gdi": 0.975,
          "gdp_percap": 116654.2611,
          "hdi": 0.913,
          "immunization": 99,
          "life_birthf": 84.6
         },
         {
          "educ_expected_yrs_f": 8.609224318999999,
          "fertility_total": 4.077,
          "gdi": 0.949,
          "gdp_percap": 527.5013261,
          "hdi": 0.527,
          "immunization": 68.5,
          "life_birthf": 68.301
         },
         {
          "educ_expected_yrs_f": 9.583486557,
          "fertility_total": 4.209,
          "gdi": 0.926,
          "gdp_percap": 381.2589876,
          "hdi": 0.478,
          "immunization": 89.5,
          "life_birthf": 66.937
         },
         {
          "educ_expected_yrs_f": 12.68888378,
          "fertility_total": 2.001,
          "gdi": 0.97,
          "gdp_percap": 11377.455,
          "hdi": 0.805,
          "immunization": 97.5,
          "life_birthf": 78.167
         },
         {
          "educ_expected_yrs_f": 5.42065239,
          "fertility_total": 5.877000000000001,
          "gdi": 0.81,
          "gdp_percap": 894.8021868999999,
          "hdi": 0.431,
          "immunization": 73.5,
          "life_birthf": 59.649
         },
         {
          "educ_expected_yrs_f": 13.50980282,
          "fertility_total": 1.23,
          "gdi": 0.968,
          "gdp_percap": 30437.221510000003,
          "hdi": 0.894,
          "immunization": 96.5,
          "life_birthf": 84.6
         },
         {
          "educ_expected_yrs_f": 7.564128876,
          "fertility_total": 4.561,
          "gdi": 0.86,
          "gdp_percap": 1600.876469,
          "hdi": 0.542,
          "immunization": 79.5,
          "life_birthf": 66.292
         },
         {
          "educ_expected_yrs_f": 12.77645302,
          "fertility_total": 1.41,
          "gdi": 0.974,
          "gdp_percap": 11208.34382,
          "hdi": 0.8009999999999999,
          "immunization": 98,
          "life_birthf": 77.72
         },
         {
          "educ_expected_yrs_f": 12.97874069,
          "fertility_total": 2.129,
          "gdi": 0.962,
          "gdp_percap": 9686.513783,
          "hdi": 0.7759999999999999,
          "immunization": 92.5,
          "life_birthf": 77.844
         },
         {
          "educ_expected_yrs_f": 13.25112915,
          "fertility_total": 2.895,
          "gdi": 1.02,
          "gdp_percap": 4134.987198,
          "hdi": 0.735,
          "immunization": 99,
          "life_birthf": 73.961
         },
         {
          "educ_expected_yrs_f": 12.64217091,
          "fertility_total": 1.745,
          "gdi": 0.965,
          "gdp_percap": 8846.056525,
          "hdi": 0.826,
          "immunization": 64,
          "life_birthf": 79.199
         },
         {
          "educ_expected_yrs_f": 10.41762161,
          "fertility_total": 2.415,
          "gdi": 0.833,
          "gdp_percap": 3222.200634,
          "hdi": 0.68,
          "immunization": 99,
          "life_birthf": 77.668
         },
         {
          "educ_expected_yrs_f": 9.829102516,
          "fertility_total": 2.154,
          "gdi": 0.953,
          "gdp_percap": 1418.177623,
          "hdi": 0.579,
          "immunization": 92,
          "life_birthf": 69.874
         },
         {
          "educ_expected_yrs_f": 9.723130226,
          "fertility_total": 3.3960000000000004,
          "gdi": 1.007,
          "gdp_percap": 5495.428925,
          "hdi": 0.645,
          "immunization": 85.5,
          "life_birthf": 66.18
         },
         {
          "educ_expected_yrs_f": 12.0131464,
          "fertility_total": 1.917,
          "gdi": 0.927,
          "gdp_percap": 1038.651647,
          "hdi": 0.596,
          "immunization": 91,
          "life_birthf": 71.9
         },
         {
          "educ_expected_yrs_f": 13.92983341,
          "fertility_total": 1.59,
          "gdi": 0.967,
          "gdp_percap": 53044.53244,
          "hdi": 0.942,
          "immunization": 93,
          "life_birthf": 83.4
         },
         {
          "educ_expected_yrs_f": 13.77946663,
          "fertility_total": 1.71,
          "gdi": 0.965,
          "gdp_percap": 42427.58315,
          "hdi": 0.928,
          "immunization": 92.5,
          "life_birthf": 83.6
         },
         {
          "educ_expected_yrs_f": 11.10092926,
          "fertility_total": 2.404,
          "gdi": 1.011,
          "gdp_percap": 2020.55193,
          "hdi": 0.659,
          "immunization": 98.5,
          "life_birthf": 77.77
         },
         {
          "educ_expected_yrs_f": 5.059231758,
          "fertility_total": 6.912999999999999,
          "gdi": 0.727,
          "gdp_percap": 572.4271543,
          "hdi": 0.391,
          "immunization": 78,
          "life_birthf": 63.212
         },
         {
          "educ_expected_yrs_f": 10.09999943,
          "fertility_total": 5.3870000000000005,
          "gdi": 0.8740000000000001,
          "gdp_percap": 2027.777979,
          "hdi": 0.534,
          "immunization": 55,
          "life_birthf": 55.244
         },
         {
          "educ_expected_yrs_f": 11.08503532,
          "fertility_total": 1.496,
          "gdi": 0.948,
          "gdp_percap": 6088.972445,
          "hdi": 0.77,
          "immunization": 83.5,
          "life_birthf": 77.736
         },
         {
          "educ_expected_yrs_f": 13.67211056,
          "fertility_total": 1.56,
          "gdi": 0.989,
          "gdp_percap": 81734.46557,
          "hdi": 0.956,
          "immunization": 96,
          "life_birthf": 84.5
         },
         {
          "educ_expected_yrs_f": 13.10266685,
          "fertility_total": 2.888,
          "gdi": 0.937,
          "gdp_percap": 16521.18228,
          "hdi": 0.813,
          "immunization": 99,
          "life_birthf": 80.134
         },
         {
          "educ_expected_yrs_f": 8.687153816,
          "fertility_total": 3.51,
          "gdi": 0.736,
          "gdp_percap": 1482.305667,
          "hdi": 0.552,
          "immunization": 74,
          "life_birthf": 68.109
         },
         {
          "educ_expected_yrs_f": 10.88493347,
          "fertility_total": 2.461,
          "gdi": 1.009,
          "gdp_percap": 15592.57368,
          "hdi": 0.812,
          "immunization": 93,
          "life_birthf": 81.593
         },
         {
          "educ_expected_yrs_f": 11.26677418,
          "fertility_total": 2.4290000000000003,
          "gdi": 0.967,
          "gdp_percap": 5805.675616,
          "hdi": 0.727,
          "immunization": 90.5,
          "life_birthf": 76.25
         },
         {
          "educ_expected_yrs_f": 12.89012051,
          "fertility_total": 2.254,
          "gdi": 0.964,
          "gdp_percap": 6941.235848,
          "hdi": 0.7709999999999999,
          "immunization": 84.5,
          "life_birthf": 79.28
         },
         {
          "educ_expected_yrs_f": 13.04763317,
          "fertility_total": 2.576,
          "gdi": 1.005,
          "gdp_percap": 3252.092324,
          "hdi": 0.711,
          "immunization": 66,
          "life_birthf": 75.387
         },
         {
          "educ_expected_yrs_f": 13.45503712,
          "fertility_total": 1.46,
          "gdi": 1.008,
          "gdp_percap": 15468.482219999998,
          "hdi": 0.877,
          "immunization": 94,
          "life_birthf": 81.7
         },
         {
          "educ_expected_yrs_f": 13.82900047,
          "fertility_total": 1.42,
          "gdi": 0.985,
          "gdp_percap": 23562.55452,
          "hdi": 0.86,
          "immunization": 99,
          "life_birthf": 84.5
         },
         {
          "educ_expected_yrs_f": 12.7883606,
          "fertility_total": 1.866,
          "gdi": 1.031,
          "gdp_percap": 65908.0669,
          "hdi": 0.845,
          "immunization": 98.5,
          "life_birthf": 81.876
         },
         {
          "educ_expected_yrs_f": 11.98094845,
          "fertility_total": 1.76,
          "gdi": 0.989,
          "gdp_percap": 12399.88934,
          "hdi": 0.823,
          "immunization": 88,
          "life_birthf": 79.2
         },
         {
          "educ_expected_yrs_f": 13.68534756,
          "fertility_total": 1.579,
          "gdi": 1.009,
          "gdp_percap": 11370.81346,
          "hdi": 0.823,
          "immunization": 97.5,
          "life_birthf": 77.82
         },
         {
          "educ_expected_yrs_f": 6.980305195,
          "fertility_total": 4.044,
          "gdi": 0.943,
          "gdp_percap": 783.2871842000001,
          "hdi": 0.54,
          "immunization": 98,
          "life_birthf": 70.78399999999999
         },
         {
          "educ_expected_yrs_f": 12.26758575,
          "fertility_total": 2.319,
          "gdi": 0.875,
          "gdp_percap": 23338.96346,
          "hdi": 0.8540000000000001,
          "immunization": 97,
          "life_birthf": 76.615
         },
         {
          "educ_expected_yrs_f": 7.849748135,
          "fertility_total": 4.625,
          "gdi": 0.877,
          "gdp_percap": 1465.591006,
          "hdi": 0.516,
          "immunization": 82.5,
          "life_birthf": 69.627
         },
         {
          "educ_expected_yrs_f": 13.49239731,
          "fertility_total": 1.49,
          "gdi": 0.975,
          "gdp_percap": 7252.401858,
          "hdi": 0.8029999999999999,
          "immunization": 94,
          "life_birthf": 78.4
         },
         {
          "educ_expected_yrs_f": 9.282006264,
          "fertility_total": 4.263,
          "gdi": 0.8809999999999999,
          "gdp_percap": 533.9911843,
          "hdi": 0.447,
          "immunization": 90,
          "life_birthf": 55.106
         },
         {
          "educ_expected_yrs_f": 13.90422153,
          "fertility_total": 1.14,
          "gdi": 0.986,
          "gdp_percap": 66188.7794,
          "hdi": 0.936,
          "immunization": 95.5,
          "life_birthf": 85.5
         },
         {
          "educ_expected_yrs_f": 13.71750641,
          "fertility_total": 1.61,
          "gdi": 1.002,
          "gdp_percap": 26115.91337,
          "hdi": 0.912,
          "immunization": 93,
          "life_birthf": 84.4
         },
         {
          "educ_expected_yrs_f": 10.11397743,
          "fertility_total": 2.405,
          "gdi": 0.983,
          "gdp_percap": 6372.605654999999,
          "hdi": 0.7070000000000001,
          "immunization": 72,
          "life_birthf": 67.398
         },
         {
          "educ_expected_yrs_f": 13.08606815,
          "fertility_total": 1.26,
          "gdi": 0.981,
          "gdp_percap": 30389.36099,
          "hdi": 0.905,
          "immunization": 96.5,
          "life_birthf": 86.3
         },
         {
          "educ_expected_yrs_f": 13.11488724,
          "fertility_total": 2.199,
          "gdi": 0.939,
          "gdp_percap": 4080.567125,
          "hdi": 0.779,
          "immunization": 99,
          "life_birthf": 80.12100000000001
         },
         {
          "educ_expected_yrs_f": 6.943500996,
          "fertility_total": 4.407,
          "gdi": 0.8540000000000001,
          "gdp_percap": 623.8672524,
          "hdi": 0.506,
          "immunization": 90.5,
          "life_birthf": 66.947
         },
         {
          "educ_expected_yrs_f": 13.90402126,
          "fertility_total": 1.76,
          "gdi": 0.982,
          "gdp_percap": 54589.06039,
          "hdi": 0.943,
          "immunization": 97,
          "life_birthf": 84.3
         },
         {
          "educ_expected_yrs_f": 13.21845913,
          "fertility_total": 1.52,
          "gdi": 0.968,
          "gdp_percap": 82818.10816,
          "hdi": 0.955,
          "immunization": 95.5,
          "life_birthf": 85.7
         },
         {
          "educ_expected_yrs_f": 10.43918705,
          "fertility_total": 3.585,
          "gdi": 0.823,
          "gdp_percap": 826.6215305,
          "hdi": 0.6609999999999999,
          "immunization": 97,
          "life_birthf": 73.17699999999999
         },
         {
          "educ_expected_yrs_f": 12.644207000000002,
          "fertility_total": 1.525,
          "gdi": 0.997,
          "gdp_percap": 7295.475616,
          "hdi": 0.772,
          "immunization": 96.5,
          "life_birthf": 80.704
         },
         {
          "educ_expected_yrs_f": 10.87477875,
          "fertility_total": 4.023,
          "gdi": 0.946,
          "gdp_percap": 1230.228191,
          "hdi": 0.599,
          "immunization": 80,
          "life_birthf": 71.376
         },
         {
          "educ_expected_yrs_f": 9.123530388,
          "fertility_total": 4.32,
          "gdi": 0.8190000000000001,
          "gdp_percap": 679.9727606,
          "hdi": 0.51,
          "immunization": 76,
          "life_birthf": 61.612
         },
         {
          "educ_expected_yrs_f": 11.83284092,
          "fertility_total": 3.556,
          "gdi": 0.949,
          "gdp_percap": 4740.792149,
          "hdi": 0.723,
          "immunization": 99,
          "life_birthf": 72.763
         },
         {
          "educ_expected_yrs_f": 10.95233727,
          "fertility_total": 2.197,
          "gdi": 0.899,
          "gdp_percap": 3438.789089,
          "hdi": 0.738,
          "immunization": 89.5,
          "life_birthf": 78.536
         },
         {
          "educ_expected_yrs_f": 11.99552917,
          "fertility_total": 2.069,
          "gdi": 0.926,
          "gdp_percap": 9455.593654,
          "hdi": 0.8170000000000001,
          "immunization": 97,
          "life_birthf": 80.336
         },
         {
          "educ_expected_yrs_f": 13.00567055,
          "fertility_total": 1.301,
          "gdi": 1,
          "gdp_percap": 3096.817402,
          "hdi": 0.774,
          "immunization": 80,
          "life_birthf": 76.72
         },
         {
          "educ_expected_yrs_f": 13.1702652,
          "fertility_total": 1.413,
          "gdi": 0.926,
          "gdp_percap": 43839.35635,
          "hdi": 0.889,
          "immunization": 99,
          "life_birthf": 79.164
         },
         {
          "educ_expected_yrs_f": 13.85765934,
          "fertility_total": 1.68,
          "gdi": 0.968,
          "gdp_percap": 43043.22782,
          "hdi": 0.928,
          "immunization": 93,
          "life_birthf": 83.1
         },
         {
          "educ_expected_yrs_f": 12.93639374,
          "fertility_total": 1.7295,
          "gdi": 0.993,
          "gdp_percap": 62996.47129,
          "hdi": 0.925,
          "immunization": 93,
          "life_birthf": 81.2
         },
         {
          "educ_expected_yrs_f": 12.47761631,
          "fertility_total": 1.973,
          "gdi": 1.017,
          "gdp_percap": 17277.97011,
          "hdi": 0.816,
          "immunization": 94,
          "life_birthf": 81.359
         },
         {
          "educ_expected_yrs_f": 12.00484753,
          "fertility_total": 2.604,
          "gdi": 0.938,
          "gdp_percap": 1529.082864,
          "hdi": 0.7170000000000001,
          "immunization": 97,
          "life_birthf": 73.676
         },
         {
          "educ_expected_yrs_f": 8.745135307,
          "fertility_total": 4.633,
          "gdi": 0.98,
          "gdp_percap": 1516.390661,
          "hdi": 0.5820000000000001,
          "immunization": 92,
          "life_birthf": 66.447
         },
         {
          "educ_expected_yrs_f": 10.97491837,
          "fertility_total": 3.615,
          "gdi": 0.927,
          "gdp_percap": 1683.740577,
          "hdi": 0.569,
          "immunization": 88.5,
          "life_birthf": 62.598
         }
        ]
       },
       "encoding": {
        "x": {
         "field": "gdp_percap",
         "scale": {
          "zero": false
         },
         "title": "GDP per capita",
         "type": "quantitative"
        },
        "y": {
         "field": "fertility_total",
         "title": "Fertility rate",
         "type": "quantitative"
        }
       },
       "height": 300,
       "mark": "circle",
       "width": 300
      },
      "image/png": "[encoded data removed]",
      "text/plain": [
       "<VegaLite 4 object>\n",
       "\n",
       "If you see this message, it means the renderer has not been properly enabled\n",
       "for the frontend that you are using. For more information, see\n",
       "https://altair-viz.github.io/user_guide/troubleshooting.html\n"
      ]
     },
     "execution_count": 70,
     "metadata": {},
     "output_type": "execute_result"
    }
   ],
   "source": [
    "base = alt.Chart(data)\n",
    "    \n",
    "scatter_gdp = base.mark_circle().encode( \n",
    "    x = alt.X(\"gdp_percap:Q\",\n",
    "              scale = alt.Scale(zero = False),\n",
    "              title = \"GDP per capita\"), \n",
    "    y = alt.Y(\"fertility_total:Q\",\n",
    "              title = \"Fertility rate\")\n",
    ").properties(\n",
    "    width = 300,\n",
    "    height = 300)\n",
    "\n",
    "scatter_gdp"
   ]
  },
  {
   "cell_type": "markdown",
   "id": "31323bfc-0cf8-438d-a283-37e9c14cada8",
   "metadata": {},
   "source": [
    "Here, the relationship appears more like a multiplicative inverse with a lower limit of 0."
   ]
  },
  {
   "cell_type": "markdown",
   "id": "b0bf9c95-883d-498e-9b0c-f4d244f7be53",
   "metadata": {},
   "source": [
    "#### Immunization and fertility rate"
   ]
  },
  {
   "cell_type": "code",
   "execution_count": 71,
   "id": "cc63ff7b-038e-42b4-87a4-4c50aa9cc46d",
   "metadata": {
    "tags": []
   },
   "outputs": [
    {
     "data": {
      "application/vnd.vegalite.v4+json": {
       "$schema": "https://vega.github.io/schema/vega-lite/v4.17.0.json",
       "config": {
        "view": {
         "continuousHeight": 300,
         "continuousWidth": 400
        }
       },
       "data": {
        "name": "data-6cd1456596c1f74e121582c365026ae5"
       },
       "datasets": {
        "data-6cd1456596c1f74e121582c365026ae5": [
         {
          "educ_expected_yrs_f": 6.795722485,
          "fertility_total": 4.473,
          "gdi": 0.6629999999999999,
          "gdp_percap": 493.7504181,
          "hdi": 0.509,
          "immunization": 65,
          "life_birthf": 66.02600000000001
         },
         {
          "educ_expected_yrs_f": 13.20175457,
          "fertility_total": 1.617,
          "gdi": 0.971,
          "gdp_percap": 5284.380184000001,
          "hdi": 0.792,
          "immunization": 96.5,
          "life_birthf": 80.167
         },
         {
          "educ_expected_yrs_f": 12.10898972,
          "fertility_total": 3.023,
          "gdi": 0.86,
          "gdp_percap": 4153.733978,
          "hdi": 0.746,
          "immunization": 85.5,
          "life_birthf": 77.938
         },
         {
          "educ_expected_yrs_f": 6.973901272000001,
          "fertility_total": 5.519,
          "gdi": 0.903,
          "gdp_percap": 3289.646664,
          "hdi": 0.5820000000000001,
          "immunization": 56.5,
          "life_birthf": 63.666
         },
         {
          "educ_expected_yrs_f": 13.06125259,
          "fertility_total": 2.261,
          "gdi": 0.992,
          "gdp_percap": 11633.49801,
          "hdi": 0.8420000000000001,
          "immunization": 90,
          "life_birthf": 79.863
         },
         {
          "educ_expected_yrs_f": 11.62581253,
          "fertility_total": 1.755,
          "gdi": 0.978,
          "gdp_percap": 4220.490277,
          "hdi": 0.7709999999999999,
          "immunization": 93.5,
          "life_birthf": 78.354
         },
         {
          "educ_expected_yrs_f": 13.62022209,
          "fertility_total": 1.74,
          "gdi": 0.976,
          "gdp_percap": 57354.96405,
          "hdi": 0.943,
          "immunization": 95,
          "life_birthf": 84.9
         },
         {
          "educ_expected_yrs_f": 13.46689415,
          "fertility_total": 1.47,
          "gdi": 0.966,
          "gdp_percap": 51478.28526,
          "hdi": 0.921,
          "immunization": 89.5,
          "life_birthf": 84.1
         },
         {
          "educ_expected_yrs_f": 12.44501495,
          "fertility_total": 1.73,
          "gdi": 0.939,
          "gdp_percap": 4739.841710000001,
          "hdi": 0.754,
          "immunization": 95.5,
          "life_birthf": 75.336
         },
         {
          "educ_expected_yrs_f": 13.27036572,
          "fertility_total": 1.987,
          "gdi": 0.936,
          "gdp_percap": 23991.05668,
          "hdi": 0.852,
          "immunization": 99,
          "life_birthf": 78.285
         },
         {
          "educ_expected_yrs_f": 10.52187443,
          "fertility_total": 2.036,
          "gdi": 0.8959999999999999,
          "gdp_percap": 1698.350394,
          "hdi": 0.625,
          "immunization": 97.5,
          "life_birthf": 74.291
         },
         {
          "educ_expected_yrs_f": 13.75893879,
          "fertility_total": 1.4480000000000002,
          "gdi": 1.009,
          "gdp_percap": 6330.075246,
          "hdi": 0.823,
          "immunization": 97.5,
          "life_birthf": 79.4
         },
         {
          "educ_expected_yrs_f": 13.56679726,
          "fertility_total": 1.62,
          "gdi": 0.973,
          "gdp_percap": 47583.07494,
          "hdi": 0.93,
          "immunization": 97,
          "life_birthf": 83.9
         },
         {
          "educ_expected_yrs_f": 8.782134056,
          "fertility_total": 4.836,
          "gdi": 0.855,
          "gdp_percap": 1240.829464,
          "hdi": 0.541,
          "immunization": 73.5,
          "life_birthf": 63.003
         },
         {
          "educ_expected_yrs_f": 10.70332813,
          "fertility_total": 1.975,
          "gdi": 0.91,
          "gdp_percap": 3243.486036,
          "hdi": 0.649,
          "immunization": 97,
          "life_birthf": 71.816
         },
         {
          "educ_expected_yrs_f": 11.78481483,
          "fertility_total": 1.265,
          "gdi": 0.932,
          "gdp_percap": 6072.184623,
          "hdi": 0.777,
          "immunization": 70.5,
          "life_birthf": 79.72
         },
         {
          "educ_expected_yrs_f": 8.500170707999999,
          "fertility_total": 2.874,
          "gdi": 0.995,
          "gdp_percap": 8279.601739,
          "hdi": 0.73,
          "immunization": 96,
          "life_birthf": 72.04899999999999
         },
         {
          "educ_expected_yrs_f": 13.21317291,
          "fertility_total": 1.848,
          "gdi": 0.978,
          "gdp_percap": 31628.32879,
          "hdi": 0.836,
          "immunization": 99,
          "life_birthf": 76.96
         },
         {
          "educ_expected_yrs_f": 12.24310493,
          "fertility_total": 1.56,
          "gdi": 0.994,
          "gdp_percap": 9427.73043,
          "hdi": 0.813,
          "immunization": 92.5,
          "life_birthf": 78.6
         },
         {
          "educ_expected_yrs_f": 6.696904658999999,
          "fertility_total": 5.189,
          "gdi": 0.865,
          "gdp_percap": 813.096849,
          "hdi": 0.4429999999999999,
          "immunization": 89.5,
          "life_birthf": 61.863
         },
         {
          "educ_expected_yrs_f": 8.191820145,
          "fertility_total": 5.41,
          "gdi": 0.996,
          "gdp_percap": 271.7520444,
          "hdi": 0.431,
          "immunization": 89,
          "life_birthf": 63.031000000000006
         },
         {
          "educ_expected_yrs_f": 9.635119438,
          "fertility_total": 2.503,
          "gdi": 0.92,
          "gdp_percap": 1512.12671,
          "hdi": 0.585,
          "immunization": 88,
          "life_birthf": 71.62899999999999
         },
         {
          "educ_expected_yrs_f": 8.315596581,
          "fertility_total": 4.572,
          "gdi": 0.87,
          "gdp_percap": 1534.493702,
          "hdi": 0.56,
          "immunization": 63,
          "life_birthf": 60.192
         },
         {
          "educ_expected_yrs_f": 13.709587099999998,
          "fertility_total": 1.4988,
          "gdi": 0.99,
          "gdp_percap": 46303.90878,
          "hdi": 0.928,
          "immunization": 90.5,
          "life_birthf": 84.2
         },
         {
          "educ_expected_yrs_f": 3.848102808,
          "fertility_total": 4.721,
          "gdi": 0.8,
          "gdp_percap": 475.9536099,
          "hdi": 0.395,
          "immunization": 48,
          "life_birthf": 54.99100000000001
         },
         {
          "educ_expected_yrs_f": 4.473656654,
          "fertility_total": 5.747000000000001,
          "gdi": 0.773,
          "gdp_percap": 726.1498811,
          "hdi": 0.397,
          "immunization": 44,
          "life_birthf": 55.4
         },
         {
          "educ_expected_yrs_f": 13.05471802,
          "fertility_total": 1.649,
          "gdi": 0.964,
          "gdp_percap": 15924.79424,
          "hdi": 0.8490000000000001,
          "immunization": 94,
          "life_birthf": 82.381
         },
         {
          "educ_expected_yrs_f": 13.0906477,
          "fertility_total": 1.69,
          "gdi": 0.959,
          "gdp_percap": 9976.677137,
          "hdi": 0.755,
          "immunization": 99,
          "life_birthf": 79.051
         },
         {
          "educ_expected_yrs_f": 12.70421314,
          "fertility_total": 1.807,
          "gdi": 0.99,
          "gdp_percap": 6716.911598000001,
          "hdi": 0.764,
          "immunization": 93.5,
          "life_birthf": 79.859
         },
         {
          "educ_expected_yrs_f": 8.128657341,
          "fertility_total": 4.205,
          "gdi": 0.89,
          "gdp_percap": 1415.9553130000002,
          "hdi": 0.552,
          "immunization": 90.5,
          "life_birthf": 65.9
         },
         {
          "educ_expected_yrs_f": 12.51764488,
          "fertility_total": 1.754,
          "gdi": 0.981,
          "gdp_percap": 12112.13442,
          "hdi": 0.8079999999999999,
          "immunization": 94,
          "life_birthf": 82.73
         },
         {
          "educ_expected_yrs_f": 13.5518446,
          "fertility_total": 1.47,
          "gdi": 0.99,
          "gdp_percap": 15014.08502,
          "hdi": 0.848,
          "immunization": 93,
          "life_birthf": 81.4
         },
         {
          "educ_expected_yrs_f": 13.61954403,
          "fertility_total": 1.329,
          "gdi": 0.983,
          "gdp_percap": 28689.70672,
          "hdi": 0.885,
          "immunization": 94.5,
          "life_birthf": 82.913
         },
         {
          "educ_expected_yrs_f": 13.47161579,
          "fertility_total": 1.73,
          "gdi": 0.981,
          "gdp_percap": 61598.5367,
          "hdi": 0.939,
          "immunization": 96,
          "life_birthf": 82.9
         },
         {
          "educ_expected_yrs_f": 12.15325356,
          "fertility_total": 2.346,
          "gdi": 0.999,
          "gdp_percap": 8050.630440000001,
          "hdi": 0.7509999999999999,
          "immunization": 94.5,
          "life_birthf": 77.196
         },
         {
          "educ_expected_yrs_f": 13.219711300000002,
          "fertility_total": 2.427,
          "gdi": 0.979,
          "gdp_percap": 6295.935399,
          "hdi": 0.762,
          "immunization": 84,
          "life_birthf": 79.645
         },
         {
          "educ_expected_yrs_f": 10.9428196,
          "fertility_total": 2.039,
          "gdi": 0.974,
          "gdp_percap": 4067.659449,
          "hdi": 0.67,
          "immunization": 81,
          "life_birthf": 77.635
         },
         {
          "educ_expected_yrs_f": 13.53030491,
          "fertility_total": 1.67,
          "gdi": 1.016,
          "gdp_percap": 23170.70738,
          "hdi": 0.889,
          "immunization": 89.5,
          "life_birthf": 82.7
         },
         {
          "educ_expected_yrs_f": 7.516855717,
          "fertility_total": 4.247,
          "gdi": 0.846,
          "gdp_percap": 771.5238138999999,
          "hdi": 0.478,
          "immunization": 61.5,
          "life_birthf": 68.165
         },
         {
          "educ_expected_yrs_f": 13.74469662,
          "fertility_total": 1.41,
          "gdi": 0.99,
          "gdp_percap": 50030.87731,
          "hdi": 0.937,
          "immunization": 93.5,
          "life_birthf": 84.5
         },
         {
          "educ_expected_yrs_f": 13.8239584,
          "fertility_total": 1.88,
          "gdi": 0.987,
          "gdp_percap": 41631.09074,
          "hdi": 0.898,
          "immunization": 93,
          "life_birthf": 85.9
         },
         {
          "educ_expected_yrs_f": 8.538388252,
          "fertility_total": 3.969,
          "gdi": 0.916,
          "gdp_percap": 7956.627815999999,
          "hdi": 0.6970000000000001,
          "immunization": 64.5,
          "life_birthf": 68.32300000000001
         },
         {
          "educ_expected_yrs_f": 13.02663994,
          "fertility_total": 2.06,
          "gdi": 0.979,
          "gdp_percap": 4722.787783,
          "hdi": 0.805,
          "immunization": 95.5,
          "life_birthf": 77.98899999999999
         },
         {
          "educ_expected_yrs_f": 13.34453487,
          "fertility_total": 1.57,
          "gdi": 0.968,
          "gdp_percap": 47810.50767,
          "hdi": 0.946,
          "immunization": 95,
          "life_birthf": 83.3
         },
         {
          "educ_expected_yrs_f": 11.91578197,
          "fertility_total": 3.87,
          "gdi": 0.909,
          "gdp_percap": 2202.312164,
          "hdi": 0.606,
          "immunization": 94.5,
          "life_birthf": 64.852
         },
         {
          "educ_expected_yrs_f": 13.28767872,
          "fertility_total": 1.35,
          "gdi": 0.964,
          "gdp_percap": 20324.30499,
          "hdi": 0.8809999999999999,
          "immunization": 98,
          "life_birthf": 84.4
         },
         {
          "educ_expected_yrs_f": 9.521496773,
          "fertility_total": 2.87,
          "gdi": 0.941,
          "gdp_percap": 4472.892371,
          "hdi": 0.657,
          "immunization": 86.5,
          "life_birthf": 76.937
         },
         {
          "educ_expected_yrs_f": 6.210740089,
          "fertility_total": 4.7,
          "gdi": 0.816,
          "gdp_percap": 878.5996133,
          "hdi": 0.473,
          "immunization": 47,
          "life_birthf": 61.666
         },
         {
          "educ_expected_yrs_f": 12.30990696,
          "fertility_total": 2.462,
          "gdi": 0.967,
          "gdp_percap": 6145.842411,
          "hdi": 0.68,
          "immunization": 96.5,
          "life_birthf": 72.972
         },
         {
          "educ_expected_yrs_f": 11.44699955,
          "fertility_total": 2.935,
          "gdi": 0.875,
          "gdp_percap": 1435.351756,
          "hdi": 0.508,
          "immunization": 66.5,
          "life_birthf": 65.832
         },
         {
          "educ_expected_yrs_f": 9.822359085,
          "fertility_total": 2.46,
          "gdi": 0.978,
          "gdp_percap": 2505.776752,
          "hdi": 0.633,
          "immunization": 89.5,
          "life_birthf": 77.378
         },
         {
          "educ_expected_yrs_f": 12.96164417,
          "fertility_total": 1.55,
          "gdi": 0.98,
          "gdp_percap": 16410.18726,
          "hdi": 0.85,
          "immunization": 99,
          "life_birthf": 79.6
         },
         {
          "educ_expected_yrs_f": 13.54500961,
          "fertility_total": 1.71,
          "gdi": 0.969,
          "gdp_percap": 72968.70422999999,
          "hdi": 0.946,
          "immunization": 92,
          "life_birthf": 84.5
         },
         {
          "educ_expected_yrs_f": 10.93618393,
          "fertility_total": 2.222,
          "gdi": 0.818,
          "gdp_percap": 2005.863005,
          "hdi": 0.642,
          "immunization": 91.5,
          "life_birthf": 70.692
         },
         {
          "educ_expected_yrs_f": 12.41253376,
          "fertility_total": 2.311,
          "gdi": 0.938,
          "gdp_percap": 3893.846425,
          "hdi": 0.7120000000000001,
          "immunization": 87,
          "life_birthf": 73.748
         },
         {
          "educ_expected_yrs_f": 7.038986206000001,
          "fertility_total": 3.672,
          "gdi": 0.7709999999999999,
          "gdp_percap": 5834.166211,
          "hdi": 0.6709999999999999,
          "immunization": 83.5,
          "life_birthf": 72.486
         },
         {
          "educ_expected_yrs_f": 13.92032051,
          "fertility_total": 1.75,
          "gdi": 0.978,
          "gdp_percap": 78621.22793,
          "hdi": 0.951,
          "immunization": 93,
          "life_birthf": 84.1
         },
         {
          "educ_expected_yrs_f": 13.90762043,
          "fertility_total": 3.09,
          "gdi": 0.973,
          "gdp_percap": 41719.72544,
          "hdi": 0.916,
          "immunization": 98,
          "life_birthf": 84.8
         },
         {
          "educ_expected_yrs_f": 13.31961727,
          "fertility_total": 1.29,
          "gdi": 0.969,
          "gdp_percap": 34615.75689,
          "hdi": 0.89,
          "immunization": 94,
          "life_birthf": 85.6
         },
         {
          "educ_expected_yrs_f": 11.82789326,
          "fertility_total": 1.979,
          "gdi": 0.988,
          "gdp_percap": 5354.236859000001,
          "hdi": 0.7340000000000001,
          "immunization": 93,
          "life_birthf": 75.993
         },
         {
          "educ_expected_yrs_f": 11.72220421,
          "fertility_total": 2.761,
          "gdi": 0.875,
          "gdp_percap": 4312.180117,
          "hdi": 0.728,
          "immunization": 94,
          "life_birthf": 76.175
         },
         {
          "educ_expected_yrs_f": 13.86884308,
          "fertility_total": 2.84,
          "gdi": 0.997,
          "gdp_percap": 9812.626370999998,
          "hdi": 0.8190000000000001,
          "immunization": 98.5,
          "life_birthf": 77.19
         },
         {
          "educ_expected_yrs_f": 11.30184937,
          "fertility_total": 3.492,
          "gdi": 0.926,
          "gdp_percap": 1707.986805,
          "hdi": 0.599,
          "immunization": 90.5,
          "life_birthf": 68.684
         },
         {
          "educ_expected_yrs_f": 12.40283394,
          "fertility_total": 2.082,
          "gdi": 0.973,
          "gdp_percap": 33994.38192,
          "hdi": 0.807,
          "immunization": 94.5,
          "life_birthf": 76.467
         },
         {
          "educ_expected_yrs_f": 13.7176199,
          "fertility_total": 1.6,
          "gdi": 1.035,
          "gdp_percap": 17858.279980000003,
          "hdi": 0.863,
          "immunization": 97,
          "life_birthf": 79.7
         },
         {
          "educ_expected_yrs_f": 10.41264439,
          "fertility_total": 3.141,
          "gdi": 1.019,
          "gdp_percap": 1221.883763,
          "hdi": 0.522,
          "immunization": 88.5,
          "life_birthf": 56.95399999999999
         },
         {
          "educ_expected_yrs_f": 4.166073798999999,
          "fertility_total": 4.315,
          "gdi": 0.895,
          "gdp_percap": 677.3221785000001,
          "hdi": 0.48,
          "immunization": 87.5,
          "life_birthf": 65.11399999999999
         },
         {
          "educ_expected_yrs_f": 13.88928127,
          "fertility_total": 1.63,
          "gdi": 1.029,
          "gdp_percap": 19176.17652,
          "hdi": 0.8759999999999999,
          "immunization": 92,
          "life_birthf": 80.7
         },
         {
          "educ_expected_yrs_f": 12.47436428,
          "fertility_total": 1.38,
          "gdi": 0.975,
          "gdp_percap": 116654.2611,
          "hdi": 0.913,
          "immunization": 99,
          "life_birthf": 84.6
         },
         {
          "educ_expected_yrs_f": 8.609224318999999,
          "fertility_total": 4.077,
          "gdi": 0.949,
          "gdp_percap": 527.5013261,
          "hdi": 0.527,
          "immunization": 68.5,
          "life_birthf": 68.301
         },
         {
          "educ_expected_yrs_f": 9.583486557,
          "fertility_total": 4.209,
          "gdi": 0.926,
          "gdp_percap": 381.2589876,
          "hdi": 0.478,
          "immunization": 89.5,
          "life_birthf": 66.937
         },
         {
          "educ_expected_yrs_f": 12.68888378,
          "fertility_total": 2.001,
          "gdi": 0.97,
          "gdp_percap": 11377.455,
          "hdi": 0.805,
          "immunization": 97.5,
          "life_birthf": 78.167
         },
         {
          "educ_expected_yrs_f": 5.42065239,
          "fertility_total": 5.877000000000001,
          "gdi": 0.81,
          "gdp_percap": 894.8021868999999,
          "hdi": 0.431,
          "immunization": 73.5,
          "life_birthf": 59.649
         },
         {
          "educ_expected_yrs_f": 13.50980282,
          "fertility_total": 1.23,
          "gdi": 0.968,
          "gdp_percap": 30437.221510000003,
          "hdi": 0.894,
          "immunization": 96.5,
          "life_birthf": 84.6
         },
         {
          "educ_expected_yrs_f": 7.564128876,
          "fertility_total": 4.561,
          "gdi": 0.86,
          "gdp_percap": 1600.876469,
          "hdi": 0.542,
          "immunization": 79.5,
          "life_birthf": 66.292
         },
         {
          "educ_expected_yrs_f": 12.77645302,
          "fertility_total": 1.41,
          "gdi": 0.974,
          "gdp_percap": 11208.34382,
          "hdi": 0.8009999999999999,
          "immunization": 98,
          "life_birthf": 77.72
         },
         {
          "educ_expected_yrs_f": 12.97874069,
          "fertility_total": 2.129,
          "gdi": 0.962,
          "gdp_percap": 9686.513783,
          "hdi": 0.7759999999999999,
          "immunization": 92.5,
          "life_birthf": 77.844
         },
         {
          "educ_expected_yrs_f": 13.25112915,
          "fertility_total": 2.895,
          "gdi": 1.02,
          "gdp_percap": 4134.987198,
          "hdi": 0.735,
          "immunization": 99,
          "life_birthf": 73.961
         },
         {
          "educ_expected_yrs_f": 12.64217091,
          "fertility_total": 1.745,
          "gdi": 0.965,
          "gdp_percap": 8846.056525,
          "hdi": 0.826,
          "immunization": 64,
          "life_birthf": 79.199
         },
         {
          "educ_expected_yrs_f": 10.41762161,
          "fertility_total": 2.415,
          "gdi": 0.833,
          "gdp_percap": 3222.200634,
          "hdi": 0.68,
          "immunization": 99,
          "life_birthf": 77.668
         },
         {
          "educ_expected_yrs_f": 9.829102516,
          "fertility_total": 2.154,
          "gdi": 0.953,
          "gdp_percap": 1418.177623,
          "hdi": 0.579,
          "immunization": 92,
          "life_birthf": 69.874
         },
         {
          "educ_expected_yrs_f": 9.723130226,
          "fertility_total": 3.3960000000000004,
          "gdi": 1.007,
          "gdp_percap": 5495.428925,
          "hdi": 0.645,
          "immunization": 85.5,
          "life_birthf": 66.18
         },
         {
          "educ_expected_yrs_f": 12.0131464,
          "fertility_total": 1.917,
          "gdi": 0.927,
          "gdp_percap": 1038.651647,
          "hdi": 0.596,
          "immunization": 91,
          "life_birthf": 71.9
         },
         {
          "educ_expected_yrs_f": 13.92983341,
          "fertility_total": 1.59,
          "gdi": 0.967,
          "gdp_percap": 53044.53244,
          "hdi": 0.942,
          "immunization": 93,
          "life_birthf": 83.4
         },
         {
          "educ_expected_yrs_f": 13.77946663,
          "fertility_total": 1.71,
          "gdi": 0.965,
          "gdp_percap": 42427.58315,
          "hdi": 0.928,
          "immunization": 92.5,
          "life_birthf": 83.6
         },
         {
          "educ_expected_yrs_f": 11.10092926,
          "fertility_total": 2.404,
          "gdi": 1.011,
          "gdp_percap": 2020.55193,
          "hdi": 0.659,
          "immunization": 98.5,
          "life_birthf": 77.77
         },
         {
          "educ_expected_yrs_f": 5.059231758,
          "fertility_total": 6.912999999999999,
          "gdi": 0.727,
          "gdp_percap": 572.4271543,
          "hdi": 0.391,
          "immunization": 78,
          "life_birthf": 63.212
         },
         {
          "educ_expected_yrs_f": 10.09999943,
          "fertility_total": 5.3870000000000005,
          "gdi": 0.8740000000000001,
          "gdp_percap": 2027.777979,
          "hdi": 0.534,
          "immunization": 55,
          "life_birthf": 55.244
         },
         {
          "educ_expected_yrs_f": 11.08503532,
          "fertility_total": 1.496,
          "gdi": 0.948,
          "gdp_percap": 6088.972445,
          "hdi": 0.77,
          "immunization": 83.5,
          "life_birthf": 77.736
         },
         {
          "educ_expected_yrs_f": 13.67211056,
          "fertility_total": 1.56,
          "gdi": 0.989,
          "gdp_percap": 81734.46557,
          "hdi": 0.956,
          "immunization": 96,
          "life_birthf": 84.5
         },
         {
          "educ_expected_yrs_f": 13.10266685,
          "fertility_total": 2.888,
          "gdi": 0.937,
          "gdp_percap": 16521.18228,
          "hdi": 0.813,
          "immunization": 99,
          "life_birthf": 80.134
         },
         {
          "educ_expected_yrs_f": 8.687153816,
          "fertility_total": 3.51,
          "gdi": 0.736,
          "gdp_percap": 1482.305667,
          "hdi": 0.552,
          "immunization": 74,
          "life_birthf": 68.109
         },
         {
          "educ_expected_yrs_f": 10.88493347,
          "fertility_total": 2.461,
          "gdi": 1.009,
          "gdp_percap": 15592.57368,
          "hdi": 0.812,
          "immunization": 93,
          "life_birthf": 81.593
         },
         {
          "educ_expected_yrs_f": 11.26677418,
          "fertility_total": 2.4290000000000003,
          "gdi": 0.967,
          "gdp_percap": 5805.675616,
          "hdi": 0.727,
          "immunization": 90.5,
          "life_birthf": 76.25
         },
         {
          "educ_expected_yrs_f": 12.89012051,
          "fertility_total": 2.254,
          "gdi": 0.964,
          "gdp_percap": 6941.235848,
          "hdi": 0.7709999999999999,
          "immunization": 84.5,
          "life_birthf": 79.28
         },
         {
          "educ_expected_yrs_f": 13.04763317,
          "fertility_total": 2.576,
          "gdi": 1.005,
          "gdp_percap": 3252.092324,
          "hdi": 0.711,
          "immunization": 66,
          "life_birthf": 75.387
         },
         {
          "educ_expected_yrs_f": 13.45503712,
          "fertility_total": 1.46,
          "gdi": 1.008,
          "gdp_percap": 15468.482219999998,
          "hdi": 0.877,
          "immunization": 94,
          "life_birthf": 81.7
         },
         {
          "educ_expected_yrs_f": 13.82900047,
          "fertility_total": 1.42,
          "gdi": 0.985,
          "gdp_percap": 23562.55452,
          "hdi": 0.86,
          "immunization": 99,
          "life_birthf": 84.5
         },
         {
          "educ_expected_yrs_f": 12.7883606,
          "fertility_total": 1.866,
          "gdi": 1.031,
          "gdp_percap": 65908.0669,
          "hdi": 0.845,
          "immunization": 98.5,
          "life_birthf": 81.876
         },
         {
          "educ_expected_yrs_f": 11.98094845,
          "fertility_total": 1.76,
          "gdi": 0.989,
          "gdp_percap": 12399.88934,
          "hdi": 0.823,
          "immunization": 88,
          "life_birthf": 79.2
         },
         {
          "educ_expected_yrs_f": 13.68534756,
          "fertility_total": 1.579,
          "gdi": 1.009,
          "gdp_percap": 11370.81346,
          "hdi": 0.823,
          "immunization": 97.5,
          "life_birthf": 77.82
         },
         {
          "educ_expected_yrs_f": 6.980305195,
          "fertility_total": 4.044,
          "gdi": 0.943,
          "gdp_percap": 783.2871842000001,
          "hdi": 0.54,
          "immunization": 98,
          "life_birthf": 70.78399999999999
         },
         {
          "educ_expected_yrs_f": 12.26758575,
          "fertility_total": 2.319,
          "gdi": 0.875,
          "gdp_percap": 23338.96346,
          "hdi": 0.8540000000000001,
          "immunization": 97,
          "life_birthf": 76.615
         },
         {
          "educ_expected_yrs_f": 7.849748135,
          "fertility_total": 4.625,
          "gdi": 0.877,
          "gdp_percap": 1465.591006,
          "hdi": 0.516,
          "immunization": 82.5,
          "life_birthf": 69.627
         },
         {
          "educ_expected_yrs_f": 13.49239731,
          "fertility_total": 1.49,
          "gdi": 0.975,
          "gdp_percap": 7252.401858,
          "hdi": 0.8029999999999999,
          "immunization": 94,
          "life_birthf": 78.4
         },
         {
          "educ_expected_yrs_f": 9.282006264,
          "fertility_total": 4.263,
          "gdi": 0.8809999999999999,
          "gdp_percap": 533.9911843,
          "hdi": 0.447,
          "immunization": 90,
          "life_birthf": 55.106
         },
         {
          "educ_expected_yrs_f": 13.90422153,
          "fertility_total": 1.14,
          "gdi": 0.986,
          "gdp_percap": 66188.7794,
          "hdi": 0.936,
          "immunization": 95.5,
          "life_birthf": 85.5
         },
         {
          "educ_expected_yrs_f": 13.71750641,
          "fertility_total": 1.61,
          "gdi": 1.002,
          "gdp_percap": 26115.91337,
          "hdi": 0.912,
          "immunization": 93,
          "life_birthf": 84.4
         },
         {
          "educ_expected_yrs_f": 10.11397743,
          "fertility_total": 2.405,
          "gdi": 0.983,
          "gdp_percap": 6372.605654999999,
          "hdi": 0.7070000000000001,
          "immunization": 72,
          "life_birthf": 67.398
         },
         {
          "educ_expected_yrs_f": 13.08606815,
          "fertility_total": 1.26,
          "gdi": 0.981,
          "gdp_percap": 30389.36099,
          "hdi": 0.905,
          "immunization": 96.5,
          "life_birthf": 86.3
         },
         {
          "educ_expected_yrs_f": 13.11488724,
          "fertility_total": 2.199,
          "gdi": 0.939,
          "gdp_percap": 4080.567125,
          "hdi": 0.779,
          "immunization": 99,
          "life_birthf": 80.12100000000001
         },
         {
          "educ_expected_yrs_f": 6.943500996,
          "fertility_total": 4.407,
          "gdi": 0.8540000000000001,
          "gdp_percap": 623.8672524,
          "hdi": 0.506,
          "immunization": 90.5,
          "life_birthf": 66.947
         },
         {
          "educ_expected_yrs_f": 13.90402126,
          "fertility_total": 1.76,
          "gdi": 0.982,
          "gdp_percap": 54589.06039,
          "hdi": 0.943,
          "immunization": 97,
          "life_birthf": 84.3
         },
         {
          "educ_expected_yrs_f": 13.21845913,
          "fertility_total": 1.52,
          "gdi": 0.968,
          "gdp_percap": 82818.10816,
          "hdi": 0.955,
          "immunization": 95.5,
          "life_birthf": 85.7
         },
         {
          "educ_expected_yrs_f": 10.43918705,
          "fertility_total": 3.585,
          "gdi": 0.823,
          "gdp_percap": 826.6215305,
          "hdi": 0.6609999999999999,
          "immunization": 97,
          "life_birthf": 73.17699999999999
         },
         {
          "educ_expected_yrs_f": 12.644207000000002,
          "fertility_total": 1.525,
          "gdi": 0.997,
          "gdp_percap": 7295.475616,
          "hdi": 0.772,
          "immunization": 96.5,
          "life_birthf": 80.704
         },
         {
          "educ_expected_yrs_f": 10.87477875,
          "fertility_total": 4.023,
          "gdi": 0.946,
          "gdp_percap": 1230.228191,
          "hdi": 0.599,
          "immunization": 80,
          "life_birthf": 71.376
         },
         {
          "educ_expected_yrs_f": 9.123530388,
          "fertility_total": 4.32,
          "gdi": 0.8190000000000001,
          "gdp_percap": 679.9727606,
          "hdi": 0.51,
          "immunization": 76,
          "life_birthf": 61.612
         },
         {
          "educ_expected_yrs_f": 11.83284092,
          "fertility_total": 3.556,
          "gdi": 0.949,
          "gdp_percap": 4740.792149,
          "hdi": 0.723,
          "immunization": 99,
          "life_birthf": 72.763
         },
         {
          "educ_expected_yrs_f": 10.95233727,
          "fertility_total": 2.197,
          "gdi": 0.899,
          "gdp_percap": 3438.789089,
          "hdi": 0.738,
          "immunization": 89.5,
          "life_birthf": 78.536
         },
         {
          "educ_expected_yrs_f": 11.99552917,
          "fertility_total": 2.069,
          "gdi": 0.926,
          "gdp_percap": 9455.593654,
          "hdi": 0.8170000000000001,
          "immunization": 97,
          "life_birthf": 80.336
         },
         {
          "educ_expected_yrs_f": 13.00567055,
          "fertility_total": 1.301,
          "gdi": 1,
          "gdp_percap": 3096.817402,
          "hdi": 0.774,
          "immunization": 80,
          "life_birthf": 76.72
         },
         {
          "educ_expected_yrs_f": 13.1702652,
          "fertility_total": 1.413,
          "gdi": 0.926,
          "gdp_percap": 43839.35635,
          "hdi": 0.889,
          "immunization": 99,
          "life_birthf": 79.164
         },
         {
          "educ_expected_yrs_f": 13.85765934,
          "fertility_total": 1.68,
          "gdi": 0.968,
          "gdp_percap": 43043.22782,
          "hdi": 0.928,
          "immunization": 93,
          "life_birthf": 83.1
         },
         {
          "educ_expected_yrs_f": 12.93639374,
          "fertility_total": 1.7295,
          "gdi": 0.993,
          "gdp_percap": 62996.47129,
          "hdi": 0.925,
          "immunization": 93,
          "life_birthf": 81.2
         },
         {
          "educ_expected_yrs_f": 12.47761631,
          "fertility_total": 1.973,
          "gdi": 1.017,
          "gdp_percap": 17277.97011,
          "hdi": 0.816,
          "immunization": 94,
          "life_birthf": 81.359
         },
         {
          "educ_expected_yrs_f": 12.00484753,
          "fertility_total": 2.604,
          "gdi": 0.938,
          "gdp_percap": 1529.082864,
          "hdi": 0.7170000000000001,
          "immunization": 97,
          "life_birthf": 73.676
         },
         {
          "educ_expected_yrs_f": 8.745135307,
          "fertility_total": 4.633,
          "gdi": 0.98,
          "gdp_percap": 1516.390661,
          "hdi": 0.5820000000000001,
          "immunization": 92,
          "life_birthf": 66.447
         },
         {
          "educ_expected_yrs_f": 10.97491837,
          "fertility_total": 3.615,
          "gdi": 0.927,
          "gdp_percap": 1683.740577,
          "hdi": 0.569,
          "immunization": 88.5,
          "life_birthf": 62.598
         }
        ]
       },
       "encoding": {
        "x": {
         "field": "immunization",
         "scale": {
          "zero": false
         },
         "title": "Immunization rate",
         "type": "quantitative"
        },
        "y": {
         "field": "fertility_total",
         "title": "Fertility rate",
         "type": "quantitative"
        }
       },
       "height": 300,
       "mark": "circle",
       "width": 300
      },
      "image/png": "[encoded data removed]",
      "text/plain": [
       "<VegaLite 4 object>\n",
       "\n",
       "If you see this message, it means the renderer has not been properly enabled\n",
       "for the frontend that you are using. For more information, see\n",
       "https://altair-viz.github.io/user_guide/troubleshooting.html\n"
      ]
     },
     "execution_count": 71,
     "metadata": {},
     "output_type": "execute_result"
    }
   ],
   "source": [
    "base = alt.Chart(data)\n",
    "    \n",
    "scatter_imz = base.mark_circle().encode( \n",
    "    x = alt.X(\"immunization:Q\",\n",
    "              scale = alt.Scale(zero = False),\n",
    "              title = \"Immunization rate\"), \n",
    "    y = alt.Y(\"fertility_total:Q\",\n",
    "              title = \"Fertility rate\")\n",
    ").properties(\n",
    "    width = 300,\n",
    "    height = 300)\n",
    "\n",
    "scatter_imz"
   ]
  },
  {
   "cell_type": "markdown",
   "id": "43da7c5e-c77e-4ba8-84bd-cce74b6801cd",
   "metadata": {},
   "source": [
    "Once again a negative relationship, but more scattered than the others."
   ]
  },
  {
   "cell_type": "markdown",
   "id": "05c1e098-d28d-486a-be44-520e33201ad2",
   "metadata": {},
   "source": [
    "Visualization of each covariate against fertility rate confirms our observations from the correlation matrix. We see a strong, negative relationship between fertility rates with education, life expectancy, HDI, and GDI that is approximately linear; and a moderately negative assocation between fertility rates with GDP per capita and immunization that is not necessarily linear. In our modeling, we will include all variables initially and further adjust if necessary. "
   ]
  },
  {
   "cell_type": "markdown",
   "id": "8c16b8f5-9275-45e0-9dac-078b1e4d88a5",
   "metadata": {},
   "source": [
    "## Multiple Regression Analysis"
   ]
  },
  {
   "cell_type": "markdown",
   "id": "cea5818c-98ad-4b54-a2dd-e5fc2dad2601",
   "metadata": {},
   "source": [
    "Now that we have a better idea of how the variables in our dataset impact fertility rates, it’s time to set up our model. We will set up the model, build the model and fit the data, then assess model results."
   ]
  },
  {
   "cell_type": "markdown",
   "id": "b20807a9-5248-419d-a48e-d378c1a36af4",
   "metadata": {},
   "source": [
    "### Setting Up the Model"
   ]
  },
  {
   "cell_type": "markdown",
   "id": "28ac7f68-3c0b-4474-a943-57e2961b6b32",
   "metadata": {},
   "source": [
    "We will need to standardize the predictors to improve interpretability of the intercept. Since we have all quantitative predictors, the intercept will represent the average total fertility rate when all other variables are at their baseline values. Note that, because we are on a different scale, interpretations of the data will be different as well (in terms of standard deviations from the global average)."
   ]
  },
  {
   "cell_type": "code",
   "execution_count": 72,
   "id": "5a08e633-a238-4ca0-9c1a-3fff023bfc33",
   "metadata": {
    "tags": []
   },
   "outputs": [
    {
     "data": {
      "text/html": [
       "<div>\n",
       "<style scoped>\n",
       "    .dataframe tbody tr th:only-of-type {\n",
       "        vertical-align: middle;\n",
       "    }\n",
       "\n",
       "    .dataframe tbody tr th {\n",
       "        vertical-align: top;\n",
       "    }\n",
       "\n",
       "    .dataframe thead th {\n",
       "        text-align: right;\n",
       "    }\n",
       "</style>\n",
       "<table border=\"1\" class=\"dataframe\">\n",
       "  <thead>\n",
       "    <tr style=\"text-align: right;\">\n",
       "      <th></th>\n",
       "      <th>const</th>\n",
       "      <th>educ_expected_yrs_f</th>\n",
       "      <th>life_birthf</th>\n",
       "      <th>hdi</th>\n",
       "      <th>gdi</th>\n",
       "      <th>gdp_percap</th>\n",
       "      <th>immunization</th>\n",
       "    </tr>\n",
       "    <tr>\n",
       "      <th>Country</th>\n",
       "      <th></th>\n",
       "      <th></th>\n",
       "      <th></th>\n",
       "      <th></th>\n",
       "      <th></th>\n",
       "      <th></th>\n",
       "      <th></th>\n",
       "    </tr>\n",
       "  </thead>\n",
       "  <tbody>\n",
       "    <tr>\n",
       "      <th>Afghanistan</th>\n",
       "      <td>1.0</td>\n",
       "      <td>-1.863465</td>\n",
       "      <td>-1.174374</td>\n",
       "      <td>-1.440808</td>\n",
       "      <td>-4.090610</td>\n",
       "      <td>-0.724618</td>\n",
       "      <td>-1.974439</td>\n",
       "    </tr>\n",
       "    <tr>\n",
       "      <th>Albania</th>\n",
       "      <td>1.0</td>\n",
       "      <td>0.727045</td>\n",
       "      <td>0.596805</td>\n",
       "      <td>0.370722</td>\n",
       "      <td>0.428830</td>\n",
       "      <td>-0.509795</td>\n",
       "      <td>0.656528</td>\n",
       "    </tr>\n",
       "    <tr>\n",
       "      <th>Algeria</th>\n",
       "      <td>1.0</td>\n",
       "      <td>0.285146</td>\n",
       "      <td>0.317620</td>\n",
       "      <td>0.076268</td>\n",
       "      <td>-1.199929</td>\n",
       "      <td>-0.560496</td>\n",
       "      <td>-0.262223</td>\n",
       "    </tr>\n",
       "    <tr>\n",
       "      <th>Angola</th>\n",
       "      <td>1.0</td>\n",
       "      <td>-1.791412</td>\n",
       "      <td>-1.469967</td>\n",
       "      <td>-0.973523</td>\n",
       "      <td>-0.568968</td>\n",
       "      <td>-0.599243</td>\n",
       "      <td>-2.684383</td>\n",
       "    </tr>\n",
       "    <tr>\n",
       "      <th>Argentina</th>\n",
       "      <td>1.0</td>\n",
       "      <td>0.670228</td>\n",
       "      <td>0.558729</td>\n",
       "      <td>0.690780</td>\n",
       "      <td>0.736974</td>\n",
       "      <td>-0.225086</td>\n",
       "      <td>0.113630</td>\n",
       "    </tr>\n",
       "  </tbody>\n",
       "</table>\n",
       "</div>"
      ],
      "text/plain": [
       "             const  educ_expected_yrs_f  life_birthf       hdi       gdi   \n",
       "Country                                                                    \n",
       "Afghanistan    1.0            -1.863465    -1.174374 -1.440808 -4.090610  \\\n",
       "Albania        1.0             0.727045     0.596805  0.370722  0.428830   \n",
       "Algeria        1.0             0.285146     0.317620  0.076268 -1.199929   \n",
       "Angola         1.0            -1.791412    -1.469967 -0.973523 -0.568968   \n",
       "Argentina      1.0             0.670228     0.558729  0.690780  0.736974   \n",
       "\n",
       "             gdp_percap  immunization  \n",
       "Country                                \n",
       "Afghanistan   -0.724618     -1.974439  \n",
       "Albania       -0.509795      0.656528  \n",
       "Algeria       -0.560496     -0.262223  \n",
       "Angola        -0.599243     -2.684383  \n",
       "Argentina     -0.225086      0.113630  "
      ]
     },
     "execution_count": 72,
     "metadata": {},
     "output_type": "execute_result"
    }
   ],
   "source": [
    "# create response vector\n",
    "y = data.fertility_total\n",
    "\n",
    "# create design matrix\n",
    "mat = data.iloc[:,1:7]\n",
    "mat = (mat-mat.mean())/mat.std()\n",
    "\n",
    "# add col of 1's for B0\n",
    "x = sm.tools.add_constant(mat)\n",
    "\n",
    "# print first five rows of x\n",
    "x.head()"
   ]
  },
  {
   "cell_type": "markdown",
   "id": "d643ad55-76d4-4768-9042-a8b6f51ee2b0",
   "metadata": {},
   "source": [
    "### Model Fitting "
   ]
  },
  {
   "cell_type": "code",
   "execution_count": 73,
   "id": "6f33e526-fc32-4465-9f7c-b0e806251b03",
   "metadata": {
    "tags": []
   },
   "outputs": [],
   "source": [
    "# fit model\n",
    "mlr = sm.OLS(endog = y, exog = x)\n",
    "\n",
    "# store result\n",
    "rslt = mlr.fit()"
   ]
  },
  {
   "cell_type": "markdown",
   "id": "24b7c913-ed22-4ade-8210-55517a14a560",
   "metadata": {},
   "source": [
    "The coefficient estimates are shown below. Note that a larger (negative or positive) coefficient implies a stronger association."
   ]
  },
  {
   "cell_type": "code",
   "execution_count": 74,
   "id": "317efe13-700a-4f4c-b1fc-9a623c998a2c",
   "metadata": {
    "tags": []
   },
   "outputs": [
    {
     "data": {
      "text/plain": [
       "const                  2.604157\n",
       "educ_expected_yrs_f   -0.413938\n",
       "life_birthf           -0.520441\n",
       "hdi                   -0.280806\n",
       "gdi                   -0.097498\n",
       "gdp_percap             0.157013\n",
       "immunization          -0.010996\n",
       "dtype: float64"
      ]
     },
     "execution_count": 74,
     "metadata": {},
     "output_type": "execute_result"
    }
   ],
   "source": [
    "rslt.params"
   ]
  },
  {
   "cell_type": "markdown",
   "id": "dafb3a20-15cc-41c4-86f6-0207bc2c1f25",
   "metadata": {},
   "source": [
    "The model also indicates that:\n",
    "\n",
    "* for a country with an average level of education, life expectancy, HDI, GDI, GDP per capita, and immunization rate, the expected mean fertility rate is estimated to be 2.6 standard deviations from the global average.\n",
    "* education and life expectancy appear to impact fertility rates the most. \n"
   ]
  },
  {
   "cell_type": "markdown",
   "id": "155025b0-c6ae-4653-b0a7-77859c1647f9",
   "metadata": {},
   "source": [
    "The error variance estimate $\\hat{\\sigma}^2$ is:"
   ]
  },
  {
   "cell_type": "code",
   "execution_count": 75,
   "id": "7d038197-4388-4584-ae7a-211ef2e278c2",
   "metadata": {
    "tags": []
   },
   "outputs": [
    {
     "data": {
      "text/plain": [
       "0.29355712136681583"
      ]
     },
     "execution_count": 75,
     "metadata": {},
     "output_type": "execute_result"
    }
   ],
   "source": [
    "rslt.scale"
   ]
  },
  {
   "cell_type": "markdown",
   "id": "c1f3559b-61a2-4119-ab39-109b1d8bea93",
   "metadata": {},
   "source": [
    "Standard errors for the coefficient estimates are shown below:"
   ]
  },
  {
   "cell_type": "code",
   "execution_count": 76,
   "id": "980eb226-db82-4823-a7bd-604ad254ae62",
   "metadata": {
    "tags": []
   },
   "outputs": [
    {
     "data": {
      "text/html": [
       "<div>\n",
       "<style scoped>\n",
       "    .dataframe tbody tr th:only-of-type {\n",
       "        vertical-align: middle;\n",
       "    }\n",
       "\n",
       "    .dataframe tbody tr th {\n",
       "        vertical-align: top;\n",
       "    }\n",
       "\n",
       "    .dataframe thead th {\n",
       "        text-align: right;\n",
       "    }\n",
       "</style>\n",
       "<table border=\"1\" class=\"dataframe\">\n",
       "  <thead>\n",
       "    <tr style=\"text-align: right;\">\n",
       "      <th></th>\n",
       "      <th>estimate</th>\n",
       "      <th>standard error</th>\n",
       "    </tr>\n",
       "  </thead>\n",
       "  <tbody>\n",
       "    <tr>\n",
       "      <th>const</th>\n",
       "      <td>2.604157</td>\n",
       "      <td>0.047704</td>\n",
       "    </tr>\n",
       "    <tr>\n",
       "      <th>educ_expected_yrs_f</th>\n",
       "      <td>-0.413938</td>\n",
       "      <td>0.118133</td>\n",
       "    </tr>\n",
       "    <tr>\n",
       "      <th>life_birthf</th>\n",
       "      <td>-0.520441</td>\n",
       "      <td>0.137486</td>\n",
       "    </tr>\n",
       "    <tr>\n",
       "      <th>hdi</th>\n",
       "      <td>-0.280806</td>\n",
       "      <td>0.189329</td>\n",
       "    </tr>\n",
       "    <tr>\n",
       "      <th>gdi</th>\n",
       "      <td>-0.097498</td>\n",
       "      <td>0.069585</td>\n",
       "    </tr>\n",
       "    <tr>\n",
       "      <th>gdp_percap</th>\n",
       "      <td>0.157013</td>\n",
       "      <td>0.074161</td>\n",
       "    </tr>\n",
       "    <tr>\n",
       "      <th>immunization</th>\n",
       "      <td>-0.010996</td>\n",
       "      <td>0.065369</td>\n",
       "    </tr>\n",
       "    <tr>\n",
       "      <th>error variance</th>\n",
       "      <td>0.293557</td>\n",
       "      <td>NaN</td>\n",
       "    </tr>\n",
       "  </tbody>\n",
       "</table>\n",
       "</div>"
      ],
      "text/plain": [
       "                     estimate  standard error\n",
       "const                2.604157        0.047704\n",
       "educ_expected_yrs_f -0.413938        0.118133\n",
       "life_birthf         -0.520441        0.137486\n",
       "hdi                 -0.280806        0.189329\n",
       "gdi                 -0.097498        0.069585\n",
       "gdp_percap           0.157013        0.074161\n",
       "immunization        -0.010996        0.065369\n",
       "error variance       0.293557             NaN"
      ]
     },
     "execution_count": 76,
     "metadata": {},
     "output_type": "execute_result"
    }
   ],
   "source": [
    "coef_tbl = pd.DataFrame({'estimate': rslt.params.values,\n",
    "                         'standard error': np.sqrt(rslt.cov_params().values.diagonal())}, \n",
    "                        index = x.columns)\n",
    "\n",
    "coef_tbl.loc['error variance', 'estimate'] = rslt.scale \n",
    "\n",
    "coef_tbl"
   ]
  },
  {
   "cell_type": "markdown",
   "id": "fb83285b-815b-47d0-8f90-9ab941aae45d",
   "metadata": {
    "tags": []
   },
   "source": [
    "### Model Results"
   ]
  },
  {
   "cell_type": "markdown",
   "id": "46af8a73-0f01-4af5-b520-1733223b4036",
   "metadata": {},
   "source": [
    "In this section, we will assess model results and address ome of our initial questions, namely:\n",
    "\n",
    "* Which indicators are most likely to be predictive of a country’s fertility rate? \n",
    "* Does improved well-being reduce individuals’ willingness to reproduce? \n",
    "* How does the upward social mobility of women impact the fertility rate? \n",
    "* How well do our selected factors predict fertility rate?   "
   ]
  },
  {
   "cell_type": "markdown",
   "id": "b50bdb4a-b136-413a-b9d9-717eb8928b75",
   "metadata": {},
   "source": [
    "#### Which indicators are most likely to be predictive of a country’s fertility rate? "
   ]
  },
  {
   "cell_type": "markdown",
   "id": "e3d099c3-4cb8-40af-a43a-82289f93957e",
   "metadata": {},
   "source": [
    "To answer this question, we need to inspect the model summary. In particular, we look at the p-values. They are the results of hypothesis tests for the linearity of the relationship between the response and different predictors. The smaller the p-value, the stronger the association."
   ]
  },
  {
   "cell_type": "code",
   "execution_count": 77,
   "id": "c18b14a1-21ff-48ac-9fe8-4417151425af",
   "metadata": {
    "tags": []
   },
   "outputs": [
    {
     "data": {
      "text/html": [
       "<table class=\"simpletable\">\n",
       "<caption>OLS Regression Results</caption>\n",
       "<tr>\n",
       "  <th>Dep. Variable:</th>     <td>fertility_total</td> <th>  R-squared:         </th> <td>   0.825</td>\n",
       "</tr>\n",
       "<tr>\n",
       "  <th>Model:</th>                   <td>OLS</td>       <th>  Adj. R-squared:    </th> <td>   0.816</td>\n",
       "</tr>\n",
       "<tr>\n",
       "  <th>Method:</th>             <td>Least Squares</td>  <th>  F-statistic:       </th> <td>   95.69</td>\n",
       "</tr>\n",
       "<tr>\n",
       "  <th>Date:</th>             <td>Fri, 16 Jun 2023</td> <th>  Prob (F-statistic):</th> <td>9.77e-44</td>\n",
       "</tr>\n",
       "<tr>\n",
       "  <th>Time:</th>                 <td>19:16:28</td>     <th>  Log-Likelihood:    </th> <td> -100.39</td>\n",
       "</tr>\n",
       "<tr>\n",
       "  <th>No. Observations:</th>      <td>   129</td>      <th>  AIC:               </th> <td>   214.8</td>\n",
       "</tr>\n",
       "<tr>\n",
       "  <th>Df Residuals:</th>          <td>   122</td>      <th>  BIC:               </th> <td>   234.8</td>\n",
       "</tr>\n",
       "<tr>\n",
       "  <th>Df Model:</th>              <td>     6</td>      <th>                     </th>     <td> </td>   \n",
       "</tr>\n",
       "<tr>\n",
       "  <th>Covariance Type:</th>      <td>nonrobust</td>    <th>                     </th>     <td> </td>   \n",
       "</tr>\n",
       "</table>\n",
       "<table class=\"simpletable\">\n",
       "<tr>\n",
       "           <td></td>              <th>coef</th>     <th>std err</th>      <th>t</th>      <th>P>|t|</th>  <th>[0.025</th>    <th>0.975]</th>  \n",
       "</tr>\n",
       "<tr>\n",
       "  <th>const</th>               <td>    2.6042</td> <td>    0.048</td> <td>   54.590</td> <td> 0.000</td> <td>    2.510</td> <td>    2.699</td>\n",
       "</tr>\n",
       "<tr>\n",
       "  <th>educ_expected_yrs_f</th> <td>   -0.4139</td> <td>    0.118</td> <td>   -3.504</td> <td> 0.001</td> <td>   -0.648</td> <td>   -0.180</td>\n",
       "</tr>\n",
       "<tr>\n",
       "  <th>life_birthf</th>         <td>   -0.5204</td> <td>    0.137</td> <td>   -3.785</td> <td> 0.000</td> <td>   -0.793</td> <td>   -0.248</td>\n",
       "</tr>\n",
       "<tr>\n",
       "  <th>hdi</th>                 <td>   -0.2808</td> <td>    0.189</td> <td>   -1.483</td> <td> 0.141</td> <td>   -0.656</td> <td>    0.094</td>\n",
       "</tr>\n",
       "<tr>\n",
       "  <th>gdi</th>                 <td>   -0.0975</td> <td>    0.070</td> <td>   -1.401</td> <td> 0.164</td> <td>   -0.235</td> <td>    0.040</td>\n",
       "</tr>\n",
       "<tr>\n",
       "  <th>gdp_percap</th>          <td>    0.1570</td> <td>    0.074</td> <td>    2.117</td> <td> 0.036</td> <td>    0.010</td> <td>    0.304</td>\n",
       "</tr>\n",
       "<tr>\n",
       "  <th>immunization</th>        <td>   -0.0110</td> <td>    0.065</td> <td>   -0.168</td> <td> 0.867</td> <td>   -0.140</td> <td>    0.118</td>\n",
       "</tr>\n",
       "</table>\n",
       "<table class=\"simpletable\">\n",
       "<tr>\n",
       "  <th>Omnibus:</th>       <td> 6.320</td> <th>  Durbin-Watson:     </th> <td>   1.915</td>\n",
       "</tr>\n",
       "<tr>\n",
       "  <th>Prob(Omnibus):</th> <td> 0.042</td> <th>  Jarque-Bera (JB):  </th> <td>   6.986</td>\n",
       "</tr>\n",
       "<tr>\n",
       "  <th>Skew:</th>          <td> 0.332</td> <th>  Prob(JB):          </th> <td>  0.0304</td>\n",
       "</tr>\n",
       "<tr>\n",
       "  <th>Kurtosis:</th>      <td> 3.927</td> <th>  Cond. No.          </th> <td>    9.88</td>\n",
       "</tr>\n",
       "</table><br/><br/>Notes:<br/>[1] Standard Errors assume that the covariance matrix of the errors is correctly specified."
      ],
      "text/plain": [
       "<class 'statsmodels.iolib.summary.Summary'>\n",
       "\"\"\"\n",
       "                            OLS Regression Results                            \n",
       "==============================================================================\n",
       "Dep. Variable:        fertility_total   R-squared:                       0.825\n",
       "Model:                            OLS   Adj. R-squared:                  0.816\n",
       "Method:                 Least Squares   F-statistic:                     95.69\n",
       "Date:                Fri, 16 Jun 2023   Prob (F-statistic):           9.77e-44\n",
       "Time:                        19:16:28   Log-Likelihood:                -100.39\n",
       "No. Observations:                 129   AIC:                             214.8\n",
       "Df Residuals:                     122   BIC:                             234.8\n",
       "Df Model:                           6                                         \n",
       "Covariance Type:            nonrobust                                         \n",
       "=======================================================================================\n",
       "                          coef    std err          t      P>|t|      [0.025      0.975]\n",
       "---------------------------------------------------------------------------------------\n",
       "const                   2.6042      0.048     54.590      0.000       2.510       2.699\n",
       "educ_expected_yrs_f    -0.4139      0.118     -3.504      0.001      -0.648      -0.180\n",
       "life_birthf            -0.5204      0.137     -3.785      0.000      -0.793      -0.248\n",
       "hdi                    -0.2808      0.189     -1.483      0.141      -0.656       0.094\n",
       "gdi                    -0.0975      0.070     -1.401      0.164      -0.235       0.040\n",
       "gdp_percap              0.1570      0.074      2.117      0.036       0.010       0.304\n",
       "immunization           -0.0110      0.065     -0.168      0.867      -0.140       0.118\n",
       "==============================================================================\n",
       "Omnibus:                        6.320   Durbin-Watson:                   1.915\n",
       "Prob(Omnibus):                  0.042   Jarque-Bera (JB):                6.986\n",
       "Skew:                           0.332   Prob(JB):                       0.0304\n",
       "Kurtosis:                       3.927   Cond. No.                         9.88\n",
       "==============================================================================\n",
       "\n",
       "Notes:\n",
       "[1] Standard Errors assume that the covariance matrix of the errors is correctly specified.\n",
       "\"\"\""
      ]
     },
     "execution_count": 77,
     "metadata": {},
     "output_type": "execute_result"
    }
   ],
   "source": [
    "rslt.summary()"
   ]
  },
  {
   "cell_type": "markdown",
   "id": "0f4f8b0a-82a4-4d6c-a808-d0f35fa2ec53",
   "metadata": {},
   "source": [
    "In general, the criteria for rejection of the null hypothesis of no linear assiciation is p < 0.05. From the summary, we see that most covariates meet this criteria, with the exception of hdi, gdi, and immunization. When taken *together*, the variables that are most predictive of fertility rates are therefore education, life expectancy, and GDP per capita. Note that these may change when we add/remove variables due to covariation among the variables.  "
   ]
  },
  {
   "cell_type": "markdown",
   "id": "40b5d51f-b417-4d57-b88a-1ccb82b3d950",
   "metadata": {},
   "source": [
    "#### Does improved well-being reduce individuals’ willingness to reproduce?"
   ]
  },
  {
   "cell_type": "markdown",
   "id": "8da2a096-679c-47ad-b044-f3e986b1bfd1",
   "metadata": {},
   "source": [
    "This question requires some clarification. When we say \"well-being\", we mean general well-being ie., economic and health as opposed to social or psychological well-being, which are difficult to quantify. This includes indicators such as life expectancy, HDI, GDP per capita, and immunization. \n",
    "\n",
    "We'll convert the coefficients back to the original scale for better interpretation."
   ]
  },
  {
   "cell_type": "code",
   "execution_count": 78,
   "id": "69ec8c1a-ea91-4c3f-9a35-80607dece86b",
   "metadata": {
    "tags": []
   },
   "outputs": [
    {
     "data": {
      "text/plain": [
       "const                  12.059221\n",
       "educ_expected_yrs_f    -0.167391\n",
       "life_birthf            -0.065186\n",
       "hdi                    -1.797485\n",
       "gdi                    -1.430640\n",
       "gdp_percap              0.000007\n",
       "immunization           -0.000918\n",
       "dtype: float64"
      ]
     },
     "execution_count": 78,
     "metadata": {},
     "output_type": "execute_result"
    }
   ],
   "source": [
    "# create response vector\n",
    "y2 = data.fertility_total\n",
    "\n",
    "# add col of 1's for B0\n",
    "x2 = sm.tools.add_constant(data.iloc[:,1:7])\n",
    "\n",
    "# fit model\n",
    "mlr2 = sm.OLS(endog = y2, exog = x2)\n",
    "\n",
    "# store result\n",
    "rslt2 = mlr2.fit()\n",
    "\n",
    "# print coeffs\n",
    "rslt2.params"
   ]
  },
  {
   "cell_type": "code",
   "execution_count": 79,
   "id": "af0eb0bd-64da-4304-8c7d-60f1c4712f0d",
   "metadata": {
    "tags": []
   },
   "outputs": [
    {
     "data": {
      "text/plain": [
       "const                  2.604157\n",
       "educ_expected_yrs_f   -0.413938\n",
       "life_birthf           -0.520441\n",
       "hdi                   -0.280806\n",
       "gdi                   -0.097498\n",
       "gdp_percap             0.157013\n",
       "immunization          -0.010996\n",
       "dtype: float64"
      ]
     },
     "execution_count": 79,
     "metadata": {},
     "output_type": "execute_result"
    }
   ],
   "source": [
    "# comparison with original estimates\n",
    "rslt.params"
   ]
  },
  {
   "cell_type": "markdown",
   "id": "e3e95991-c56c-4afb-a87f-892f1f060575",
   "metadata": {},
   "source": [
    "Note that now we are on the original scale, as opposed to the standardized one, the results would still be the sume (ie., t-tests, F-test). Just the interpretation is different. We observe that:\n",
    "\n",
    "* for a country with all covariates at 0, the average fertility rate is estimated to be 12.\n",
    "* every one year increase in life expectancy decreases fertility rates by about 0.06 points. \n",
    "* every one point increase in HDI decreases fertility rates by about 1.8 points. \n",
    "* for every dollar increase in GDP per capita, fertility rates increase by about 0.000007 points, which is very negligible."
   ]
  },
  {
   "cell_type": "markdown",
   "id": "ec21bedf-5fc7-407f-b3c7-2fc8647f0495",
   "metadata": {},
   "source": [
    "We can conlude from these observations that improvements in well-being negatively impacts the fertility rate, in general. But not all covariates are negatively associated with fertility rates. Just as expected, economic prospertity actually does bring about some increments in fertility rates, though not by much. Better standards of living allows women access to better healthcare and have higher rates of successes in reproduction, which can explain why we see the slight positive association."
   ]
  },
  {
   "cell_type": "markdown",
   "id": "ae3e705f-7ca1-4330-8e6e-bcfb316c31a5",
   "metadata": {},
   "source": [
    "#### How does the upward social mobility of women impact the fertility rate?"
   ]
  },
  {
   "cell_type": "markdown",
   "id": "2f4ceebf-facc-4629-85d9-82f5d40e23fa",
   "metadata": {},
   "source": [
    "The upward social mobility of women is measured by factors such as expected years of education and GDI. We also examine HDI."
   ]
  },
  {
   "cell_type": "code",
   "execution_count": 80,
   "id": "c1f23ddd-4721-4300-b360-cc6407af89d0",
   "metadata": {
    "tags": []
   },
   "outputs": [
    {
     "data": {
      "text/plain": [
       "educ_expected_yrs_f   -0.167391\n",
       "life_birthf           -0.065186\n",
       "hdi                   -1.797485\n",
       "gdi                   -1.430640\n",
       "dtype: float64"
      ]
     },
     "execution_count": 80,
     "metadata": {},
     "output_type": "execute_result"
    }
   ],
   "source": [
    "rslt2.params[1:5]"
   ]
  },
  {
   "cell_type": "markdown",
   "id": "df8065ec-0843-4d8d-8511-1f4cf8550f53",
   "metadata": {},
   "source": [
    "From the coefficients, we see that both the life expectancy and the gender indicator are negatively associated with fertility rates. In addition, HDI and GDI have coefficients of the largest (negative) magnitude, while education has a moderately negative association with fertility rates. We can conclude that social mobility is, in general, negatively associated with fertility rates. "
   ]
  },
  {
   "cell_type": "markdown",
   "id": "c458009c-3a33-42c6-a3cf-8a5f5aba3d38",
   "metadata": {},
   "source": [
    "#### How well do our selected factors explain fertility rate?"
   ]
  },
  {
   "cell_type": "markdown",
   "id": "1aafeebc-897c-4902-b257-87afb93a383c",
   "metadata": {},
   "source": [
    "We may also be interested in how well the multiple regression model models our data. \n",
    "\n",
    "A metric often reported with linear models is the $R^2$ (“r-squared”) score, which is interpreted as the proportion of variation in the response captured by the model. It is also called the coefficient of multiple determination for multiple regression. \n",
    "\n",
    "R-squared measures the strength of the relationship between the model and the dependent variable on a 0-1.00 scale. Higher values represent smaller differences between the observed data and the fitted values ie., a better fit. "
   ]
  },
  {
   "cell_type": "code",
   "execution_count": 81,
   "id": "4a8b9201-9e5e-4048-805a-085f3ead198d",
   "metadata": {},
   "outputs": [
    {
     "data": {
      "text/plain": [
       "0.8247469227188053"
      ]
     },
     "execution_count": 81,
     "metadata": {},
     "output_type": "execute_result"
    }
   ],
   "source": [
    "rslt.rsquared"
   ]
  },
  {
   "cell_type": "markdown",
   "id": "ef9d45ec-1da8-48d8-9589-41896b849f25",
   "metadata": {},
   "source": [
    "So, our selected covariates explain approximately 82% of variability in fertility rates, which is fairly high."
   ]
  },
  {
   "cell_type": "markdown",
   "id": "d99903c8-707a-43b6-b6ee-4888d978dcae",
   "metadata": {},
   "source": [
    "The F-value (the larger the better) also indicates that our model produces a good fit."
   ]
  },
  {
   "cell_type": "code",
   "execution_count": 82,
   "id": "b91265e5-c7b7-470f-a5e2-a44dd638b040",
   "metadata": {
    "tags": []
   },
   "outputs": [
    {
     "data": {
      "text/plain": [
       "95.6893559613509"
      ]
     },
     "execution_count": 82,
     "metadata": {},
     "output_type": "execute_result"
    }
   ],
   "source": [
    "rslt.fvalue"
   ]
  },
  {
   "cell_type": "markdown",
   "id": "4dd35a5c-7583-4105-9ce8-7b16772baeb1",
   "metadata": {},
   "source": [
    "Another way to examine goodness-of-fit is through residual analysis (also a diagnostic method). The ith residual $\\epsilon_i$ is the difference between the observed value of the ith response and its expected value, the latter of which is estimated from the covariates. We will plot residuals against fitted values to confirm our assumptions of constant variance and linearity. "
   ]
  },
  {
   "cell_type": "code",
   "execution_count": 83,
   "id": "6f6fc73a-d616-4031-9f49-af9e38aa8955",
   "metadata": {
    "tags": []
   },
   "outputs": [
    {
     "data": {
      "text/html": [
       "<div>\n",
       "<style scoped>\n",
       "    .dataframe tbody tr th:only-of-type {\n",
       "        vertical-align: middle;\n",
       "    }\n",
       "\n",
       "    .dataframe tbody tr th {\n",
       "        vertical-align: top;\n",
       "    }\n",
       "\n",
       "    .dataframe thead th {\n",
       "        text-align: right;\n",
       "    }\n",
       "</style>\n",
       "<table border=\"1\" class=\"dataframe\">\n",
       "  <thead>\n",
       "    <tr style=\"text-align: right;\">\n",
       "      <th></th>\n",
       "      <th>fitted_values</th>\n",
       "      <th>residuals</th>\n",
       "    </tr>\n",
       "    <tr>\n",
       "      <th>Country</th>\n",
       "      <th></th>\n",
       "      <th></th>\n",
       "    </tr>\n",
       "  </thead>\n",
       "  <tbody>\n",
       "    <tr>\n",
       "      <th>Afghanistan</th>\n",
       "      <td>4.698059</td>\n",
       "      <td>-0.225059</td>\n",
       "    </tr>\n",
       "    <tr>\n",
       "      <th>Albania</th>\n",
       "      <td>1.759429</td>\n",
       "      <td>-0.142429</td>\n",
       "    </tr>\n",
       "    <tr>\n",
       "      <th>Algeria</th>\n",
       "      <td>2.331275</td>\n",
       "      <td>0.691725</td>\n",
       "    </tr>\n",
       "    <tr>\n",
       "      <th>Angola</th>\n",
       "      <td>4.374995</td>\n",
       "      <td>1.144005</td>\n",
       "    </tr>\n",
       "    <tr>\n",
       "      <th>Argentina</th>\n",
       "      <td>1.733520</td>\n",
       "      <td>0.527480</td>\n",
       "    </tr>\n",
       "  </tbody>\n",
       "</table>\n",
       "</div>"
      ],
      "text/plain": [
       "             fitted_values  residuals\n",
       "Country                              \n",
       "Afghanistan       4.698059  -0.225059\n",
       "Albania           1.759429  -0.142429\n",
       "Algeria           2.331275   0.691725\n",
       "Angola            4.374995   1.144005\n",
       "Argentina         1.733520   0.527480"
      ]
     },
     "execution_count": 83,
     "metadata": {},
     "output_type": "execute_result"
    }
   ],
   "source": [
    "df = pd.concat([rslt.fittedvalues, rslt.resid], axis=1)\n",
    "df.columns = [\"fitted_values\", \"residuals\"]\n",
    "df.head()"
   ]
  },
  {
   "cell_type": "code",
   "execution_count": 84,
   "id": "4ebf15e1-594a-4887-a91b-70f51e80840d",
   "metadata": {
    "tags": []
   },
   "outputs": [
    {
     "data": {
      "application/vnd.vegalite.v4+json": {
       "$schema": "https://vega.github.io/schema/vega-lite/v4.17.0.json",
       "config": {
        "view": {
         "continuousHeight": 300,
         "continuousWidth": 400
        }
       },
       "data": {
        "name": "data-483ab79b47d032f0156c65b44d61fcbb"
       },
       "datasets": {
        "data-483ab79b47d032f0156c65b44d61fcbb": [
         {
          "fitted_values": 4.698059155166009,
          "residuals": -0.22505915516600883
         },
         {
          "fitted_values": 1.7594292000172014,
          "residuals": -0.14242920001720139
         },
         {
          "fitted_values": 2.3312746031775613,
          "residuals": 0.6917253968224388
         },
         {
          "fitted_values": 4.374994574708713,
          "residuals": 1.1440054252912875
         },
         {
          "fitted_values": 1.733519665733079,
          "residuals": 0.5274803342669212
         },
         {
          "fitted_values": 2.164406592647769,
          "residuals": -0.40940659264776924
         },
         {
          "fitted_values": 1.470281676286852,
          "residuals": 0.26971832371314797
         },
         {
          "fitted_values": 1.5656217193468724,
          "residuals": -0.09562171934687247
         },
         {
          "fitted_values": 2.3121829089932384,
          "residuals": -0.5821829089932384
         },
         {
          "fitted_values": 1.9422622749149694,
          "residuals": 0.04473772508503071
         },
         {
          "fitted_values": 2.9723595632712696,
          "residuals": -0.9363595632712696
         },
         {
          "fitted_values": 1.6125171632701147,
          "residuals": -0.16451716327011456
         },
         {
          "fitted_values": 1.501430455634391,
          "residuals": 0.11856954436560918
         },
         {
          "fitted_values": 4.2278605114437156,
          "residuals": 0.6081394885562847
         },
         {
          "fitted_values": 3.0514907557482362,
          "residuals": -1.0764907557482362
         },
         {
          "fitted_values": 2.137932907433866,
          "residuals": -0.8729329074338661
         },
         {
          "fitted_values": 3.1742666914247804,
          "residuals": -0.30026669142478024
         },
         {
          "fitted_values": 2.060652897152891,
          "residuals": -0.2126528971528907
         },
         {
          "fitted_values": 1.984239042341967,
          "residuals": -0.42423904234196685
         },
         {
          "fitted_values": 4.795361157064486,
          "residuals": 0.39363884293551443
         },
         {
          "fitted_values": 4.299792753015596,
          "residuals": 1.1102072469844044
         },
         {
          "fitted_values": 3.339296935895862,
          "residuals": -0.8362969358958621
         },
         {
          "fitted_values": 4.445291479660031,
          "residuals": 0.12670852033996916
         },
         {
          "fitted_values": 1.434210434627398,
          "residuals": 0.06458956537260185
         },
         {
          "fitted_values": 5.935193486876914,
          "residuals": -1.2141934868769138
         },
         {
          "fitted_values": 5.844288162873825,
          "residuals": -0.09728816287382447
         },
         {
          "fitted_values": 1.6244914876018697,
          "residuals": 0.024508512398130344
         },
         {
          "fitted_values": 1.9651912428656177,
          "residuals": -0.2751912428656178
         },
         {
          "fitted_values": 1.898779188870831,
          "residuals": -0.09177918887083103
         },
         {
          "fitted_values": 4.06417785149881,
          "residuals": 0.14082214850119001
         },
         {
          "fitted_values": 1.7141742973413425,
          "residuals": 0.03982570265865748
         },
         {
          "fitted_values": 1.5643316417621413,
          "residuals": -0.09433164176214137
         },
         {
          "fitted_values": 1.492790887454095,
          "residuals": -0.16379088745409498
         },
         {
          "fitted_values": 1.6545254928112518,
          "residuals": 0.07547450718874815
         },
         {
          "fitted_values": 2.1835584438778155,
          "residuals": 0.16244155612218458
         },
         {
          "fitted_values": 1.8515324142496885,
          "residuals": 0.5754675857503115
         },
         {
          "fitted_values": 2.523274725969643,
          "residuals": -0.4842747259696427
         },
         {
          "fitted_values": 1.432945943441828,
          "residuals": 0.23705405655817202
         },
         {
          "fitted_values": 4.237000643306783,
          "residuals": 0.009999356693216832
         },
         {
          "fitted_values": 1.416086011471358,
          "residuals": -0.0060860114713581215
         },
         {
          "fitted_values": 1.3272694889444614,
          "residuals": 0.5527305110555385
         },
         {
          "fitted_values": 3.6097461538976967,
          "residuals": 0.35925384610230315
         },
         {
          "fitted_values": 1.8928686290944656,
          "residuals": 0.16713137090553443
         },
         {
          "fitted_values": 1.5595782740260198,
          "residuals": 0.010421725973980278
         },
         {
          "fitted_values": 3.376179923482358,
          "residuals": 0.4938200765176419
         },
         {
          "fitted_values": 1.423668691944723,
          "residuals": -0.07366869194472292
         },
         {
          "fitted_values": 2.87507095937036,
          "residuals": -0.005070959370359951
         },
         {
          "fitted_values": 4.945253275289221,
          "residuals": -0.2452532752892207
         },
         {
          "fitted_values": 2.5908352432678337,
          "residuals": -0.12883524326783347
         },
         {
          "fitted_values": 3.6358786630428552,
          "residuals": -0.7008786630428552
         },
         {
          "fitted_values": 2.7695629510613373,
          "residuals": -0.30956295106133735
         },
         {
          "fitted_values": 1.7954909808824397,
          "residuals": -0.2454909808824397
         },
         {
          "fitted_values": 1.6262571206126049,
          "residuals": 0.08374287938739511
         },
         {
          "fitted_values": 3.22632055035241,
          "residuals": -1.0043205503524102
         },
         {
          "fitted_values": 2.499910318397391,
          "residuals": -0.18891031839739103
         },
         {
          "fitted_values": 3.8111464489613067,
          "residuals": -0.13914644896130657
         },
         {
          "fitted_values": 1.6065248738915425,
          "residuals": 0.14347512610845747
         },
         {
          "fitted_values": 1.3686759350175721,
          "residuals": 1.7213240649824277
         },
         {
          "fitted_values": 1.4210663751132926,
          "residuals": -0.13106637511329255
         },
         {
          "fitted_values": 2.3451264349494667,
          "residuals": -0.3661264349494666
         },
         {
          "fitted_values": 2.5151457970710913,
          "residuals": 0.2458542029289088
         },
         {
          "fitted_values": 1.7861404084248431,
          "residuals": 1.0538595915751567
         },
         {
          "fitted_values": 3.217608779767846,
          "residuals": 0.2743912202321539
         },
         {
          "fitted_values": 2.3085049366169943,
          "residuals": -0.22650493661699445
         },
         {
          "fitted_values": 1.572409242837545,
          "residuals": 0.02759075716245518
         },
         {
          "fitted_values": 4.134855470375882,
          "residuals": -0.9938554703758822
         },
         {
          "fitted_values": 4.89853392307229,
          "residuals": -0.5835339230722898
         },
         {
          "fitted_values": 1.4775765641527836,
          "residuals": 0.1524234358472163
         },
         {
          "fitted_values": 2.150841938407019,
          "residuals": -0.7708419384070191
         },
         {
          "fitted_values": 3.80170325884506,
          "residuals": 0.2752967411549401
         },
         {
          "fitted_values": 3.828199338337735,
          "residuals": 0.3808006616622648
         },
         {
          "fitted_values": 1.9956961459485907,
          "residuals": 0.005303854051409207
         },
         {
          "fitted_values": 5.268840631297244,
          "residuals": 0.6081593687027569
         },
         {
          "fitted_values": 1.4169412403413477,
          "residuals": -0.18694124034134774
         },
         {
          "fitted_values": 4.2054204945038896,
          "residuals": 0.3555795054961104
         },
         {
          "fitted_values": 2.009993464828144,
          "residuals": -0.5999934648281442
         },
         {
          "fitted_values": 2.0244905152884622,
          "residuals": 0.10450948471153776
         },
         {
          "fitted_values": 2.1776747679185586,
          "residuals": 0.7173252320814414
         },
         {
          "fitted_values": 1.9185936434423887,
          "residuals": -0.1735936434423886
         },
         {
          "fitted_values": 2.7702978215574006,
          "residuals": -0.35529782155740053
         },
         {
          "fitted_values": 3.3804658953974176,
          "residuals": -1.2264658953974177
         },
         {
          "fitted_values": 3.477789981948738,
          "residuals": -0.08178998194873754
         },
         {
          "fitted_values": 2.8876962554788728,
          "residuals": -0.9706962554788727
         },
         {
          "fitted_values": 1.5023955437455556,
          "residuals": 0.08760445625444446
         },
         {
          "fitted_values": 1.468261356520972,
          "residuals": 0.24173864347902807
         },
         {
          "fitted_values": 2.4243613940688675,
          "residuals": -0.02036139406886761
         },
         {
          "fitted_values": 5.281321414406192,
          "residuals": 1.6316785855938072
         },
         {
          "fitted_values": 4.520971654834489,
          "residuals": 0.8660283451655113
         },
         {
          "fitted_values": 2.362269186532111,
          "residuals": -0.866269186532111
         },
         {
          "fitted_values": 1.616438612417727,
          "residuals": -0.05643861241772696
         },
         {
          "fitted_values": 1.8658817734459323,
          "residuals": 1.0221182265540676
         },
         {
          "fitted_values": 4.062634759387992,
          "residuals": -0.5526347593879919
         },
         {
          "fitted_values": 2.039767161348341,
          "residuals": 0.42123283865165906
         },
         {
          "fitted_values": 2.4704001591800697,
          "residuals": -0.04140015918006945
         },
         {
          "fitted_values": 1.939862185003139,
          "residuals": 0.314137814996861
         },
         {
          "fitted_values": 2.2074739072589944,
          "residuals": 0.3685260927410057
         },
         {
          "fitted_values": 1.4853828626552776,
          "residuals": -0.02538286265527767
         },
         {
          "fitted_values": 1.3561232151593714,
          "residuals": 0.06387678484062853
         },
         {
          "fitted_values": 1.961124690886563,
          "residuals": -0.09512469088656283
         },
         {
          "fitted_values": 2.0032478039089123,
          "residuals": -0.24324780390891232
         },
         {
          "fitted_values": 1.7633204688913895,
          "residuals": -0.18432046889138953
         },
         {
          "fitted_values": 3.872436404714295,
          "residuals": 0.17156359528570464
         },
         {
          "fitted_values": 2.299898425859973,
          "residuals": 0.01910157414002711
         },
         {
          "fitted_values": 3.9589213471576294,
          "residuals": 0.6660786528423706
         },
         {
          "fitted_values": 1.8166195558859901,
          "residuals": -0.3266195558859901
         },
         {
          "fitted_values": 4.770596054460374,
          "residuals": -0.5075960544603744
         },
         {
          "fitted_values": 1.443645555924843,
          "residuals": -0.303645555924843
         },
         {
          "fitted_values": 1.2870031272967013,
          "residuals": 0.3229968727032988
         },
         {
          "fitted_values": 3.27443543505865,
          "residuals": -0.8694354350586502
         },
         {
          "fitted_values": 1.3383467584993596,
          "residuals": -0.07834675849935957
         },
         {
          "fitted_values": 1.8353443944115422,
          "residuals": 0.36365560558845766
         },
         {
          "fitted_values": 4.322922682874837,
          "residuals": 0.0840773171251632
         },
         {
          "fitted_values": 1.4319929143681838,
          "residuals": 0.32800708563181624
         },
         {
          "fitted_values": 1.6540824096941935,
          "residuals": -0.1340824096941935
         },
         {
          "fitted_values": 3.0928665483583546,
          "residuals": 0.49213345164164535
         },
         {
          "fitted_values": 1.8306654895208463,
          "residuals": -0.3056654895208464
         },
         {
          "fitted_values": 3.0912827367362645,
          "residuals": 0.9317172632637352
         },
         {
          "fitted_values": 4.362367683552201,
          "residuals": -0.04236768355220111
         },
         {
          "fitted_values": 2.6205863712817172,
          "residuals": 0.9354136287182828
         },
         {
          "fitted_values": 2.435783657466567,
          "residuals": -0.23878365746656716
         },
         {
          "fitted_values": 1.9986749842217943,
          "residuals": 0.0703250157782056
         },
         {
          "fitted_values": 2.0075656387925975,
          "residuals": -0.7065656387925976
         },
         {
          "fitted_values": 1.989267965861667,
          "residuals": -0.576267965861667
         },
         {
          "fitted_values": 1.4873491166455026,
          "residuals": 0.19265088335449732
         },
         {
          "fitted_values": 1.8755277801285797,
          "residuals": -0.14602778012857964
         },
         {
          "fitted_values": 1.7807335409413318,
          "residuals": 0.19226645905866824
         },
         {
          "fitted_values": 2.5380249709513194,
          "residuals": 0.06597502904868069
         },
         {
          "fitted_values": 3.7419758512726484,
          "residuals": 0.8910241487273516
         },
         {
          "fitted_values": 3.7232155997000067,
          "residuals": -0.10821559970000649
         }
        ]
       },
       "encoding": {
        "x": {
         "field": "fitted_values",
         "type": "quantitative"
        },
        "y": {
         "field": "residuals",
         "type": "quantitative"
        }
       },
       "height": 300,
       "mark": "circle",
       "width": 300
      },
      "image/png": "[encoded data removed]",
      "text/plain": [
       "<VegaLite 4 object>\n",
       "\n",
       "If you see this message, it means the renderer has not been properly enabled\n",
       "for the frontend that you are using. For more information, see\n",
       "https://altair-viz.github.io/user_guide/troubleshooting.html\n"
      ]
     },
     "execution_count": 84,
     "metadata": {},
     "output_type": "execute_result"
    }
   ],
   "source": [
    "# residual plot\n",
    "res_scatter = alt.Chart(df).mark_circle().encode( \n",
    "    x = alt.X(\"fitted_values:Q\"),\n",
    "    y = alt.Y(\"residuals:Q\")\n",
    ").properties( \n",
    "    width = 300,\n",
    "    height = 300)\n",
    "\n",
    "res_scatter"
   ]
  },
  {
   "cell_type": "markdown",
   "id": "fa7b43c7-e5b2-4c69-895f-f377ef6aa3e3",
   "metadata": {},
   "source": [
    "The residual plot displays homoscedasticity ie., constant error variance. There is no apparent pattern in the scatter of the residuals, and there seems to be somewhat of a symmetric distance about 0. Linearity and constant variance assumptions are probably met, which indicates that our results are likely not distorted."
   ]
  },
  {
   "cell_type": "markdown",
   "id": "95922dab-7309-4808-a978-1c43a3f4d1a0",
   "metadata": {},
   "source": [
    "## Conclusion"
   ]
  },
  {
   "cell_type": "markdown",
   "id": "e0c3baf4-f26d-4d07-aeab-d70eaae77f30",
   "metadata": {},
   "source": [
    "In this project, we investigated the phenomena of declining fertility rates across select countries in the year 2018. We had a relatively small dataset and a large number of variables that were mostly unrelated to our research questions. We tidied the dataset, conducted principal component analysis to examine variation in the data, performed exploratory analysis to visualize patterns / trends, fit a supervixed model, and evaluated the results. Through analysis, testing, and assessment, we determined that both improvements in well-being and the increasing social mobility of women are negative associated with fertility rates. Due to time constraints and the complexity of the questions addressed, we leave room for further analysis. \n",
    "\n",
    "The fertility rate of a country is very random and can vary widely through time. Because our model is not very robust to nuisance factors and noise, we were unable to capture a very clear picture of all the factors impacting a country's fertility rate. Our scope was also very limited, as we only focus on 2018 data. With this understanding, the next step would be to include more variables and address potential missingness, instead of simply excluding variables and observations as a whole. Then, one may fit several models of varying complexity and flexibility, and look to prediction metrics to evaluate goodness-of-fit. Another possibility is time series modeling, so that one may account for potential autocorrelation.  "
   ]
  }
 ],
 "metadata": {
  "kernelspec": {
   "display_name": "Python 3 (ipykernel)",
   "language": "python",
   "name": "python3"
  },
  "language_info": {
   "codemirror_mode": {
    "name": "ipython",
    "version": 3
   },
   "file_extension": ".py",
   "mimetype": "text/x-python",
   "name": "python",
   "nbconvert_exporter": "python",
   "pygments_lexer": "ipython3",
   "version": "3.10.9"
  }
 },
 "nbformat": 4,
 "nbformat_minor": 5
}
